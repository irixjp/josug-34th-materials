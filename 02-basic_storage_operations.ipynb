{
 "cells": [
  {
   "cell_type": "markdown",
   "metadata": {},
   "source": [
    "### 基礎的なストレージ操作を行います"
   ]
  },
  {
   "cell_type": "markdown",
   "metadata": {},
   "source": [
    "#### 仮想マシンの作成\n",
    "まず、ストレージを接続するための仮想マシンを２台作成します。"
   ]
  },
  {
   "cell_type": "code",
   "execution_count": 1,
   "metadata": {},
   "outputs": [
    {
     "name": "stdout",
     "output_type": "stream",
     "text": [
      "+--------------------------------------+-----------------------------------------------------+\n",
      "| Property                             | Value                                               |\n",
      "+--------------------------------------+-----------------------------------------------------+\n",
      "| OS-DCF:diskConfig                    | MANUAL                                              |\n",
      "| OS-EXT-AZ:availability_zone          |                                                     |\n",
      "| OS-EXT-STS:power_state               | 0                                                   |\n",
      "| OS-EXT-STS:task_state                | scheduling                                          |\n",
      "| OS-EXT-STS:vm_state                  | building                                            |\n",
      "| OS-SRV-USG:launched_at               | -                                                   |\n",
      "| OS-SRV-USG:terminated_at             | -                                                   |\n",
      "| accessIPv4                           |                                                     |\n",
      "| accessIPv6                           |                                                     |\n",
      "| adminPass                            | mNA7RkosVhrM                                        |\n",
      "| config_drive                         |                                                     |\n",
      "| created                              | 2017-05-21T10:06:12Z                                |\n",
      "| description                          | -                                                   |\n",
      "| flavor                               | m1.tiny (1)                                         |\n",
      "| hostId                               |                                                     |\n",
      "| id                                   | ba94305e-af89-4a09-94af-4edd3d897e88                |\n",
      "| image                                | cirros-0.3.5 (66722486-ac79-4cd2-9a7d-c2479a9f6f92) |\n",
      "| key_name                             | my-key                                              |\n",
      "| locked                               | False                                               |\n",
      "| metadata                             | {}                                                  |\n",
      "| name                                 | test-vm-2-1                                         |\n",
      "| os-extended-volumes:volumes_attached | []                                                  |\n",
      "| progress                             | 0                                                   |\n",
      "| security_groups                      | open-all                                            |\n",
      "| status                               | BUILD                                               |\n",
      "| tags                                 | []                                                  |\n",
      "| tenant_id                            | 44be7b065a154e33aacbe7dbca18c6be                    |\n",
      "| updated                              | 2017-05-21T10:06:12Z                                |\n",
      "| user_id                              | 8e9f38ff948143899c04c764848ef8d3                    |\n",
      "+--------------------------------------+-----------------------------------------------------+\n"
     ]
    }
   ],
   "source": [
    "function get_uuid () { cat - | grep \" id \" | awk '{print $4}'; }\n",
    "export MY_WORK_NET=`neutron net-show work-net | get_uuid`\n",
    "\n",
    "nova boot --flavor m1.tiny --image \"cirros-0.3.5\" \\\n",
    "--key-name my-key --security-groups open-all \\\n",
    "--nic net-id=${MY_WORK_NET} \\\n",
    "--min-count 2 \\\n",
    "test-vm-2"
   ]
  },
  {
   "cell_type": "markdown",
   "metadata": {},
   "source": [
    "仮想マシンの起動を確認します。"
   ]
  },
  {
   "cell_type": "code",
   "execution_count": 2,
   "metadata": {},
   "outputs": [
    {
     "name": "stdout",
     "output_type": "stream",
     "text": [
      "+--------------------------------------+-------------+--------+------------+-------------+----------+\n",
      "| ID                                   | Name        | Status | Task State | Power State | Networks |\n",
      "+--------------------------------------+-------------+--------+------------+-------------+----------+\n",
      "| ba94305e-af89-4a09-94af-4edd3d897e88 | test-vm-2-1 | BUILD  | networking | NOSTATE     |          |\n",
      "| db36dbf3-68ef-45e3-a9e8-2d1cbcee0874 | test-vm-2-2 | BUILD  | networking | NOSTATE     |          |\n",
      "+--------------------------------------+-------------+--------+------------+-------------+----------+\n"
     ]
    }
   ],
   "source": [
    "nova list"
   ]
  },
  {
   "cell_type": "code",
   "execution_count": 5,
   "metadata": {},
   "outputs": [
    {
     "name": "stdout",
     "output_type": "stream",
     "text": [
      "+--------------------------------------+-------------+--------+------------+-------------+----------------------+\n",
      "| ID                                   | Name        | Status | Task State | Power State | Networks             |\n",
      "+--------------------------------------+-------------+--------+------------+-------------+----------------------+\n",
      "| ba94305e-af89-4a09-94af-4edd3d897e88 | test-vm-2-1 | ACTIVE | -          | Running     | work-net=172.16.11.6 |\n",
      "| db36dbf3-68ef-45e3-a9e8-2d1cbcee0874 | test-vm-2-2 | ACTIVE | -          | Running     | work-net=172.16.11.8 |\n",
      "+--------------------------------------+-------------+--------+------------+-------------+----------------------+\n"
     ]
    }
   ],
   "source": [
    "nova list"
   ]
  },
  {
   "cell_type": "markdown",
   "metadata": {},
   "source": [
    "Floating IPを２つ確保しておきます。"
   ]
  },
  {
   "cell_type": "code",
   "execution_count": 6,
   "metadata": {},
   "outputs": [
    {
     "name": "stdout",
     "output_type": "stream",
     "text": [
      "Created a new floatingip:\n",
      "+---------------------+--------------------------------------+\n",
      "| Field               | Value                                |\n",
      "+---------------------+--------------------------------------+\n",
      "| created_at          | 2017-05-21T10:07:25Z                 |\n",
      "| description         |                                      |\n",
      "| fixed_ip_address    |                                      |\n",
      "| floating_ip_address | 192.168.99.206                       |\n",
      "| floating_network_id | 17e4bba8-2a15-46fb-ab54-fb463aee503c |\n",
      "| id                  | efdc6555-6f7e-4d4b-9e7b-dceae2bb2d2b |\n",
      "| port_id             |                                      |\n",
      "| project_id          | 44be7b065a154e33aacbe7dbca18c6be     |\n",
      "| revision_number     | 1                                    |\n",
      "| router_id           |                                      |\n",
      "| status              | DOWN                                 |\n",
      "| tenant_id           | 44be7b065a154e33aacbe7dbca18c6be     |\n",
      "| updated_at          | 2017-05-21T10:07:25Z                 |\n",
      "+---------------------+--------------------------------------+\n"
     ]
    }
   ],
   "source": [
    "neutron floatingip-create public"
   ]
  },
  {
   "cell_type": "code",
   "execution_count": 7,
   "metadata": {},
   "outputs": [
    {
     "name": "stdout",
     "output_type": "stream",
     "text": [
      "Created a new floatingip:\n",
      "+---------------------+--------------------------------------+\n",
      "| Field               | Value                                |\n",
      "+---------------------+--------------------------------------+\n",
      "| created_at          | 2017-05-21T10:07:31Z                 |\n",
      "| description         |                                      |\n",
      "| fixed_ip_address    |                                      |\n",
      "| floating_ip_address | 192.168.99.211                       |\n",
      "| floating_network_id | 17e4bba8-2a15-46fb-ab54-fb463aee503c |\n",
      "| id                  | 39822dc3-d688-4a20-86a4-92dfb47ae818 |\n",
      "| port_id             |                                      |\n",
      "| project_id          | 44be7b065a154e33aacbe7dbca18c6be     |\n",
      "| revision_number     | 1                                    |\n",
      "| router_id           |                                      |\n",
      "| status              | DOWN                                 |\n",
      "| tenant_id           | 44be7b065a154e33aacbe7dbca18c6be     |\n",
      "| updated_at          | 2017-05-21T10:07:31Z                 |\n",
      "+---------------------+--------------------------------------+\n"
     ]
    }
   ],
   "source": [
    "neutron floatingip-create public"
   ]
  },
  {
   "cell_type": "code",
   "execution_count": 8,
   "metadata": {},
   "outputs": [
    {
     "name": "stdout",
     "output_type": "stream",
     "text": [
      "+------------------------+------------------+---------------------+---------+\n",
      "| id                     | fixed_ip_address | floating_ip_address | port_id |\n",
      "+------------------------+------------------+---------------------+---------+\n",
      "| 39822dc3-d688-4a20-86a |                  | 192.168.99.211      |         |\n",
      "| 4-92dfb47ae818         |                  |                     |         |\n",
      "| efdc6555-6f7e-4d4b-    |                  | 192.168.99.206      |         |\n",
      "| 9e7b-dceae2bb2d2b      |                  |                     |         |\n",
      "+------------------------+------------------+---------------------+---------+\n"
     ]
    }
   ],
   "source": [
    "neutron floatingip-list"
   ]
  },
  {
   "cell_type": "code",
   "execution_count": 9,
   "metadata": {},
   "outputs": [
    {
     "name": "stdout",
     "output_type": "stream",
     "text": [
      "+-----------------------+------+-------------------+-----------------------+\n",
      "| id                    | name | mac_address       | fixed_ips             |\n",
      "+-----------------------+------+-------------------+-----------------------+\n",
      "| 49e343da-1072-4a28-86 |      | fa:16:3e:c0:40:90 | {\"subnet_id\":         |\n",
      "| 09-14d27288fea8       |      |                   | \"54718494-45cf-41e4   |\n",
      "|                       |      |                   | -8a7e-c4c36ba90d0d\",  |\n",
      "|                       |      |                   | \"ip_address\":         |\n",
      "|                       |      |                   | \"172.16.11.6\"}        |\n",
      "| 743eba6a-9ee4-47b6    |      | fa:16:3e:df:7b:bc | {\"subnet_id\":         |\n",
      "| -af2b-78a3d2d0470c    |      |                   | \"54718494-45cf-41e4   |\n",
      "|                       |      |                   | -8a7e-c4c36ba90d0d\",  |\n",
      "|                       |      |                   | \"ip_address\":         |\n",
      "|                       |      |                   | \"172.16.11.8\"}        |\n",
      "| 8bfa4a6b-aac1-4ffc-   |      | fa:16:3e:ba:53:67 | {\"subnet_id\":         |\n",
      "| 9fd6-a872d194fdd6     |      |                   | \"54718494-45cf-41e4   |\n",
      "|                       |      |                   | -8a7e-c4c36ba90d0d\",  |\n",
      "|                       |      |                   | \"ip_address\":         |\n",
      "|                       |      |                   | \"172.16.11.254\"}      |\n",
      "| e860040f-d97d-4e4a-   |      | fa:16:3e:5a:65:20 | {\"subnet_id\":         |\n",
      "| aa21-40e527a70cef     |      |                   | \"54718494-45cf-41e4   |\n",
      "|                       |      |                   | -8a7e-c4c36ba90d0d\",  |\n",
      "|                       |      |                   | \"ip_address\":         |\n",
      "|                       |      |                   | \"172.16.11.1\"}        |\n",
      "+-----------------------+------+-------------------+-----------------------+\n"
     ]
    }
   ],
   "source": [
    "neutron port-list"
   ]
  },
  {
   "cell_type": "markdown",
   "metadata": {},
   "source": [
    "２台の仮想マシンへそれぞれFloating IPを割り当てます。"
   ]
  },
  {
   "cell_type": "code",
   "execution_count": 10,
   "metadata": {},
   "outputs": [
    {
     "name": "stdout",
     "output_type": "stream",
     "text": [
      "Associated floating IP efdc6555-6f7e-4d4b-9e7b-dceae2bb2d2b\n"
     ]
    }
   ],
   "source": [
    "neutron floatingip-associate efdc6555-6f7e-4d4b-9e7b-dceae2bb2d2b 49e343da-1072-4a28-8609-14d27288fea8"
   ]
  },
  {
   "cell_type": "code",
   "execution_count": 11,
   "metadata": {},
   "outputs": [
    {
     "name": "stdout",
     "output_type": "stream",
     "text": [
      "Associated floating IP 39822dc3-d688-4a20-86a4-92dfb47ae818\n"
     ]
    }
   ],
   "source": [
    "neutron floatingip-associate 39822dc3-d688-4a20-86a4-92dfb47ae818 743eba6a-9ee4-47b6-af2b-78a3d2d0470c"
   ]
  },
  {
   "cell_type": "code",
   "execution_count": 12,
   "metadata": {},
   "outputs": [
    {
     "name": "stdout",
     "output_type": "stream",
     "text": [
      "+--------------------------------------+-------------+--------+------------+-------------+--------------------------------------+\n",
      "| ID                                   | Name        | Status | Task State | Power State | Networks                             |\n",
      "+--------------------------------------+-------------+--------+------------+-------------+--------------------------------------+\n",
      "| ba94305e-af89-4a09-94af-4edd3d897e88 | test-vm-2-1 | ACTIVE | -          | Running     | work-net=172.16.11.6, 192.168.99.206 |\n",
      "| db36dbf3-68ef-45e3-a9e8-2d1cbcee0874 | test-vm-2-2 | ACTIVE | -          | Running     | work-net=172.16.11.8, 192.168.99.211 |\n",
      "+--------------------------------------+-------------+--------+------------+-------------+--------------------------------------+\n"
     ]
    }
   ],
   "source": [
    "nova list"
   ]
  },
  {
   "cell_type": "markdown",
   "metadata": {},
   "source": [
    "#### ボリュームの作成とサーバーとの接続\n",
    "ここでは１GBのボリュームを作成します。"
   ]
  },
  {
   "cell_type": "code",
   "execution_count": 13,
   "metadata": {},
   "outputs": [
    {
     "name": "stdout",
     "output_type": "stream",
     "text": [
      "+------------------------------+--------------------------------------+\n",
      "| Property                     | Value                                |\n",
      "+------------------------------+--------------------------------------+\n",
      "| attachments                  | []                                   |\n",
      "| availability_zone            | nova                                 |\n",
      "| bootable                     | false                                |\n",
      "| consistencygroup_id          | None                                 |\n",
      "| created_at                   | 2017-05-21T10:09:24.000000           |\n",
      "| description                  | None                                 |\n",
      "| encrypted                    | False                                |\n",
      "| id                           | 6c9f2f27-8990-4468-9b2d-c53babf0fe87 |\n",
      "| metadata                     | {}                                   |\n",
      "| multiattach                  | False                                |\n",
      "| name                         | test-vol2                            |\n",
      "| os-vol-tenant-attr:tenant_id | 44be7b065a154e33aacbe7dbca18c6be     |\n",
      "| replication_status           | disabled                             |\n",
      "| size                         | 1                                    |\n",
      "| snapshot_id                  | None                                 |\n",
      "| source_volid                 | None                                 |\n",
      "| status                       | creating                             |\n",
      "| updated_at                   | None                                 |\n",
      "| user_id                      | 8e9f38ff948143899c04c764848ef8d3     |\n",
      "| volume_type                  | iscsi                                |\n",
      "+------------------------------+--------------------------------------+\n"
     ]
    }
   ],
   "source": [
    "cinder create --name test-vol2 1"
   ]
  },
  {
   "cell_type": "code",
   "execution_count": 14,
   "metadata": {},
   "outputs": [
    {
     "name": "stdout",
     "output_type": "stream",
     "text": [
      "+--------------------------------------+-----------+-----------+------+-------------+----------+-------------+\n",
      "| ID                                   | Status    | Name      | Size | Volume Type | Bootable | Attached to |\n",
      "+--------------------------------------+-----------+-----------+------+-------------+----------+-------------+\n",
      "| 6c9f2f27-8990-4468-9b2d-c53babf0fe87 | available | test-vol2 | 1    | iscsi       | false    |             |\n",
      "+--------------------------------------+-----------+-----------+------+-------------+----------+-------------+\n"
     ]
    }
   ],
   "source": [
    "cinder list"
   ]
  },
  {
   "cell_type": "markdown",
   "metadata": {},
   "source": [
    "１台目のサーバーにボリュームを接続します。この時に、接続前の状態を確認しておきます。"
   ]
  },
  {
   "cell_type": "code",
   "execution_count": 15,
   "metadata": {},
   "outputs": [
    {
     "name": "stdout",
     "output_type": "stream",
     "text": [
      "Warning: Permanently added '192.168.99.206' (RSA) to the list of known hosts.\n",
      "test-vm-2-1\n",
      "NAME   MAJ:MIN RM    SIZE RO TYPE MOUNTPOINT\n",
      "vda    253:0    0      1G  0 disk \n",
      "`-vda1 253:1    0 1011.9M  0 part /\n"
     ]
    }
   ],
   "source": [
    "ssh -oStrictHostKeyChecking=no -i ~/my-key.pem cirros@192.168.99.206 'hostname; lsblk'"
   ]
  },
  {
   "cell_type": "markdown",
   "metadata": {},
   "source": [
    "サーバーにボリュームを接続します。引数にはボリュームのUUIDを指定します。"
   ]
  },
  {
   "cell_type": "code",
   "execution_count": 16,
   "metadata": {},
   "outputs": [
    {
     "name": "stdout",
     "output_type": "stream",
     "text": [
      "+----------+--------------------------------------+\n",
      "| Property | Value                                |\n",
      "+----------+--------------------------------------+\n",
      "| device   | /dev/vdb                             |\n",
      "| id       | 6c9f2f27-8990-4468-9b2d-c53babf0fe87 |\n",
      "| serverId | ba94305e-af89-4a09-94af-4edd3d897e88 |\n",
      "| volumeId | 6c9f2f27-8990-4468-9b2d-c53babf0fe87 |\n",
      "+----------+--------------------------------------+\n"
     ]
    }
   ],
   "source": [
    "nova volume-attach test-vm-2-1 6c9f2f27-8990-4468-9b2d-c53babf0fe87"
   ]
  },
  {
   "cell_type": "code",
   "execution_count": 17,
   "metadata": {},
   "outputs": [
    {
     "name": "stdout",
     "output_type": "stream",
     "text": [
      "+--------------------------------------+--------+-----------+------+-------------+----------+--------------------------------------+\n",
      "| ID                                   | Status | Name      | Size | Volume Type | Bootable | Attached to                          |\n",
      "+--------------------------------------+--------+-----------+------+-------------+----------+--------------------------------------+\n",
      "| 6c9f2f27-8990-4468-9b2d-c53babf0fe87 | in-use | test-vol2 | 1    | iscsi       | false    | ba94305e-af89-4a09-94af-4edd3d897e88 |\n",
      "+--------------------------------------+--------+-----------+------+-------------+----------+--------------------------------------+\n"
     ]
    }
   ],
   "source": [
    "cinder list"
   ]
  },
  {
   "cell_type": "code",
   "execution_count": 18,
   "metadata": {},
   "outputs": [
    {
     "name": "stdout",
     "output_type": "stream",
     "text": [
      "test-vm-2-1\n",
      "NAME   MAJ:MIN RM    SIZE RO TYPE MOUNTPOINT\n",
      "vda    253:0    0      1G  0 disk \n",
      "`-vda1 253:1    0 1011.9M  0 part /\n",
      "vdb    253:16   0      1G  0 disk \n"
     ]
    }
   ],
   "source": [
    "ssh -oStrictHostKeyChecking=no -i ~/my-key.pem cirros@192.168.99.206 'hostname; lsblk'"
   ]
  },
  {
   "cell_type": "markdown",
   "metadata": {},
   "source": [
    "#### 接続されたボリュームの利用\n",
    "ボリュームをフォーマット＆マウントし、テスト用のファイルを配置しておきます。"
   ]
  },
  {
   "cell_type": "markdown",
   "metadata": {},
   "source": [
    "```\n",
    "$ ssh -oStrictHostKeyChecking=no -i ~/my-key.pem cirros@192.168.99.206\n",
    "\n",
    "$ sudo mkdir -p /mnt/cinder-vol\n",
    "$ sudo fdisk /dev/vdb\n",
    "$ sudo mkfs.ext4 /dev/vdb1\n",
    "$ sudo mount /dev/vdb1 /mnt/cinder-vol\n",
    "\n",
    "$ sudo sh -c \"echo your_name >> /mnt/cinder-vol/my-data.txt\"\n",
    "$ sudo cat /mnt/cinder-vol/my-data.txt\n",
    "\n",
    "$ sudo sync\n",
    "$ sudo umount /mnt/cinder-vol\n",
    "```"
   ]
  },
  {
   "cell_type": "markdown",
   "metadata": {},
   "source": [
    "#### ボリュームの切断と再接続"
   ]
  },
  {
   "cell_type": "code",
   "execution_count": 24,
   "metadata": {},
   "outputs": [],
   "source": [
    "nova volume-detach test-vm-2-1 6c9f2f27-8990-4468-9b2d-c53babf0fe87"
   ]
  },
  {
   "cell_type": "code",
   "execution_count": 25,
   "metadata": {},
   "outputs": [
    {
     "name": "stdout",
     "output_type": "stream",
     "text": [
      "+--------------------------------------+-----------+-----------+------+-------------+----------+--------------------------------------+\n",
      "| ID                                   | Status    | Name      | Size | Volume Type | Bootable | Attached to                          |\n",
      "+--------------------------------------+-----------+-----------+------+-------------+----------+--------------------------------------+\n",
      "| 6c9f2f27-8990-4468-9b2d-c53babf0fe87 | detaching | test-vol2 | 1    | iscsi       | false    | ba94305e-af89-4a09-94af-4edd3d897e88 |\n",
      "+--------------------------------------+-----------+-----------+------+-------------+----------+--------------------------------------+\n"
     ]
    }
   ],
   "source": [
    "cinder list"
   ]
  },
  {
   "cell_type": "markdown",
   "metadata": {},
   "source": [
    "ボリュームが切断され、OSから確認できなくなっています。"
   ]
  },
  {
   "cell_type": "code",
   "execution_count": 26,
   "metadata": {},
   "outputs": [
    {
     "name": "stdout",
     "output_type": "stream",
     "text": [
      "test-vm-2-1\n",
      "NAME   MAJ:MIN RM    SIZE RO TYPE MOUNTPOINT\n",
      "vda    253:0    0      1G  0 disk \n",
      "`-vda1 253:1    0 1011.9M  0 part /\n"
     ]
    }
   ],
   "source": [
    "ssh -oStrictHostKeyChecking=no -i ~/my-key.pem cirros@192.168.99.206 'hostname; lsblk'"
   ]
  },
  {
   "cell_type": "markdown",
   "metadata": {},
   "source": [
    "切断したボリュームをもう１台のサーバーへ接続します。"
   ]
  },
  {
   "cell_type": "code",
   "execution_count": 31,
   "metadata": {},
   "outputs": [
    {
     "name": "stdout",
     "output_type": "stream",
     "text": [
      "+----------+--------------------------------------+\n",
      "| Property | Value                                |\n",
      "+----------+--------------------------------------+\n",
      "| device   | /dev/vdb                             |\n",
      "| id       | 6c9f2f27-8990-4468-9b2d-c53babf0fe87 |\n",
      "| serverId | db36dbf3-68ef-45e3-a9e8-2d1cbcee0874 |\n",
      "| volumeId | 6c9f2f27-8990-4468-9b2d-c53babf0fe87 |\n",
      "+----------+--------------------------------------+\n"
     ]
    }
   ],
   "source": [
    "nova volume-attach test-vm-2-2 6c9f2f27-8990-4468-9b2d-c53babf0fe87"
   ]
  },
  {
   "cell_type": "code",
   "execution_count": 32,
   "metadata": {},
   "outputs": [
    {
     "name": "stdout",
     "output_type": "stream",
     "text": [
      "+--------------------------------------+--------+-----------+------+-------------+----------+--------------------------------------+\n",
      "| ID                                   | Status | Name      | Size | Volume Type | Bootable | Attached to                          |\n",
      "+--------------------------------------+--------+-----------+------+-------------+----------+--------------------------------------+\n",
      "| 6c9f2f27-8990-4468-9b2d-c53babf0fe87 | in-use | test-vol2 | 1    | iscsi       | false    | db36dbf3-68ef-45e3-a9e8-2d1cbcee0874 |\n",
      "+--------------------------------------+--------+-----------+------+-------------+----------+--------------------------------------+\n"
     ]
    }
   ],
   "source": [
    "cinder list"
   ]
  },
  {
   "cell_type": "markdown",
   "metadata": {},
   "source": [
    "サーバー側の状態を確認すると、先程作成したボリュームが確認できます。"
   ]
  },
  {
   "cell_type": "code",
   "execution_count": 33,
   "metadata": {},
   "outputs": [
    {
     "name": "stdout",
     "output_type": "stream",
     "text": [
      "test-vm-2-2\n",
      "NAME   MAJ:MIN RM    SIZE RO TYPE MOUNTPOINT\n",
      "vda    253:0    0      1G  0 disk \n",
      "`-vda1 253:1    0 1011.9M  0 part /\n",
      "vdb    253:16   0      1G  0 disk \n",
      "`-vdb1 253:17   0   1023M  0 part \n"
     ]
    }
   ],
   "source": [
    "ssh -oStrictHostKeyChecking=no -i ~/my-key.pem cirros@192.168.99.211 'hostname; lsblk'"
   ]
  },
  {
   "cell_type": "code",
   "execution_count": 36,
   "metadata": {},
   "outputs": [
    {
     "name": "stdout",
     "output_type": "stream",
     "text": [
      "your_name\n"
     ]
    }
   ],
   "source": [
    "ssh -oStrictHostKeyChecking=no -i ~/my-key.pem cirros@192.168.99.211 'sudo mkdir -p /mnt/cinder-vol; sudo mount /dev/vdb1 /mnt/cinder-vol; sudo cat /mnt/cinder-vol/my-data.txt'"
   ]
  },
  {
   "cell_type": "markdown",
   "metadata": {},
   "source": [
    "#### アンマウントとボリュームの切断\n",
    "次の作業のために、ボリュームを切断しておきます。"
   ]
  },
  {
   "cell_type": "code",
   "execution_count": 37,
   "metadata": {},
   "outputs": [],
   "source": [
    "ssh -oStrictHostKeyChecking=no -i ~/my-key.pem cirros@192.168.99.211 'sudo umount /mnt/cinder-vol'"
   ]
  },
  {
   "cell_type": "code",
   "execution_count": 38,
   "metadata": {
    "collapsed": true
   },
   "outputs": [],
   "source": [
    "nova volume-detach test-vm-2-2 6c9f2f27-8990-4468-9b2d-c53babf0fe87"
   ]
  },
  {
   "cell_type": "code",
   "execution_count": 39,
   "metadata": {},
   "outputs": [
    {
     "name": "stdout",
     "output_type": "stream",
     "text": [
      "+--------------------------------------+-----------+-----------+------+-------------+----------+-------------+\n",
      "| ID                                   | Status    | Name      | Size | Volume Type | Bootable | Attached to |\n",
      "+--------------------------------------+-----------+-----------+------+-------------+----------+-------------+\n",
      "| 6c9f2f27-8990-4468-9b2d-c53babf0fe87 | available | test-vol2 | 1    | iscsi       | false    |             |\n",
      "+--------------------------------------+-----------+-----------+------+-------------+----------+-------------+\n"
     ]
    }
   ],
   "source": [
    "cinder list"
   ]
  },
  {
   "cell_type": "markdown",
   "metadata": {},
   "source": [
    "#### ボリュームの複製\n",
    "ボリュームの複製もCinderから行うことができます。"
   ]
  },
  {
   "cell_type": "code",
   "execution_count": 40,
   "metadata": {},
   "outputs": [
    {
     "name": "stdout",
     "output_type": "stream",
     "text": [
      "+--------------------------------------+-----------+-----------+------+-------------+----------+-------------+\n",
      "| ID                                   | Status    | Name      | Size | Volume Type | Bootable | Attached to |\n",
      "+--------------------------------------+-----------+-----------+------+-------------+----------+-------------+\n",
      "| 6c9f2f27-8990-4468-9b2d-c53babf0fe87 | available | test-vol2 | 1    | iscsi       | false    |             |\n",
      "+--------------------------------------+-----------+-----------+------+-------------+----------+-------------+\n"
     ]
    }
   ],
   "source": [
    "cinder list"
   ]
  },
  {
   "cell_type": "markdown",
   "metadata": {},
   "source": [
    "オリジナルボリュームからのクローン"
   ]
  },
  {
   "cell_type": "code",
   "execution_count": 41,
   "metadata": {},
   "outputs": [
    {
     "name": "stdout",
     "output_type": "stream",
     "text": [
      "+------------------------------+--------------------------------------+\n",
      "| Property                     | Value                                |\n",
      "+------------------------------+--------------------------------------+\n",
      "| attachments                  | []                                   |\n",
      "| availability_zone            | nova                                 |\n",
      "| bootable                     | false                                |\n",
      "| consistencygroup_id          | None                                 |\n",
      "| created_at                   | 2017-05-21T10:34:01.000000           |\n",
      "| description                  | None                                 |\n",
      "| encrypted                    | False                                |\n",
      "| id                           | 263824f7-4b01-4fd2-9e88-32e0eb7ea700 |\n",
      "| metadata                     | {}                                   |\n",
      "| multiattach                  | False                                |\n",
      "| name                         | clone-vol                            |\n",
      "| os-vol-tenant-attr:tenant_id | 44be7b065a154e33aacbe7dbca18c6be     |\n",
      "| replication_status           | disabled                             |\n",
      "| size                         | 1                                    |\n",
      "| snapshot_id                  | None                                 |\n",
      "| source_volid                 | 6c9f2f27-8990-4468-9b2d-c53babf0fe87 |\n",
      "| status                       | creating                             |\n",
      "| updated_at                   | 2017-05-21T10:34:01.000000           |\n",
      "| user_id                      | 8e9f38ff948143899c04c764848ef8d3     |\n",
      "| volume_type                  | iscsi                                |\n",
      "+------------------------------+--------------------------------------+\n"
     ]
    }
   ],
   "source": [
    "cinder create --name clone-vol --source-volid 6c9f2f27-8990-4468-9b2d-c53babf0fe87"
   ]
  },
  {
   "cell_type": "code",
   "execution_count": 42,
   "metadata": {},
   "outputs": [
    {
     "name": "stdout",
     "output_type": "stream",
     "text": [
      "+--------------------------------------+-----------+-----------+------+-------------+----------+-------------+\n",
      "| ID                                   | Status    | Name      | Size | Volume Type | Bootable | Attached to |\n",
      "+--------------------------------------+-----------+-----------+------+-------------+----------+-------------+\n",
      "| 263824f7-4b01-4fd2-9e88-32e0eb7ea700 | available | clone-vol | 1    | iscsi       | false    |             |\n",
      "| 6c9f2f27-8990-4468-9b2d-c53babf0fe87 | available | test-vol2 | 1    | iscsi       | false    |             |\n",
      "+--------------------------------------+-----------+-----------+------+-------------+----------+-------------+\n"
     ]
    }
   ],
   "source": [
    "cinder list"
   ]
  },
  {
   "cell_type": "markdown",
   "metadata": {},
   "source": [
    "スナップショットからのクローン"
   ]
  },
  {
   "cell_type": "code",
   "execution_count": 43,
   "metadata": {},
   "outputs": [
    {
     "name": "stdout",
     "output_type": "stream",
     "text": [
      "+-------------+--------------------------------------+\n",
      "| Property    | Value                                |\n",
      "+-------------+--------------------------------------+\n",
      "| created_at  | 2017-05-21T10:39:20.539290           |\n",
      "| description | None                                 |\n",
      "| id          | e611f074-3fc3-4785-ad84-bc2f22e1c5fb |\n",
      "| metadata    | {}                                   |\n",
      "| name        | snap1                                |\n",
      "| size        | 1                                    |\n",
      "| status      | creating                             |\n",
      "| updated_at  | None                                 |\n",
      "| volume_id   | 6c9f2f27-8990-4468-9b2d-c53babf0fe87 |\n",
      "+-------------+--------------------------------------+\n"
     ]
    }
   ],
   "source": [
    "cinder snapshot-create --name snap1 6c9f2f27-8990-4468-9b2d-c53babf0fe87"
   ]
  },
  {
   "cell_type": "code",
   "execution_count": 44,
   "metadata": {},
   "outputs": [
    {
     "name": "stdout",
     "output_type": "stream",
     "text": [
      "+--------------------------------------+--------------------------------------+-----------+-------+------+\n",
      "| ID                                   | Volume ID                            | Status    | Name  | Size |\n",
      "+--------------------------------------+--------------------------------------+-----------+-------+------+\n",
      "| e611f074-3fc3-4785-ad84-bc2f22e1c5fb | 6c9f2f27-8990-4468-9b2d-c53babf0fe87 | available | snap1 | 1    |\n",
      "+--------------------------------------+--------------------------------------+-----------+-------+------+\n"
     ]
    }
   ],
   "source": [
    "cinder snapshot-list"
   ]
  },
  {
   "cell_type": "code",
   "execution_count": 45,
   "metadata": {},
   "outputs": [
    {
     "name": "stdout",
     "output_type": "stream",
     "text": [
      "+------------------------------+--------------------------------------+\n",
      "| Property                     | Value                                |\n",
      "+------------------------------+--------------------------------------+\n",
      "| attachments                  | []                                   |\n",
      "| availability_zone            | nova                                 |\n",
      "| bootable                     | false                                |\n",
      "| consistencygroup_id          | None                                 |\n",
      "| created_at                   | 2017-05-21T10:40:28.000000           |\n",
      "| description                  | None                                 |\n",
      "| encrypted                    | False                                |\n",
      "| id                           | e1708e3f-cdcc-4bd8-be74-a31bb1dd97d2 |\n",
      "| metadata                     | {}                                   |\n",
      "| multiattach                  | False                                |\n",
      "| name                         | clone-vol-from-snap                  |\n",
      "| os-vol-tenant-attr:tenant_id | 44be7b065a154e33aacbe7dbca18c6be     |\n",
      "| replication_status           | disabled                             |\n",
      "| size                         | 1                                    |\n",
      "| snapshot_id                  | e611f074-3fc3-4785-ad84-bc2f22e1c5fb |\n",
      "| source_volid                 | None                                 |\n",
      "| status                       | creating                             |\n",
      "| updated_at                   | 2017-05-21T10:40:28.000000           |\n",
      "| user_id                      | 8e9f38ff948143899c04c764848ef8d3     |\n",
      "| volume_type                  | iscsi                                |\n",
      "+------------------------------+--------------------------------------+\n"
     ]
    }
   ],
   "source": [
    "cinder create --name clone-vol-from-snap --snapshot-id e611f074-3fc3-4785-ad84-bc2f22e1c5fb"
   ]
  },
  {
   "cell_type": "code",
   "execution_count": 46,
   "metadata": {},
   "outputs": [
    {
     "name": "stdout",
     "output_type": "stream",
     "text": [
      "+--------------------------------------+-----------+---------------------+------+-------------+----------+-------------+\n",
      "| ID                                   | Status    | Name                | Size | Volume Type | Bootable | Attached to |\n",
      "+--------------------------------------+-----------+---------------------+------+-------------+----------+-------------+\n",
      "| 263824f7-4b01-4fd2-9e88-32e0eb7ea700 | available | clone-vol           | 1    | iscsi       | false    |             |\n",
      "| 6c9f2f27-8990-4468-9b2d-c53babf0fe87 | available | test-vol2           | 1    | iscsi       | false    |             |\n",
      "| e1708e3f-cdcc-4bd8-be74-a31bb1dd97d2 | available | clone-vol-from-snap | 1    | iscsi       | false    |             |\n",
      "+--------------------------------------+-----------+---------------------+------+-------------+----------+-------------+\n"
     ]
    }
   ],
   "source": [
    "cinder list"
   ]
  },
  {
   "cell_type": "markdown",
   "metadata": {},
   "source": [
    "ボリュームをサーバーへ接続してデータの状態を確認します。"
   ]
  },
  {
   "cell_type": "code",
   "execution_count": 47,
   "metadata": {},
   "outputs": [
    {
     "name": "stdout",
     "output_type": "stream",
     "text": [
      "+----------+--------------------------------------+\n",
      "| Property | Value                                |\n",
      "+----------+--------------------------------------+\n",
      "| device   | /dev/vdb                             |\n",
      "| id       | 263824f7-4b01-4fd2-9e88-32e0eb7ea700 |\n",
      "| serverId | ba94305e-af89-4a09-94af-4edd3d897e88 |\n",
      "| volumeId | 263824f7-4b01-4fd2-9e88-32e0eb7ea700 |\n",
      "+----------+--------------------------------------+\n"
     ]
    }
   ],
   "source": [
    "nova volume-attach test-vm-2-1 263824f7-4b01-4fd2-9e88-32e0eb7ea700"
   ]
  },
  {
   "cell_type": "code",
   "execution_count": 48,
   "metadata": {},
   "outputs": [
    {
     "name": "stdout",
     "output_type": "stream",
     "text": [
      "+----------+--------------------------------------+\n",
      "| Property | Value                                |\n",
      "+----------+--------------------------------------+\n",
      "| device   | /dev/vdc                             |\n",
      "| id       | 6c9f2f27-8990-4468-9b2d-c53babf0fe87 |\n",
      "| serverId | ba94305e-af89-4a09-94af-4edd3d897e88 |\n",
      "| volumeId | 6c9f2f27-8990-4468-9b2d-c53babf0fe87 |\n",
      "+----------+--------------------------------------+\n"
     ]
    }
   ],
   "source": [
    "nova volume-attach test-vm-2-1 6c9f2f27-8990-4468-9b2d-c53babf0fe87"
   ]
  },
  {
   "cell_type": "code",
   "execution_count": 49,
   "metadata": {},
   "outputs": [
    {
     "name": "stdout",
     "output_type": "stream",
     "text": [
      "+--------------------------------------+-----------+---------------------+------+-------------+----------+--------------------------------------+\n",
      "| ID                                   | Status    | Name                | Size | Volume Type | Bootable | Attached to                          |\n",
      "+--------------------------------------+-----------+---------------------+------+-------------+----------+--------------------------------------+\n",
      "| 263824f7-4b01-4fd2-9e88-32e0eb7ea700 | in-use    | clone-vol           | 1    | iscsi       | false    | ba94305e-af89-4a09-94af-4edd3d897e88 |\n",
      "| 6c9f2f27-8990-4468-9b2d-c53babf0fe87 | in-use    | test-vol2           | 1    | iscsi       | false    | ba94305e-af89-4a09-94af-4edd3d897e88 |\n",
      "| e1708e3f-cdcc-4bd8-be74-a31bb1dd97d2 | available | clone-vol-from-snap | 1    | iscsi       | false    |                                      |\n",
      "+--------------------------------------+-----------+---------------------+------+-------------+----------+--------------------------------------+\n"
     ]
    }
   ],
   "source": [
    "cinder list"
   ]
  },
  {
   "cell_type": "code",
   "execution_count": 50,
   "metadata": {},
   "outputs": [
    {
     "name": "stdout",
     "output_type": "stream",
     "text": [
      "test-vm-2-1\n",
      "NAME   MAJ:MIN RM    SIZE RO TYPE MOUNTPOINT\n",
      "vda    253:0    0      1G  0 disk \n",
      "`-vda1 253:1    0 1011.9M  0 part /\n",
      "vdb    253:16   0      1G  0 disk \n",
      "`-vdb1 253:17   0   1023M  0 part \n",
      "vdc    253:32   0      1G  0 disk \n",
      "`-vdc1 253:33   0   1023M  0 part \n"
     ]
    }
   ],
   "source": [
    "ssh -oStrictHostKeyChecking=no -i ~/my-key.pem cirros@192.168.99.206 'hostname; lsblk'"
   ]
  },
  {
   "cell_type": "code",
   "execution_count": 53,
   "metadata": {
    "collapsed": true
   },
   "outputs": [],
   "source": [
    "ssh -oStrictHostKeyChecking=no -i ~/my-key.pem cirros@192.168.99.206 'sudo mkdir -p /mnt/cinder-vol1 /mnt/cinder-vol2'"
   ]
  },
  {
   "cell_type": "code",
   "execution_count": 54,
   "metadata": {},
   "outputs": [],
   "source": [
    "ssh -oStrictHostKeyChecking=no -i ~/my-key.pem cirros@192.168.99.206 'sudo mount /dev/vdb1 /mnt/cinder-vol1'"
   ]
  },
  {
   "cell_type": "code",
   "execution_count": 55,
   "metadata": {
    "collapsed": true
   },
   "outputs": [],
   "source": [
    "ssh -oStrictHostKeyChecking=no -i ~/my-key.pem cirros@192.168.99.206 'sudo mount /dev/vdc1 /mnt/cinder-vol2'"
   ]
  },
  {
   "cell_type": "code",
   "execution_count": 56,
   "metadata": {},
   "outputs": [
    {
     "name": "stdout",
     "output_type": "stream",
     "text": [
      "Filesystem                Size      Used Available Use% Mounted on\n",
      "/dev                    242.3M         0    242.3M   0% /dev\n",
      "/dev/vda1                23.2M     18.0M      4.0M  82% /\n",
      "tmpfs                   245.8M         0    245.8M   0% /dev/shm\n",
      "tmpfs                   200.0K     72.0K    128.0K  36% /run\n",
      "/dev/vdb1              1006.9M     17.3M    938.5M   2% /mnt/cinder-vol1\n",
      "/dev/vdc1              1006.9M     17.3M    938.5M   2% /mnt/cinder-vol2\n"
     ]
    }
   ],
   "source": [
    "ssh -oStrictHostKeyChecking=no -i ~/my-key.pem cirros@192.168.99.206 'sudo df -h'"
   ]
  },
  {
   "cell_type": "code",
   "execution_count": 57,
   "metadata": {},
   "outputs": [
    {
     "name": "stdout",
     "output_type": "stream",
     "text": [
      "your_name\n"
     ]
    }
   ],
   "source": [
    "ssh -oStrictHostKeyChecking=no -i ~/my-key.pem cirros@192.168.99.206 'sudo cat /mnt/cinder-vol1/my-data.txt'"
   ]
  },
  {
   "cell_type": "code",
   "execution_count": 58,
   "metadata": {},
   "outputs": [
    {
     "name": "stdout",
     "output_type": "stream",
     "text": [
      "your_name\n"
     ]
    }
   ],
   "source": [
    "ssh -oStrictHostKeyChecking=no -i ~/my-key.pem cirros@192.168.99.206 'sudo cat /mnt/cinder-vol2/my-data.txt'"
   ]
  },
  {
   "cell_type": "markdown",
   "metadata": {},
   "source": [
    "#### サーバーとボリュームの削除"
   ]
  },
  {
   "cell_type": "code",
   "execution_count": 59,
   "metadata": {},
   "outputs": [
    {
     "name": "stdout",
     "output_type": "stream",
     "text": [
      "Request to delete server test-vm-2-1 has been accepted.\n",
      "Request to delete server test-vm-2-2 has been accepted.\n"
     ]
    }
   ],
   "source": [
    "nova delete test-vm-2-1 test-vm-2-2"
   ]
  },
  {
   "cell_type": "code",
   "execution_count": 62,
   "metadata": {},
   "outputs": [
    {
     "name": "stdout",
     "output_type": "stream",
     "text": [
      "+----+------+--------+------------+-------------+----------+\n",
      "| ID | Name | Status | Task State | Power State | Networks |\n",
      "+----+------+--------+------------+-------------+----------+\n",
      "+----+------+--------+------------+-------------+----------+\n"
     ]
    }
   ],
   "source": [
    "nova list"
   ]
  },
  {
   "cell_type": "code",
   "execution_count": 61,
   "metadata": {},
   "outputs": [
    {
     "name": "stdout",
     "output_type": "stream",
     "text": [
      "+--------------------------------------+-----------+---------------------+------+-------------+----------+-------------+\n",
      "| ID                                   | Status    | Name                | Size | Volume Type | Bootable | Attached to |\n",
      "+--------------------------------------+-----------+---------------------+------+-------------+----------+-------------+\n",
      "| 263824f7-4b01-4fd2-9e88-32e0eb7ea700 | available | clone-vol           | 1    | iscsi       | false    |             |\n",
      "| 6c9f2f27-8990-4468-9b2d-c53babf0fe87 | available | test-vol2           | 1    | iscsi       | false    |             |\n",
      "| e1708e3f-cdcc-4bd8-be74-a31bb1dd97d2 | available | clone-vol-from-snap | 1    | iscsi       | false    |             |\n",
      "+--------------------------------------+-----------+---------------------+------+-------------+----------+-------------+\n"
     ]
    }
   ],
   "source": [
    "cinder list"
   ]
  },
  {
   "cell_type": "code",
   "execution_count": 63,
   "metadata": {},
   "outputs": [
    {
     "name": "stdout",
     "output_type": "stream",
     "text": [
      "Request to delete volume clone-vol has been accepted.\n",
      "Request to delete volume clone-vol-from-snap has been accepted.\n"
     ]
    }
   ],
   "source": [
    "cinder delete clone-vol clone-vol-from-snap"
   ]
  },
  {
   "cell_type": "markdown",
   "metadata": {},
   "source": [
    "スナップショットを持つボリュームを削除できないため、先にスナップショットを削除しておきます。"
   ]
  },
  {
   "cell_type": "code",
   "execution_count": 64,
   "metadata": {},
   "outputs": [
    {
     "name": "stdout",
     "output_type": "stream",
     "text": [
      "+--------------------------------------+--------------------------------------+-----------+-------+------+\n",
      "| ID                                   | Volume ID                            | Status    | Name  | Size |\n",
      "+--------------------------------------+--------------------------------------+-----------+-------+------+\n",
      "| e611f074-3fc3-4785-ad84-bc2f22e1c5fb | 6c9f2f27-8990-4468-9b2d-c53babf0fe87 | available | snap1 | 1    |\n",
      "+--------------------------------------+--------------------------------------+-----------+-------+------+\n"
     ]
    }
   ],
   "source": [
    "cinder snapshot-list"
   ]
  },
  {
   "cell_type": "code",
   "execution_count": 65,
   "metadata": {
    "collapsed": true
   },
   "outputs": [],
   "source": [
    "cinder snapshot-delete e611f074-3fc3-4785-ad84-bc2f22e1c5fb"
   ]
  },
  {
   "cell_type": "code",
   "execution_count": 66,
   "metadata": {},
   "outputs": [
    {
     "name": "stdout",
     "output_type": "stream",
     "text": [
      "Request to delete volume test-vol2 has been accepted.\n"
     ]
    }
   ],
   "source": [
    "cinder delete test-vol2"
   ]
  },
  {
   "cell_type": "code",
   "execution_count": 67,
   "metadata": {},
   "outputs": [
    {
     "name": "stdout",
     "output_type": "stream",
     "text": [
      "+----+--------+------+------+-------------+----------+-------------+\n",
      "| ID | Status | Name | Size | Volume Type | Bootable | Attached to |\n",
      "+----+--------+------+------+-------------+----------+-------------+\n",
      "+----+--------+------+------+-------------+----------+-------------+\n"
     ]
    }
   ],
   "source": [
    "cinder list"
   ]
  }
 ],
 "metadata": {
  "kernelspec": {
   "display_name": "Bash",
   "language": "bash",
   "name": "bash"
  },
  "language_info": {
   "codemirror_mode": "shell",
   "file_extension": ".sh",
   "mimetype": "text/x-sh",
   "name": "bash"
  }
 },
 "nbformat": 4,
 "nbformat_minor": 2
}
