{
 "cells": [
  {
   "cell_type": "markdown",
   "metadata": {},
   "source": [
    "### 基礎的なストレージ操作を行います"
   ]
  },
  {
   "cell_type": "markdown",
   "metadata": {},
   "source": [
    "#### 仮想マシンの作成\n",
    "まず、ストレージを接続するための仮想マシンを２台作成します。"
   ]
  },
  {
   "cell_type": "code",
   "execution_count": 1,
   "metadata": {},
   "outputs": [
    {
     "name": "stdout",
     "output_type": "stream",
     "text": [
      "+--------------------------------------+-----------------------------------------------------+\n",
      "| Property                             | Value                                               |\n",
      "+--------------------------------------+-----------------------------------------------------+\n",
      "| OS-DCF:diskConfig                    | MANUAL                                              |\n",
      "| OS-EXT-AZ:availability_zone          |                                                     |\n",
      "| OS-EXT-STS:power_state               | 0                                                   |\n",
      "| OS-EXT-STS:task_state                | scheduling                                          |\n",
      "| OS-EXT-STS:vm_state                  | building                                            |\n",
      "| OS-SRV-USG:launched_at               | -                                                   |\n",
      "| OS-SRV-USG:terminated_at             | -                                                   |\n",
      "| accessIPv4                           |                                                     |\n",
      "| accessIPv6                           |                                                     |\n",
      "| adminPass                            | 2ta4YRB63yCg                                        |\n",
      "| config_drive                         |                                                     |\n",
      "| created                              | 2017-06-09T03:36:00Z                                |\n",
      "| description                          | -                                                   |\n",
      "| flavor                               | m1.tiny (1)                                         |\n",
      "| hostId                               |                                                     |\n",
      "| id                                   | 9056f78a-966a-4b5f-85d8-36bcb99ee241                |\n",
      "| image                                | cirros-0.3.5 (66722486-ac79-4cd2-9a7d-c2479a9f6f92) |\n",
      "| key_name                             | my-key                                              |\n",
      "| locked                               | False                                               |\n",
      "| metadata                             | {}                                                  |\n",
      "| name                                 | test-vm-2-1                                         |\n",
      "| os-extended-volumes:volumes_attached | []                                                  |\n",
      "| progress                             | 0                                                   |\n",
      "| security_groups                      | open-all                                            |\n",
      "| status                               | BUILD                                               |\n",
      "| tags                                 | []                                                  |\n",
      "| tenant_id                            | 44be7b065a154e33aacbe7dbca18c6be                    |\n",
      "| updated                              | 2017-06-09T03:36:01Z                                |\n",
      "| user_id                              | 8e9f38ff948143899c04c764848ef8d3                    |\n",
      "+--------------------------------------+-----------------------------------------------------+\n"
     ]
    }
   ],
   "source": [
    "function get_uuid () { cat - | grep \" id \" | awk '{print $4}'; }\n",
    "export MY_WORK_NET=`neutron net-show work-net | get_uuid`\n",
    "\n",
    "nova boot --flavor m1.tiny --image \"cirros-0.3.5\" \\\n",
    "--key-name my-key --security-groups open-all \\\n",
    "--nic net-id=${MY_WORK_NET} \\\n",
    "--min-count 2 \\\n",
    "test-vm-2"
   ]
  },
  {
   "cell_type": "markdown",
   "metadata": {},
   "source": [
    "仮想マシンの起動を確認します。"
   ]
  },
  {
   "cell_type": "code",
   "execution_count": 2,
   "metadata": {},
   "outputs": [
    {
     "name": "stdout",
     "output_type": "stream",
     "text": [
      "+--------------------------------------+-------------+--------+------------+-------------+----------+\n",
      "| ID                                   | Name        | Status | Task State | Power State | Networks |\n",
      "+--------------------------------------+-------------+--------+------------+-------------+----------+\n",
      "| 9056f78a-966a-4b5f-85d8-36bcb99ee241 | test-vm-2-1 | BUILD  | spawning   | NOSTATE     |          |\n",
      "| 0af75a30-2c40-4de0-8ae5-04f42b105f8c | test-vm-2-2 | BUILD  | spawning   | NOSTATE     |          |\n",
      "+--------------------------------------+-------------+--------+------------+-------------+----------+\n"
     ]
    }
   ],
   "source": [
    "nova list"
   ]
  },
  {
   "cell_type": "markdown",
   "metadata": {},
   "source": [
    "2台がACTIVEになるのを待ちます。"
   ]
  },
  {
   "cell_type": "code",
   "execution_count": 3,
   "metadata": {},
   "outputs": [
    {
     "name": "stdout",
     "output_type": "stream",
     "text": [
      "+--------------------------------------+-------------+--------+------------+-------------+----------------------+\n",
      "| ID                                   | Name        | Status | Task State | Power State | Networks             |\n",
      "+--------------------------------------+-------------+--------+------------+-------------+----------------------+\n",
      "| 9056f78a-966a-4b5f-85d8-36bcb99ee241 | test-vm-2-1 | ACTIVE | -          | Running     | work-net=172.16.11.5 |\n",
      "| 0af75a30-2c40-4de0-8ae5-04f42b105f8c | test-vm-2-2 | ACTIVE | -          | Running     | work-net=172.16.11.8 |\n",
      "+--------------------------------------+-------------+--------+------------+-------------+----------------------+\n"
     ]
    }
   ],
   "source": [
    "nova list"
   ]
  },
  {
   "cell_type": "markdown",
   "metadata": {},
   "source": [
    "Floating IPを２つ確保しておきます。"
   ]
  },
  {
   "cell_type": "code",
   "execution_count": 4,
   "metadata": {},
   "outputs": [
    {
     "name": "stdout",
     "output_type": "stream",
     "text": [
      "Created a new floatingip:\n",
      "+---------------------+--------------------------------------+\n",
      "| Field               | Value                                |\n",
      "+---------------------+--------------------------------------+\n",
      "| created_at          | 2017-06-09T03:36:58Z                 |\n",
      "| description         |                                      |\n",
      "| fixed_ip_address    |                                      |\n",
      "| floating_ip_address | 192.168.99.206                       |\n",
      "| floating_network_id | 17e4bba8-2a15-46fb-ab54-fb463aee503c |\n",
      "| id                  | 566ddd9c-a9c8-44f0-9018-d8ba5f744040 |\n",
      "| port_id             |                                      |\n",
      "| project_id          | 44be7b065a154e33aacbe7dbca18c6be     |\n",
      "| revision_number     | 1                                    |\n",
      "| router_id           |                                      |\n",
      "| status              | DOWN                                 |\n",
      "| tenant_id           | 44be7b065a154e33aacbe7dbca18c6be     |\n",
      "| updated_at          | 2017-06-09T03:36:58Z                 |\n",
      "+---------------------+--------------------------------------+\n"
     ]
    }
   ],
   "source": [
    "neutron floatingip-create public"
   ]
  },
  {
   "cell_type": "code",
   "execution_count": 5,
   "metadata": {},
   "outputs": [
    {
     "name": "stdout",
     "output_type": "stream",
     "text": [
      "Created a new floatingip:\n",
      "+---------------------+--------------------------------------+\n",
      "| Field               | Value                                |\n",
      "+---------------------+--------------------------------------+\n",
      "| created_at          | 2017-06-09T03:37:02Z                 |\n",
      "| description         |                                      |\n",
      "| fixed_ip_address    |                                      |\n",
      "| floating_ip_address | 192.168.99.210                       |\n",
      "| floating_network_id | 17e4bba8-2a15-46fb-ab54-fb463aee503c |\n",
      "| id                  | 43ee4bd0-8e7b-4321-b89b-da0a56bb7db7 |\n",
      "| port_id             |                                      |\n",
      "| project_id          | 44be7b065a154e33aacbe7dbca18c6be     |\n",
      "| revision_number     | 1                                    |\n",
      "| router_id           |                                      |\n",
      "| status              | DOWN                                 |\n",
      "| tenant_id           | 44be7b065a154e33aacbe7dbca18c6be     |\n",
      "| updated_at          | 2017-06-09T03:37:02Z                 |\n",
      "+---------------------+--------------------------------------+\n"
     ]
    }
   ],
   "source": [
    "neutron floatingip-create public"
   ]
  },
  {
   "cell_type": "code",
   "execution_count": 6,
   "metadata": {},
   "outputs": [
    {
     "name": "stdout",
     "output_type": "stream",
     "text": [
      "+------------------------+------------------+---------------------+---------+\n",
      "| id                     | fixed_ip_address | floating_ip_address | port_id |\n",
      "+------------------------+------------------+---------------------+---------+\n",
      "| 43ee4bd0-8e7b-4321     |                  | 192.168.99.210      |         |\n",
      "| -b89b-da0a56bb7db7     |                  |                     |         |\n",
      "| 566ddd9c-a9c8-44f0-901 |                  | 192.168.99.206      |         |\n",
      "| 8-d8ba5f744040         |                  |                     |         |\n",
      "+------------------------+------------------+---------------------+---------+\n"
     ]
    }
   ],
   "source": [
    "neutron floatingip-list"
   ]
  },
  {
   "cell_type": "markdown",
   "metadata": {},
   "source": [
    "Floating IPのUUIDを変数に格納して控えておきます。"
   ]
  },
  {
   "cell_type": "code",
   "execution_count": 7,
   "metadata": {},
   "outputs": [
    {
     "name": "stdout",
     "output_type": "stream",
     "text": [
      "43ee4bd0-8e7b-4321-b89b-da0a56bb7db7\n",
      "566ddd9c-a9c8-44f0-9018-d8ba5f744040\n"
     ]
    }
   ],
   "source": [
    "FIP_UUID1=`neutron floatingip-list -f value -c id --floating_ip_address=192.168.99.210`\n",
    "FIP_UUID2=`neutron floatingip-list -f value -c id --floating_ip_address=192.168.99.206`\n",
    "echo $FIP_UUID1\n",
    "echo $FIP_UUID2"
   ]
  },
  {
   "cell_type": "markdown",
   "metadata": {},
   "source": [
    "起動した2台のサーバーの論理ポートのUUIDをメモしておきます。"
   ]
  },
  {
   "cell_type": "code",
   "execution_count": 8,
   "metadata": {},
   "outputs": [
    {
     "name": "stdout",
     "output_type": "stream",
     "text": [
      "+-----------------------+------+-------------------+-----------------------+\n",
      "| id                    | name | mac_address       | fixed_ips             |\n",
      "+-----------------------+------+-------------------+-----------------------+\n",
      "| 12ed2507-390c-471f-   |      | fa:16:3e:4d:d9:ba | {\"subnet_id\":         |\n",
      "| 944c-76e7be4e1706     |      |                   | \"3f782ee7-faf5-460f-  |\n",
      "|                       |      |                   | 852f-dcfc4287c737\",   |\n",
      "|                       |      |                   | \"ip_address\":         |\n",
      "|                       |      |                   | \"172.16.11.5\"}        |\n",
      "| 4ed2c5e9-b018-4bd3-ad |      | fa:16:3e:f0:31:d5 | {\"subnet_id\":         |\n",
      "| 25-46a42d3bfadb       |      |                   | \"3f782ee7-faf5-460f-  |\n",
      "|                       |      |                   | 852f-dcfc4287c737\",   |\n",
      "|                       |      |                   | \"ip_address\":         |\n",
      "|                       |      |                   | \"172.16.11.1\"}        |\n",
      "| ac501e70-35a9-45f8-82 |      | fa:16:3e:74:26:1c | {\"subnet_id\":         |\n",
      "| 33-804c5859ee91       |      |                   | \"3f782ee7-faf5-460f-  |\n",
      "|                       |      |                   | 852f-dcfc4287c737\",   |\n",
      "|                       |      |                   | \"ip_address\":         |\n",
      "|                       |      |                   | \"172.16.11.254\"}      |\n",
      "| efa5f1fa-11a9-4565-9d |      | fa:16:3e:ce:17:76 | {\"subnet_id\":         |\n",
      "| 88-916f23c6a13d       |      |                   | \"3f782ee7-faf5-460f-  |\n",
      "|                       |      |                   | 852f-dcfc4287c737\",   |\n",
      "|                       |      |                   | \"ip_address\":         |\n",
      "|                       |      |                   | \"172.16.11.8\"}        |\n",
      "+-----------------------+------+-------------------+-----------------------+\n"
     ]
    }
   ],
   "source": [
    "neutron port-list"
   ]
  },
  {
   "cell_type": "code",
   "execution_count": 9,
   "metadata": {},
   "outputs": [
    {
     "name": "stdout",
     "output_type": "stream",
     "text": [
      "12ed2507-390c-471f-944c-76e7be4e1706\n",
      "efa5f1fa-11a9-4565-9d88-916f23c6a13d\n"
     ]
    }
   ],
   "source": [
    "PORT_UUID1=`neutron port-list -f value -c id --fixed_ips ip_address=172.16.11.5`\n",
    "PORT_UUID2=`neutron port-list -f value -c id --fixed_ips ip_address=172.16.11.8`\n",
    "echo $PORT_UUID1\n",
    "echo $PORT_UUID2"
   ]
  },
  {
   "cell_type": "markdown",
   "metadata": {},
   "source": [
    "２台の仮想マシンへそれぞれFloating IPを割り当てます。"
   ]
  },
  {
   "cell_type": "code",
   "execution_count": 10,
   "metadata": {},
   "outputs": [
    {
     "name": "stdout",
     "output_type": "stream",
     "text": [
      "Associated floating IP 43ee4bd0-8e7b-4321-b89b-da0a56bb7db7\n"
     ]
    }
   ],
   "source": [
    "neutron floatingip-associate $FIP_UUID1 $PORT_UUID1"
   ]
  },
  {
   "cell_type": "code",
   "execution_count": 11,
   "metadata": {},
   "outputs": [
    {
     "name": "stdout",
     "output_type": "stream",
     "text": [
      "Associated floating IP 566ddd9c-a9c8-44f0-9018-d8ba5f744040\n"
     ]
    }
   ],
   "source": [
    "neutron floatingip-associate $FIP_UUID2 $PORT_UUID2"
   ]
  },
  {
   "cell_type": "code",
   "execution_count": 12,
   "metadata": {},
   "outputs": [
    {
     "name": "stdout",
     "output_type": "stream",
     "text": [
      "+--------------------------------------+-------------+--------+------------+-------------+--------------------------------------+\n",
      "| ID                                   | Name        | Status | Task State | Power State | Networks                             |\n",
      "+--------------------------------------+-------------+--------+------------+-------------+--------------------------------------+\n",
      "| 9056f78a-966a-4b5f-85d8-36bcb99ee241 | test-vm-2-1 | ACTIVE | -          | Running     | work-net=172.16.11.5, 192.168.99.210 |\n",
      "| 0af75a30-2c40-4de0-8ae5-04f42b105f8c | test-vm-2-2 | ACTIVE | -          | Running     | work-net=172.16.11.8, 192.168.99.206 |\n",
      "+--------------------------------------+-------------+--------+------------+-------------+--------------------------------------+\n"
     ]
    }
   ],
   "source": [
    "nova list"
   ]
  },
  {
   "cell_type": "markdown",
   "metadata": {},
   "source": [
    "#### ボリュームの作成とサーバーとの接続\n",
    "まず１GBのボリュームを作成します。"
   ]
  },
  {
   "cell_type": "code",
   "execution_count": 13,
   "metadata": {},
   "outputs": [
    {
     "name": "stdout",
     "output_type": "stream",
     "text": [
      "+------------------------------+--------------------------------------+\n",
      "| Property                     | Value                                |\n",
      "+------------------------------+--------------------------------------+\n",
      "| attachments                  | []                                   |\n",
      "| availability_zone            | nova                                 |\n",
      "| bootable                     | false                                |\n",
      "| consistencygroup_id          | None                                 |\n",
      "| created_at                   | 2017-06-09T03:41:23.000000           |\n",
      "| description                  | None                                 |\n",
      "| encrypted                    | False                                |\n",
      "| id                           | 3ac68b3f-62cd-4838-8689-2f1b335b79fa |\n",
      "| metadata                     | {}                                   |\n",
      "| multiattach                  | False                                |\n",
      "| name                         | test-vol2                            |\n",
      "| os-vol-tenant-attr:tenant_id | 44be7b065a154e33aacbe7dbca18c6be     |\n",
      "| replication_status           | disabled                             |\n",
      "| size                         | 1                                    |\n",
      "| snapshot_id                  | None                                 |\n",
      "| source_volid                 | None                                 |\n",
      "| status                       | creating                             |\n",
      "| updated_at                   | None                                 |\n",
      "| user_id                      | 8e9f38ff948143899c04c764848ef8d3     |\n",
      "| volume_type                  | iscsi                                |\n",
      "+------------------------------+--------------------------------------+\n"
     ]
    }
   ],
   "source": [
    "cinder create --name test-vol2 1"
   ]
  },
  {
   "cell_type": "markdown",
   "metadata": {},
   "source": [
    "これで1GBのボリュームができました。"
   ]
  },
  {
   "cell_type": "code",
   "execution_count": 14,
   "metadata": {},
   "outputs": [
    {
     "name": "stdout",
     "output_type": "stream",
     "text": [
      "+--------------------------------------+-----------+-----------+------+-------------+----------+-------------+\n",
      "| ID                                   | Status    | Name      | Size | Volume Type | Bootable | Attached to |\n",
      "+--------------------------------------+-----------+-----------+------+-------------+----------+-------------+\n",
      "| 3ac68b3f-62cd-4838-8689-2f1b335b79fa | available | test-vol2 | 1    | iscsi       | false    |             |\n",
      "+--------------------------------------+-----------+-----------+------+-------------+----------+-------------+\n"
     ]
    }
   ],
   "source": [
    "cinder list"
   ]
  },
  {
   "cell_type": "markdown",
   "metadata": {},
   "source": [
    "１台目のサーバーにボリュームを接続します。この時に、接続前の状態を確認しておきます。"
   ]
  },
  {
   "cell_type": "code",
   "execution_count": 15,
   "metadata": {},
   "outputs": [
    {
     "name": "stdout",
     "output_type": "stream",
     "text": [
      "Warning: Permanently added '192.168.99.210' (RSA) to the list of known hosts.\n",
      "test-vm-2-1\n",
      "NAME   MAJ:MIN RM    SIZE RO TYPE MOUNTPOINT\n",
      "vda    253:0    0      1G  0 disk \n",
      "`-vda1 253:1    0 1011.9M  0 part /\n"
     ]
    }
   ],
   "source": [
    "ssh -oStrictHostKeyChecking=no -i ~/my-key.pem cirros@192.168.99.210 'hostname; lsblk'"
   ]
  },
  {
   "cell_type": "markdown",
   "metadata": {},
   "source": [
    "サーバーにボリュームを接続します。引数にはボリュームのUUIDを指定します。"
   ]
  },
  {
   "cell_type": "code",
   "execution_count": 26,
   "metadata": {},
   "outputs": [
    {
     "name": "stdout",
     "output_type": "stream",
     "text": [
      "+----------+--------------------------------------+\n",
      "| Property | Value                                |\n",
      "+----------+--------------------------------------+\n",
      "| device   | /dev/vdb                             |\n",
      "| id       | 3ac68b3f-62cd-4838-8689-2f1b335b79fa |\n",
      "| serverId | 9056f78a-966a-4b5f-85d8-36bcb99ee241 |\n",
      "| volumeId | 3ac68b3f-62cd-4838-8689-2f1b335b79fa |\n",
      "+----------+--------------------------------------+\n"
     ]
    }
   ],
   "source": [
    "nova volume-attach test-vm-2-1 3ac68b3f-62cd-4838-8689-2f1b335b79fa"
   ]
  },
  {
   "cell_type": "markdown",
   "metadata": {},
   "source": [
    "接続されたことが確認できます。"
   ]
  },
  {
   "cell_type": "code",
   "execution_count": 27,
   "metadata": {},
   "outputs": [
    {
     "name": "stdout",
     "output_type": "stream",
     "text": [
      "+--------------------------------------+--------+-----------+------+-------------+----------+--------------------------------------+\n",
      "| ID                                   | Status | Name      | Size | Volume Type | Bootable | Attached to                          |\n",
      "+--------------------------------------+--------+-----------+------+-------------+----------+--------------------------------------+\n",
      "| 3ac68b3f-62cd-4838-8689-2f1b335b79fa | in-use | test-vol2 | 1    | iscsi       | false    | 9056f78a-966a-4b5f-85d8-36bcb99ee241 |\n",
      "+--------------------------------------+--------+-----------+------+-------------+----------+--------------------------------------+\n"
     ]
    }
   ],
   "source": [
    "cinder list"
   ]
  },
  {
   "cell_type": "code",
   "execution_count": 19,
   "metadata": {},
   "outputs": [
    {
     "name": "stdout",
     "output_type": "stream",
     "text": [
      "test-vm-2-1\n",
      "NAME   MAJ:MIN RM    SIZE RO TYPE MOUNTPOINT\n",
      "vda    253:0    0      1G  0 disk \n",
      "`-vda1 253:1    0 1011.9M  0 part /\n",
      "vdb    253:16   0      1G  0 disk \n"
     ]
    }
   ],
   "source": [
    "ssh -oStrictHostKeyChecking=no -i ~/my-key.pem cirros@192.168.99.210 'hostname; lsblk'"
   ]
  },
  {
   "cell_type": "markdown",
   "metadata": {},
   "source": [
    "#### 接続されたボリュームの利用\n",
    "ボリュームをフォーマット＆マウントし、テスト用のファイルを配置しておきます。"
   ]
  },
  {
   "cell_type": "markdown",
   "metadata": {},
   "source": [
    "```\n",
    "$ ssh -oStrictHostKeyChecking=no -i ~/my-key.pem cirros@192.168.99.210\n",
    "\n",
    "$ sudo mkdir -p /mnt/cinder-vol\n",
    "$ sudo fdisk /dev/vdb\n",
    "Device contains neither a valid DOS partition table, nor Sun, SGI or OSF disklabel\n",
    "Building a new DOS disklabel with disk identifier 0x9f638b43.\n",
    "Changes will remain in memory only, until you decide to write them.\n",
    "After that, of course, the previous content won't be recoverable.\n",
    "\n",
    "Warning: invalid flag 0x0000 of partition table 4 will be corrected by w(rite)\n",
    "\n",
    "Command (m for help): n ← nを入力\n",
    "Partition type:\n",
    "   p   primary (0 primary, 0 extended, 4 free)\n",
    "   e   extended\n",
    "Select (default p): p ← pを入力\n",
    "Partition number (1-4, default 1):  ← そのままエンター\n",
    "First sector (2048-2097151, default 2048): 1 ← そのままエンター\n",
    "Using default value 2048\n",
    "Last sector, +sectors or +size{K,M,G} (2048-2097151, default 2097151): 1 ← そのままエンター\n",
    "Using default value 2097151\n",
    "\n",
    "Command (m for help): w\n",
    "The partition table has been altered!\n",
    "\n",
    "Calling ioctl() to re-read partition table.\n",
    "Syncing disks.\n",
    "\n",
    "$ sudo mkfs.ext4 /dev/vdb1\n",
    "$ sudo mount /dev/vdb1 /mnt/cinder-vol\n",
    "\n",
    "$ sudo sh -c \"echo your_name >> /mnt/cinder-vol/my-data.txt\"\n",
    "$ sudo cat /mnt/cinder-vol/my-data.txt\n",
    "your_name\n",
    "\n",
    "$ sudo sync\n",
    "$ sudo umount /mnt/cinder-vol\n",
    "\n",
    "$ exit\n",
    "```"
   ]
  },
  {
   "cell_type": "markdown",
   "metadata": {},
   "source": [
    "#### ボリュームの切断と再接続"
   ]
  },
  {
   "cell_type": "code",
   "execution_count": 28,
   "metadata": {
    "collapsed": true
   },
   "outputs": [],
   "source": [
    "nova volume-detach test-vm-2-1 3ac68b3f-62cd-4838-8689-2f1b335b79fa"
   ]
  },
  {
   "cell_type": "code",
   "execution_count": 29,
   "metadata": {},
   "outputs": [
    {
     "name": "stdout",
     "output_type": "stream",
     "text": [
      "+--------------------------------------+-----------+-----------+------+-------------+----------+--------------------------------------+\n",
      "| ID                                   | Status    | Name      | Size | Volume Type | Bootable | Attached to                          |\n",
      "+--------------------------------------+-----------+-----------+------+-------------+----------+--------------------------------------+\n",
      "| 3ac68b3f-62cd-4838-8689-2f1b335b79fa | detaching | test-vol2 | 1    | iscsi       | false    | 9056f78a-966a-4b5f-85d8-36bcb99ee241 |\n",
      "+--------------------------------------+-----------+-----------+------+-------------+----------+--------------------------------------+\n"
     ]
    }
   ],
   "source": [
    "cinder list"
   ]
  },
  {
   "cell_type": "markdown",
   "metadata": {},
   "source": [
    "ボリュームが切断され、OSから確認できなくなっています。"
   ]
  },
  {
   "cell_type": "code",
   "execution_count": 30,
   "metadata": {},
   "outputs": [
    {
     "name": "stdout",
     "output_type": "stream",
     "text": [
      "test-vm-2-1\n",
      "NAME   MAJ:MIN RM    SIZE RO TYPE MOUNTPOINT\n",
      "vda    253:0    0      1G  0 disk \n",
      "`-vda1 253:1    0 1011.9M  0 part /\n"
     ]
    }
   ],
   "source": [
    "ssh -oStrictHostKeyChecking=no -i ~/my-key.pem cirros@192.168.99.210 'hostname; lsblk'"
   ]
  },
  {
   "cell_type": "markdown",
   "metadata": {},
   "source": [
    "切断したボリュームをもう１台のサーバーへ接続します。"
   ]
  },
  {
   "cell_type": "code",
   "execution_count": 31,
   "metadata": {},
   "outputs": [
    {
     "name": "stdout",
     "output_type": "stream",
     "text": [
      "+----------+--------------------------------------+\n",
      "| Property | Value                                |\n",
      "+----------+--------------------------------------+\n",
      "| device   | /dev/vdb                             |\n",
      "| id       | 3ac68b3f-62cd-4838-8689-2f1b335b79fa |\n",
      "| serverId | 0af75a30-2c40-4de0-8ae5-04f42b105f8c |\n",
      "| volumeId | 3ac68b3f-62cd-4838-8689-2f1b335b79fa |\n",
      "+----------+--------------------------------------+\n"
     ]
    }
   ],
   "source": [
    "nova volume-attach test-vm-2-2 3ac68b3f-62cd-4838-8689-2f1b335b79fa"
   ]
  },
  {
   "cell_type": "code",
   "execution_count": 32,
   "metadata": {},
   "outputs": [
    {
     "name": "stdout",
     "output_type": "stream",
     "text": [
      "+--------------------------------------+--------+-----------+------+-------------+----------+--------------------------------------+\n",
      "| ID                                   | Status | Name      | Size | Volume Type | Bootable | Attached to                          |\n",
      "+--------------------------------------+--------+-----------+------+-------------+----------+--------------------------------------+\n",
      "| 3ac68b3f-62cd-4838-8689-2f1b335b79fa | in-use | test-vol2 | 1    | iscsi       | false    | 0af75a30-2c40-4de0-8ae5-04f42b105f8c |\n",
      "+--------------------------------------+--------+-----------+------+-------------+----------+--------------------------------------+\n"
     ]
    }
   ],
   "source": [
    "cinder list"
   ]
  },
  {
   "cell_type": "markdown",
   "metadata": {},
   "source": [
    "サーバー側の状態を確認すると、先程作成したボリュームが確認できます。"
   ]
  },
  {
   "cell_type": "code",
   "execution_count": 33,
   "metadata": {},
   "outputs": [
    {
     "name": "stdout",
     "output_type": "stream",
     "text": [
      "Warning: Permanently added '192.168.99.206' (RSA) to the list of known hosts.\n",
      "test-vm-2-2\n",
      "NAME   MAJ:MIN RM    SIZE RO TYPE MOUNTPOINT\n",
      "vda    253:0    0      1G  0 disk \n",
      "`-vda1 253:1    0 1011.9M  0 part /\n",
      "vdb    253:16   0      1G  0 disk \n",
      "`-vdb1 253:17   0   1023M  0 part \n"
     ]
    }
   ],
   "source": [
    "ssh -oStrictHostKeyChecking=no -i ~/my-key.pem cirros@192.168.99.206 'hostname; lsblk'"
   ]
  },
  {
   "cell_type": "code",
   "execution_count": 34,
   "metadata": {},
   "outputs": [
    {
     "name": "stdout",
     "output_type": "stream",
     "text": [
      "your_name\n"
     ]
    }
   ],
   "source": [
    "ssh -oStrictHostKeyChecking=no -i ~/my-key.pem cirros@192.168.99.206 'sudo mkdir -p /mnt/cinder-vol; sudo mount /dev/vdb1 /mnt/cinder-vol; sudo cat /mnt/cinder-vol/my-data.txt'"
   ]
  },
  {
   "cell_type": "markdown",
   "metadata": {},
   "source": [
    "#### アンマウントとボリュームの切断\n",
    "次の作業のために、ボリュームを切断しておきます。"
   ]
  },
  {
   "cell_type": "code",
   "execution_count": 35,
   "metadata": {
    "collapsed": true
   },
   "outputs": [],
   "source": [
    "ssh -oStrictHostKeyChecking=no -i ~/my-key.pem cirros@192.168.99.206 'sudo umount /mnt/cinder-vol'"
   ]
  },
  {
   "cell_type": "code",
   "execution_count": 36,
   "metadata": {
    "collapsed": true
   },
   "outputs": [],
   "source": [
    "nova volume-detach test-vm-2-2 3ac68b3f-62cd-4838-8689-2f1b335b79fa"
   ]
  },
  {
   "cell_type": "code",
   "execution_count": 37,
   "metadata": {},
   "outputs": [
    {
     "name": "stdout",
     "output_type": "stream",
     "text": [
      "+--------------------------------------+-----------+-----------+------+-------------+----------+--------------------------------------+\n",
      "| ID                                   | Status    | Name      | Size | Volume Type | Bootable | Attached to                          |\n",
      "+--------------------------------------+-----------+-----------+------+-------------+----------+--------------------------------------+\n",
      "| 3ac68b3f-62cd-4838-8689-2f1b335b79fa | detaching | test-vol2 | 1    | iscsi       | false    | 0af75a30-2c40-4de0-8ae5-04f42b105f8c |\n",
      "+--------------------------------------+-----------+-----------+------+-------------+----------+--------------------------------------+\n"
     ]
    }
   ],
   "source": [
    "cinder list"
   ]
  },
  {
   "cell_type": "markdown",
   "metadata": {},
   "source": [
    "#### ボリュームの複製\n",
    "ボリュームの複製もCinderから行うことができます。"
   ]
  },
  {
   "cell_type": "code",
   "execution_count": 38,
   "metadata": {},
   "outputs": [
    {
     "name": "stdout",
     "output_type": "stream",
     "text": [
      "+--------------------------------------+-----------+-----------+------+-------------+----------+-------------+\n",
      "| ID                                   | Status    | Name      | Size | Volume Type | Bootable | Attached to |\n",
      "+--------------------------------------+-----------+-----------+------+-------------+----------+-------------+\n",
      "| 3ac68b3f-62cd-4838-8689-2f1b335b79fa | available | test-vol2 | 1    | iscsi       | false    |             |\n",
      "+--------------------------------------+-----------+-----------+------+-------------+----------+-------------+\n"
     ]
    }
   ],
   "source": [
    "cinder list"
   ]
  },
  {
   "cell_type": "markdown",
   "metadata": {},
   "source": [
    "オリジナルボリュームからのクローン"
   ]
  },
  {
   "cell_type": "code",
   "execution_count": 39,
   "metadata": {},
   "outputs": [
    {
     "name": "stdout",
     "output_type": "stream",
     "text": [
      "+------------------------------+--------------------------------------+\n",
      "| Property                     | Value                                |\n",
      "+------------------------------+--------------------------------------+\n",
      "| attachments                  | []                                   |\n",
      "| availability_zone            | nova                                 |\n",
      "| bootable                     | false                                |\n",
      "| consistencygroup_id          | None                                 |\n",
      "| created_at                   | 2017-06-09T04:48:05.000000           |\n",
      "| description                  | None                                 |\n",
      "| encrypted                    | False                                |\n",
      "| id                           | ff76b2ed-9131-42e3-8d0b-de40d6bfa04d |\n",
      "| metadata                     | {}                                   |\n",
      "| multiattach                  | False                                |\n",
      "| name                         | clone-vol                            |\n",
      "| os-vol-tenant-attr:tenant_id | 44be7b065a154e33aacbe7dbca18c6be     |\n",
      "| replication_status           | disabled                             |\n",
      "| size                         | 1                                    |\n",
      "| snapshot_id                  | None                                 |\n",
      "| source_volid                 | 3ac68b3f-62cd-4838-8689-2f1b335b79fa |\n",
      "| status                       | creating                             |\n",
      "| updated_at                   | 2017-06-09T04:48:05.000000           |\n",
      "| user_id                      | 8e9f38ff948143899c04c764848ef8d3     |\n",
      "| volume_type                  | iscsi                                |\n",
      "+------------------------------+--------------------------------------+\n"
     ]
    }
   ],
   "source": [
    "cinder create --name clone-vol --source-volid 3ac68b3f-62cd-4838-8689-2f1b335b79fa"
   ]
  },
  {
   "cell_type": "code",
   "execution_count": 40,
   "metadata": {},
   "outputs": [
    {
     "name": "stdout",
     "output_type": "stream",
     "text": [
      "+--------------------------------------+-----------+-----------+------+-------------+----------+-------------+\n",
      "| ID                                   | Status    | Name      | Size | Volume Type | Bootable | Attached to |\n",
      "+--------------------------------------+-----------+-----------+------+-------------+----------+-------------+\n",
      "| 3ac68b3f-62cd-4838-8689-2f1b335b79fa | available | test-vol2 | 1    | iscsi       | false    |             |\n",
      "| ff76b2ed-9131-42e3-8d0b-de40d6bfa04d | available | clone-vol | 1    | iscsi       | false    |             |\n",
      "+--------------------------------------+-----------+-----------+------+-------------+----------+-------------+\n"
     ]
    }
   ],
   "source": [
    "cinder list"
   ]
  },
  {
   "cell_type": "markdown",
   "metadata": {},
   "source": [
    "スナップショットからのクローン"
   ]
  },
  {
   "cell_type": "code",
   "execution_count": 41,
   "metadata": {},
   "outputs": [
    {
     "name": "stdout",
     "output_type": "stream",
     "text": [
      "+-------------+--------------------------------------+\n",
      "| Property    | Value                                |\n",
      "+-------------+--------------------------------------+\n",
      "| created_at  | 2017-06-09T04:48:26.313696           |\n",
      "| description | None                                 |\n",
      "| id          | cd2b38ad-e705-43a9-a8cc-44f473c1eced |\n",
      "| metadata    | {}                                   |\n",
      "| name        | snap1                                |\n",
      "| size        | 1                                    |\n",
      "| status      | creating                             |\n",
      "| updated_at  | None                                 |\n",
      "| volume_id   | 3ac68b3f-62cd-4838-8689-2f1b335b79fa |\n",
      "+-------------+--------------------------------------+\n"
     ]
    }
   ],
   "source": [
    "cinder snapshot-create --name snap1 3ac68b3f-62cd-4838-8689-2f1b335b79fa"
   ]
  },
  {
   "cell_type": "code",
   "execution_count": 42,
   "metadata": {},
   "outputs": [
    {
     "name": "stdout",
     "output_type": "stream",
     "text": [
      "+--------------------------------------+--------------------------------------+-----------+-------+------+\n",
      "| ID                                   | Volume ID                            | Status    | Name  | Size |\n",
      "+--------------------------------------+--------------------------------------+-----------+-------+------+\n",
      "| cd2b38ad-e705-43a9-a8cc-44f473c1eced | 3ac68b3f-62cd-4838-8689-2f1b335b79fa | available | snap1 | 1    |\n",
      "+--------------------------------------+--------------------------------------+-----------+-------+------+\n"
     ]
    }
   ],
   "source": [
    "cinder snapshot-list"
   ]
  },
  {
   "cell_type": "code",
   "execution_count": 43,
   "metadata": {},
   "outputs": [
    {
     "name": "stdout",
     "output_type": "stream",
     "text": [
      "+------------------------------+--------------------------------------+\n",
      "| Property                     | Value                                |\n",
      "+------------------------------+--------------------------------------+\n",
      "| attachments                  | []                                   |\n",
      "| availability_zone            | nova                                 |\n",
      "| bootable                     | false                                |\n",
      "| consistencygroup_id          | None                                 |\n",
      "| created_at                   | 2017-06-09T04:48:44.000000           |\n",
      "| description                  | None                                 |\n",
      "| encrypted                    | False                                |\n",
      "| id                           | b85d66e3-f7ad-4b02-9afe-2762a80d5de1 |\n",
      "| metadata                     | {}                                   |\n",
      "| multiattach                  | False                                |\n",
      "| name                         | clone-vol-from-snap                  |\n",
      "| os-vol-tenant-attr:tenant_id | 44be7b065a154e33aacbe7dbca18c6be     |\n",
      "| replication_status           | disabled                             |\n",
      "| size                         | 1                                    |\n",
      "| snapshot_id                  | cd2b38ad-e705-43a9-a8cc-44f473c1eced |\n",
      "| source_volid                 | None                                 |\n",
      "| status                       | creating                             |\n",
      "| updated_at                   | 2017-06-09T04:48:44.000000           |\n",
      "| user_id                      | 8e9f38ff948143899c04c764848ef8d3     |\n",
      "| volume_type                  | iscsi                                |\n",
      "+------------------------------+--------------------------------------+\n"
     ]
    }
   ],
   "source": [
    "cinder create --name clone-vol-from-snap --snapshot-id cd2b38ad-e705-43a9-a8cc-44f473c1eced"
   ]
  },
  {
   "cell_type": "code",
   "execution_count": 44,
   "metadata": {},
   "outputs": [
    {
     "name": "stdout",
     "output_type": "stream",
     "text": [
      "+--------------------------------------+-----------+---------------------+------+-------------+----------+-------------+\n",
      "| ID                                   | Status    | Name                | Size | Volume Type | Bootable | Attached to |\n",
      "+--------------------------------------+-----------+---------------------+------+-------------+----------+-------------+\n",
      "| 3ac68b3f-62cd-4838-8689-2f1b335b79fa | available | test-vol2           | 1    | iscsi       | false    |             |\n",
      "| b85d66e3-f7ad-4b02-9afe-2762a80d5de1 | available | clone-vol-from-snap | 1    | iscsi       | false    |             |\n",
      "| ff76b2ed-9131-42e3-8d0b-de40d6bfa04d | available | clone-vol           | 1    | iscsi       | false    |             |\n",
      "+--------------------------------------+-----------+---------------------+------+-------------+----------+-------------+\n"
     ]
    }
   ],
   "source": [
    "cinder list"
   ]
  },
  {
   "cell_type": "markdown",
   "metadata": {},
   "source": [
    "ボリュームをサーバーへ接続してデータの状態を確認します。"
   ]
  },
  {
   "cell_type": "code",
   "execution_count": 46,
   "metadata": {},
   "outputs": [
    {
     "name": "stdout",
     "output_type": "stream",
     "text": [
      "+----------+--------------------------------------+\n",
      "| Property | Value                                |\n",
      "+----------+--------------------------------------+\n",
      "| device   | /dev/vdc                             |\n",
      "| id       | ff76b2ed-9131-42e3-8d0b-de40d6bfa04d |\n",
      "| serverId | 9056f78a-966a-4b5f-85d8-36bcb99ee241 |\n",
      "| volumeId | ff76b2ed-9131-42e3-8d0b-de40d6bfa04d |\n",
      "+----------+--------------------------------------+\n"
     ]
    }
   ],
   "source": [
    "nova volume-attach test-vm-2-1 ff76b2ed-9131-42e3-8d0b-de40d6bfa04d"
   ]
  },
  {
   "cell_type": "code",
   "execution_count": 45,
   "metadata": {},
   "outputs": [
    {
     "name": "stdout",
     "output_type": "stream",
     "text": [
      "+----------+--------------------------------------+\n",
      "| Property | Value                                |\n",
      "+----------+--------------------------------------+\n",
      "| device   | /dev/vdb                             |\n",
      "| id       | b85d66e3-f7ad-4b02-9afe-2762a80d5de1 |\n",
      "| serverId | 9056f78a-966a-4b5f-85d8-36bcb99ee241 |\n",
      "| volumeId | b85d66e3-f7ad-4b02-9afe-2762a80d5de1 |\n",
      "+----------+--------------------------------------+\n"
     ]
    }
   ],
   "source": [
    "nova volume-attach test-vm-2-1 b85d66e3-f7ad-4b02-9afe-2762a80d5de1"
   ]
  },
  {
   "cell_type": "code",
   "execution_count": 47,
   "metadata": {},
   "outputs": [
    {
     "name": "stdout",
     "output_type": "stream",
     "text": [
      "+--------------------------------------+-----------+---------------------+------+-------------+----------+--------------------------------------+\n",
      "| ID                                   | Status    | Name                | Size | Volume Type | Bootable | Attached to                          |\n",
      "+--------------------------------------+-----------+---------------------+------+-------------+----------+--------------------------------------+\n",
      "| 3ac68b3f-62cd-4838-8689-2f1b335b79fa | available | test-vol2           | 1    | iscsi       | false    |                                      |\n",
      "| b85d66e3-f7ad-4b02-9afe-2762a80d5de1 | in-use    | clone-vol-from-snap | 1    | iscsi       | false    | 9056f78a-966a-4b5f-85d8-36bcb99ee241 |\n",
      "| ff76b2ed-9131-42e3-8d0b-de40d6bfa04d | in-use    | clone-vol           | 1    | iscsi       | false    | 9056f78a-966a-4b5f-85d8-36bcb99ee241 |\n",
      "+--------------------------------------+-----------+---------------------+------+-------------+----------+--------------------------------------+\n"
     ]
    }
   ],
   "source": [
    "cinder list"
   ]
  },
  {
   "cell_type": "code",
   "execution_count": 48,
   "metadata": {},
   "outputs": [
    {
     "name": "stdout",
     "output_type": "stream",
     "text": [
      "test-vm-2-1\n",
      "NAME   MAJ:MIN RM    SIZE RO TYPE MOUNTPOINT\n",
      "vda    253:0    0      1G  0 disk \n",
      "`-vda1 253:1    0 1011.9M  0 part /\n",
      "vdb    253:16   0      1G  0 disk \n",
      "`-vdb1 253:17   0   1023M  0 part \n",
      "vdc    253:32   0      1G  0 disk \n",
      "`-vdc1 253:33   0   1023M  0 part \n"
     ]
    }
   ],
   "source": [
    "ssh -oStrictHostKeyChecking=no -i ~/my-key.pem cirros@192.168.99.210 'hostname; lsblk'"
   ]
  },
  {
   "cell_type": "code",
   "execution_count": 49,
   "metadata": {
    "collapsed": true
   },
   "outputs": [],
   "source": [
    "ssh -oStrictHostKeyChecking=no -i ~/my-key.pem cirros@192.168.99.210 'sudo mkdir -p /mnt/cinder-vol1 /mnt/cinder-vol2'"
   ]
  },
  {
   "cell_type": "code",
   "execution_count": 50,
   "metadata": {
    "collapsed": true
   },
   "outputs": [],
   "source": [
    "ssh -oStrictHostKeyChecking=no -i ~/my-key.pem cirros@192.168.99.210 'sudo mount /dev/vdb1 /mnt/cinder-vol1'"
   ]
  },
  {
   "cell_type": "code",
   "execution_count": 51,
   "metadata": {
    "collapsed": true
   },
   "outputs": [],
   "source": [
    "ssh -oStrictHostKeyChecking=no -i ~/my-key.pem cirros@192.168.99.210 'sudo mount /dev/vdc1 /mnt/cinder-vol2'"
   ]
  },
  {
   "cell_type": "code",
   "execution_count": 53,
   "metadata": {},
   "outputs": [
    {
     "name": "stdout",
     "output_type": "stream",
     "text": [
      "Filesystem                Size      Used Available Use% Mounted on\n",
      "/dev                    242.3M         0    242.3M   0% /dev\n",
      "/dev/vda1                23.2M     18.0M      4.0M  82% /\n",
      "tmpfs                   245.8M         0    245.8M   0% /dev/shm\n",
      "tmpfs                   200.0K     72.0K    128.0K  36% /run\n",
      "/dev/vdb1              1006.9M     17.3M    938.5M   2% /mnt/cinder-vol1\n",
      "/dev/vdc1              1006.9M     17.3M    938.5M   2% /mnt/cinder-vol2\n"
     ]
    }
   ],
   "source": [
    "ssh -oStrictHostKeyChecking=no -i ~/my-key.pem cirros@192.168.99.210 'sudo df -h'"
   ]
  },
  {
   "cell_type": "code",
   "execution_count": 54,
   "metadata": {},
   "outputs": [
    {
     "name": "stdout",
     "output_type": "stream",
     "text": [
      "your_name\n"
     ]
    }
   ],
   "source": [
    "ssh -oStrictHostKeyChecking=no -i ~/my-key.pem cirros@192.168.99.210 'sudo cat /mnt/cinder-vol1/my-data.txt'"
   ]
  },
  {
   "cell_type": "code",
   "execution_count": 55,
   "metadata": {},
   "outputs": [
    {
     "name": "stdout",
     "output_type": "stream",
     "text": [
      "your_name\n"
     ]
    }
   ],
   "source": [
    "ssh -oStrictHostKeyChecking=no -i ~/my-key.pem cirros@192.168.99.210 'sudo cat /mnt/cinder-vol2/my-data.txt'"
   ]
  },
  {
   "cell_type": "markdown",
   "metadata": {},
   "source": [
    "#### サーバーとボリュームの削除"
   ]
  },
  {
   "cell_type": "code",
   "execution_count": 56,
   "metadata": {},
   "outputs": [
    {
     "name": "stdout",
     "output_type": "stream",
     "text": [
      "Request to delete server test-vm-2-1 has been accepted.\n",
      "Request to delete server test-vm-2-2 has been accepted.\n"
     ]
    }
   ],
   "source": [
    "nova delete test-vm-2-1 test-vm-2-2"
   ]
  },
  {
   "cell_type": "code",
   "execution_count": 58,
   "metadata": {},
   "outputs": [
    {
     "name": "stdout",
     "output_type": "stream",
     "text": [
      "+----+------+--------+------------+-------------+----------+\n",
      "| ID | Name | Status | Task State | Power State | Networks |\n",
      "+----+------+--------+------------+-------------+----------+\n",
      "+----+------+--------+------------+-------------+----------+\n"
     ]
    }
   ],
   "source": [
    "nova list"
   ]
  },
  {
   "cell_type": "code",
   "execution_count": 59,
   "metadata": {},
   "outputs": [
    {
     "name": "stdout",
     "output_type": "stream",
     "text": [
      "+--------------------------------------+-----------+---------------------+------+-------------+----------+-------------+\n",
      "| ID                                   | Status    | Name                | Size | Volume Type | Bootable | Attached to |\n",
      "+--------------------------------------+-----------+---------------------+------+-------------+----------+-------------+\n",
      "| 3ac68b3f-62cd-4838-8689-2f1b335b79fa | available | test-vol2           | 1    | iscsi       | false    |             |\n",
      "| b85d66e3-f7ad-4b02-9afe-2762a80d5de1 | available | clone-vol-from-snap | 1    | iscsi       | false    |             |\n",
      "| ff76b2ed-9131-42e3-8d0b-de40d6bfa04d | available | clone-vol           | 1    | iscsi       | false    |             |\n",
      "+--------------------------------------+-----------+---------------------+------+-------------+----------+-------------+\n"
     ]
    }
   ],
   "source": [
    "cinder list"
   ]
  },
  {
   "cell_type": "code",
   "execution_count": 60,
   "metadata": {},
   "outputs": [
    {
     "name": "stdout",
     "output_type": "stream",
     "text": [
      "Request to delete volume clone-vol has been accepted.\n",
      "Request to delete volume clone-vol-from-snap has been accepted.\n"
     ]
    }
   ],
   "source": [
    "cinder delete clone-vol clone-vol-from-snap"
   ]
  },
  {
   "cell_type": "markdown",
   "metadata": {},
   "source": [
    "スナップショットを持つボリュームを削除できないため、先にスナップショットを削除しておきます。"
   ]
  },
  {
   "cell_type": "code",
   "execution_count": 61,
   "metadata": {},
   "outputs": [
    {
     "name": "stdout",
     "output_type": "stream",
     "text": [
      "+--------------------------------------+--------------------------------------+-----------+-------+------+\n",
      "| ID                                   | Volume ID                            | Status    | Name  | Size |\n",
      "+--------------------------------------+--------------------------------------+-----------+-------+------+\n",
      "| cd2b38ad-e705-43a9-a8cc-44f473c1eced | 3ac68b3f-62cd-4838-8689-2f1b335b79fa | available | snap1 | 1    |\n",
      "+--------------------------------------+--------------------------------------+-----------+-------+------+\n"
     ]
    }
   ],
   "source": [
    "cinder snapshot-list"
   ]
  },
  {
   "cell_type": "code",
   "execution_count": 62,
   "metadata": {
    "collapsed": true
   },
   "outputs": [],
   "source": [
    "cinder snapshot-delete cd2b38ad-e705-43a9-a8cc-44f473c1eced"
   ]
  },
  {
   "cell_type": "code",
   "execution_count": 63,
   "metadata": {},
   "outputs": [
    {
     "name": "stdout",
     "output_type": "stream",
     "text": [
      "Request to delete volume test-vol2 has been accepted.\n"
     ]
    }
   ],
   "source": [
    "cinder delete test-vol2"
   ]
  },
  {
   "cell_type": "code",
   "execution_count": 64,
   "metadata": {},
   "outputs": [
    {
     "name": "stdout",
     "output_type": "stream",
     "text": [
      "+----+--------+------+------+-------------+----------+-------------+\n",
      "| ID | Status | Name | Size | Volume Type | Bootable | Attached to |\n",
      "+----+--------+------+------+-------------+----------+-------------+\n",
      "+----+--------+------+------+-------------+----------+-------------+\n"
     ]
    }
   ],
   "source": [
    "cinder list"
   ]
  },
  {
   "cell_type": "code",
   "execution_count": null,
   "metadata": {
    "collapsed": true
   },
   "outputs": [],
   "source": [
    "neutron floatingip-delete $FIP_UUID1"
   ]
  },
  {
   "cell_type": "code",
   "execution_count": null,
   "metadata": {
    "collapsed": true
   },
   "outputs": [],
   "source": [
    "neutron floatingip-delete $FIP_UUID2"
   ]
  }
 ],
 "metadata": {
  "kernelspec": {
   "display_name": "Bash",
   "language": "bash",
   "name": "bash"
  },
  "language_info": {
   "codemirror_mode": "shell",
   "file_extension": ".sh",
   "mimetype": "text/x-sh",
   "name": "bash"
  }
 },
 "nbformat": 4,
 "nbformat_minor": 2
}
