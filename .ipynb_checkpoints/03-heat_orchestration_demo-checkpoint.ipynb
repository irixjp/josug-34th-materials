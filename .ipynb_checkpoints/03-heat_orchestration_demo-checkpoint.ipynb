{
 "cells": [
  {
   "cell_type": "markdown",
   "metadata": {},
   "source": [
    "### Heat を使ったオーケストレーション\n",
    "これまでの操作は、単に仮想マシンを作成したり、ストレージを接続したりと、従来のオペレーションと大きな差はありません。\n",
    "しかし、Heat や Ansible等のツールと組み合わせることで、これまではできなかった新しいシステム構築・管理を行う事が可能になります。"
   ]
  },
  {
   "cell_type": "markdown",
   "metadata": {},
   "source": [
    "Heat の詳細について\n",
    "https://www.slideshare.net/irix_jp/josug-meetup-28th-heat-101"
   ]
  },
  {
   "cell_type": "markdown",
   "metadata": {},
   "source": [
    "２つのテンプレートをダウンロード。このテンプレートは、N台のWEBサーバーを起動して、自動的にロードバランサー配下で動作するように設定しています。"
   ]
  },
  {
   "cell_type": "code",
   "execution_count": 1,
   "metadata": {},
   "outputs": [
    {
     "name": "stdout",
     "output_type": "stream",
     "text": [
      "--2017-06-09 13:52:41--  https://raw.githubusercontent.com/irixjp/josug-34th-materials/master/cluster.yaml\n",
      "Resolving raw.githubusercontent.com (raw.githubusercontent.com)... 151.101.8.133\n",
      "Connecting to raw.githubusercontent.com (raw.githubusercontent.com)|151.101.8.133|:443... connected.\n",
      "HTTP request sent, awaiting response... 200 OK\n",
      "Length: 3187 (3.1K) [text/plain]\n",
      "Saving to: ‘cluster.yaml.1’\n",
      "\n",
      "100%[======================================>] 3,187       --.-K/s   in 0s      \n",
      "\n",
      "2017-06-09 13:52:42 (58.1 MB/s) - ‘cluster.yaml.1’ saved [3187/3187]\n",
      "\n"
     ]
    }
   ],
   "source": [
    "wget https://raw.githubusercontent.com/irixjp/josug-34th-materials/master/cluster.yaml"
   ]
  },
  {
   "cell_type": "code",
   "execution_count": 2,
   "metadata": {},
   "outputs": [
    {
     "name": "stdout",
     "output_type": "stream",
     "text": [
      "--2017-06-09 13:52:43--  https://raw.githubusercontent.com/irixjp/josug-34th-materials/master/lb_server.yaml\n",
      "Resolving raw.githubusercontent.com (raw.githubusercontent.com)... 151.101.8.133\n",
      "Connecting to raw.githubusercontent.com (raw.githubusercontent.com)|151.101.8.133|:443... connected.\n",
      "HTTP request sent, awaiting response... 200 OK\n",
      "Length: 1904 (1.9K) [text/plain]\n",
      "Saving to: ‘lb_server.yaml.1’\n",
      "\n",
      "100%[======================================>] 1,904       --.-K/s   in 0s      \n",
      "\n",
      "2017-06-09 13:52:44 (71.2 MB/s) - ‘lb_server.yaml.1’ saved [1904/1904]\n",
      "\n"
     ]
    }
   ],
   "source": [
    "wget https://raw.githubusercontent.com/irixjp/josug-34th-materials/master/lb_server.yaml"
   ]
  },
  {
   "cell_type": "markdown",
   "metadata": {},
   "source": [
    "#### スタックの作成"
   ]
  },
  {
   "cell_type": "markdown",
   "metadata": {},
   "source": [
    "2台のWEBサーバーを起動して、LB配下に収めます。"
   ]
  },
  {
   "cell_type": "code",
   "execution_count": 3,
   "metadata": {},
   "outputs": [
    {
     "name": "stdout",
     "output_type": "stream",
     "text": [
      "WARNING (shell) \"heat stack-create\" is deprecated, please use \"openstack stack create\" instead\n",
      "WARNING (shell) \"heat stack-list\" is deprecated, please use \"openstack stack list\" instead\n",
      "+--------------------------------------+------------+--------------------+----------------------+--------------+\n",
      "| id                                   | stack_name | stack_status       | creation_time        | updated_time |\n",
      "+--------------------------------------+------------+--------------------+----------------------+--------------+\n",
      "| 869d331d-cc74-4cba-87cf-16f6c7a82dad | lbv2       | CREATE_IN_PROGRESS | 2017-06-09T04:52:50Z | None         |\n",
      "+--------------------------------------+------------+--------------------+----------------------+--------------+\n"
     ]
    }
   ],
   "source": [
    "heat stack-create -f cluster.yaml -P 'cluster_size=2' lbv2"
   ]
  },
  {
   "cell_type": "code",
   "execution_count": 5,
   "metadata": {},
   "outputs": [
    {
     "name": "stdout",
     "output_type": "stream",
     "text": [
      "WARNING (shell) \"heat resource-list\" is deprecated, please use \"openstack stack resource list\" instead\n",
      "+---------------+--------------------------------------+------------------------------------------------------------+--------------------+----------------------+-------------------------------+\n",
      "| resource_name | physical_resource_id                 | resource_type                                              | resource_status    | updated_time         | stack_name                    |\n",
      "+---------------+--------------------------------------+------------------------------------------------------------+--------------------+----------------------+-------------------------------+\n",
      "| floating_ip   | 7814b6fd-1ce9-4e56-bb9c-b5a381ce8072 | OS::Neutron::FloatingIP                                    | CREATE_COMPLETE    | 2017-06-09T04:52:51Z | lbv2                          |\n",
      "| listener      | 114ac517-de54-4dea-8b61-2fff2127c82f | OS::Neutron::LBaaS::Listener                               | CREATE_COMPLETE    | 2017-06-09T04:52:51Z | lbv2                          |\n",
      "| loadbalancer  | d6da234e-a3bf-43bd-a64a-016acbff4a3e | OS::Neutron::LBaaS::LoadBalancer                           | CREATE_COMPLETE    | 2017-06-09T04:52:51Z | lbv2                          |\n",
      "| monitor       | 94ac5c01-0850-4ea4-a42d-ddb199bdbac9 | OS::Neutron::LBaaS::HealthMonitor                          | CREATE_IN_PROGRESS | 2017-06-09T04:52:51Z | lbv2                          |\n",
      "| pool          | 61a813e2-6de9-478f-92f0-d960009b6fb5 | OS::Neutron::LBaaS::Pool                                   | CREATE_COMPLETE    | 2017-06-09T04:52:51Z | lbv2                          |\n",
      "| sec_group     | 42892932-cac5-41bc-8a3e-b0259bb523db | OS::Neutron::SecurityGroup                                 | CREATE_COMPLETE    | 2017-06-09T04:52:51Z | lbv2                          |\n",
      "| web_cluster   | 02746a9d-36dd-4194-aae8-2ac6a90fe544 | OS::Heat::ResourceGroup                                    | CREATE_IN_PROGRESS | 2017-06-09T04:52:51Z | lbv2                          |\n",
      "| 0             |                                      | file:///home/openstack/josug-34th-materials/lb_server.yaml | CREATE_IN_PROGRESS | 2017-06-09T04:53:06Z | lbv2-web_cluster-tkp5b4dvjpmh |\n",
      "| 1             |                                      | file:///home/openstack/josug-34th-materials/lb_server.yaml | CREATE_IN_PROGRESS | 2017-06-09T04:53:06Z | lbv2-web_cluster-tkp5b4dvjpmh |\n",
      "+---------------+--------------------------------------+------------------------------------------------------------+--------------------+----------------------+-------------------------------+\n"
     ]
    }
   ],
   "source": [
    "heat resource-list -n 2 lbv2"
   ]
  },
  {
   "cell_type": "code",
   "execution_count": 6,
   "metadata": {},
   "outputs": [
    {
     "name": "stdout",
     "output_type": "stream",
     "text": [
      "+--------------------------------------+-------------------------------------------------------+--------+------------+-------------+----------+\n",
      "| ID                                   | Name                                                  | Status | Task State | Power State | Networks |\n",
      "+--------------------------------------+-------------------------------------------------------+--------+------------+-------------+----------+\n",
      "| da158627-bfce-4e87-9f71-f704b406d779 | lb-er-tkp5b4dvjpmh-0-cbwjvkjueslv-server-7taw4pzl72m4 | BUILD  | spawning   | NOSTATE     |          |\n",
      "| 9351a738-e7f8-43e0-98e8-3592b9bc3a89 | lb-er-tkp5b4dvjpmh-1-a32yubr5zi4t-server-omynekqbbqi3 | BUILD  | spawning   | NOSTATE     |          |\n",
      "+--------------------------------------+-------------------------------------------------------+--------+------------+-------------+----------+\n"
     ]
    }
   ],
   "source": [
    "nova list"
   ]
  },
  {
   "cell_type": "markdown",
   "metadata": {},
   "source": [
    "COMPETEになるのを待ちます。"
   ]
  },
  {
   "cell_type": "code",
   "execution_count": 9,
   "metadata": {},
   "outputs": [
    {
     "name": "stdout",
     "output_type": "stream",
     "text": [
      "WARNING (shell) \"heat stack-list\" is deprecated, please use \"openstack stack list\" instead\n",
      "+--------------------------------------+------------+-----------------+----------------------+--------------+\n",
      "| id                                   | stack_name | stack_status    | creation_time        | updated_time |\n",
      "+--------------------------------------+------------+-----------------+----------------------+--------------+\n",
      "| 869d331d-cc74-4cba-87cf-16f6c7a82dad | lbv2       | CREATE_COMPLETE | 2017-06-09T04:52:50Z | None         |\n",
      "+--------------------------------------+------------+-----------------+----------------------+--------------+\n"
     ]
    }
   ],
   "source": [
    "heat stack-list"
   ]
  },
  {
   "cell_type": "code",
   "execution_count": 10,
   "metadata": {},
   "outputs": [
    {
     "name": "stdout",
     "output_type": "stream",
     "text": [
      "WARNING (shell) \"heat output-show\" is deprecated, please use \"openstack stack output show\" instead\n",
      "\"http://192.168.99.207:80\"\n"
     ]
    }
   ],
   "source": [
    "heat output-show lbv2 --all"
   ]
  },
  {
   "cell_type": "code",
   "execution_count": 11,
   "metadata": {},
   "outputs": [
    {
     "name": "stdout",
     "output_type": "stream",
     "text": [
      "http://192.168.99.207:80\n"
     ]
    }
   ],
   "source": [
    "URL=http://192.168.99.207:80\n",
    "echo $URL"
   ]
  },
  {
   "cell_type": "code",
   "execution_count": 12,
   "metadata": {},
   "outputs": [
    {
     "name": "stdout",
     "output_type": "stream",
     "text": [
      "lb-er-tkp5b4dvjpmh-0-cbwjvkjueslv-server-7taw4pzl72m4"
     ]
    }
   ],
   "source": [
    "#watch -n 1 -d curl -s $URL\n",
    "curl -s $URL"
   ]
  },
  {
   "cell_type": "code",
   "execution_count": 13,
   "metadata": {},
   "outputs": [
    {
     "name": "stdout",
     "output_type": "stream",
     "text": [
      "lb-er-tkp5b4dvjpmh-1-a32yubr5zi4t-server-omynekqbbqi3"
     ]
    }
   ],
   "source": [
    "curl -s $URL"
   ]
  },
  {
   "cell_type": "code",
   "execution_count": 15,
   "metadata": {},
   "outputs": [
    {
     "name": "stdout",
     "output_type": "stream",
     "text": [
      "lb-er-tkp5b4dvjpmh-1-a32yubr5zi4t-server-omynekqbbqi3\n",
      "lb-er-tkp5b4dvjpmh-0-cbwjvkjueslv-server-7taw4pzl72m4\n",
      "lb-er-tkp5b4dvjpmh-1-a32yubr5zi4t-server-omynekqbbqi3\n",
      "lb-er-tkp5b4dvjpmh-0-cbwjvkjueslv-server-7taw4pzl72m4\n",
      "lb-er-tkp5b4dvjpmh-1-a32yubr5zi4t-server-omynekqbbqi3\n",
      "lb-er-tkp5b4dvjpmh-0-cbwjvkjueslv-server-7taw4pzl72m4\n",
      "lb-er-tkp5b4dvjpmh-1-a32yubr5zi4t-server-omynekqbbqi3\n",
      "lb-er-tkp5b4dvjpmh-0-cbwjvkjueslv-server-7taw4pzl72m4\n",
      "lb-er-tkp5b4dvjpmh-1-a32yubr5zi4t-server-omynekqbbqi3\n",
      "lb-er-tkp5b4dvjpmh-0-cbwjvkjueslv-server-7taw4pzl72m4\n",
      "lb-er-tkp5b4dvjpmh-1-a32yubr5zi4t-server-omynekqbbqi3\n"
     ]
    }
   ],
   "source": [
    "for i in {0..10}; do echo `curl -s $URL`; sleep 1; done"
   ]
  },
  {
   "cell_type": "markdown",
   "metadata": {},
   "source": [
    "#### スタックのアップデート"
   ]
  },
  {
   "cell_type": "markdown",
   "metadata": {},
   "source": [
    "サーバー台数を5台に変更します。"
   ]
  },
  {
   "cell_type": "code",
   "execution_count": 16,
   "metadata": {},
   "outputs": [
    {
     "name": "stdout",
     "output_type": "stream",
     "text": [
      "WARNING (shell) \"heat stack-list\" is deprecated, please use \"openstack stack list\" instead\n",
      "+--------------------------------------+------------+-----------------+----------------------+--------------+\n",
      "| id                                   | stack_name | stack_status    | creation_time        | updated_time |\n",
      "+--------------------------------------+------------+-----------------+----------------------+--------------+\n",
      "| 869d331d-cc74-4cba-87cf-16f6c7a82dad | lbv2       | CREATE_COMPLETE | 2017-06-09T04:52:50Z | None         |\n",
      "+--------------------------------------+------------+-----------------+----------------------+--------------+\n"
     ]
    }
   ],
   "source": [
    "heat stack-list"
   ]
  },
  {
   "cell_type": "code",
   "execution_count": 17,
   "metadata": {},
   "outputs": [
    {
     "name": "stdout",
     "output_type": "stream",
     "text": [
      "WARNING (shell) \"heat stack-update\" is deprecated, please use \"openstack stack update\" instead\n",
      "WARNING (shell) \"heat stack-list\" is deprecated, please use \"openstack stack list\" instead\n",
      "+--------------------------------------+------------+--------------------+----------------------+----------------------+\n",
      "| id                                   | stack_name | stack_status       | creation_time        | updated_time         |\n",
      "+--------------------------------------+------------+--------------------+----------------------+----------------------+\n",
      "| 869d331d-cc74-4cba-87cf-16f6c7a82dad | lbv2       | UPDATE_IN_PROGRESS | 2017-06-09T04:52:50Z | 2017-06-09T04:58:25Z |\n",
      "+--------------------------------------+------------+--------------------+----------------------+----------------------+\n"
     ]
    }
   ],
   "source": [
    "heat stack-update -f cluster.yaml -P 'cluster_size=5' lbv2"
   ]
  },
  {
   "cell_type": "code",
   "execution_count": 18,
   "metadata": {},
   "outputs": [
    {
     "name": "stdout",
     "output_type": "stream",
     "text": [
      "+--------------------------------------+-------------------------------------------------------+--------+------------+-------------+----------------------+\n",
      "| ID                                   | Name                                                  | Status | Task State | Power State | Networks             |\n",
      "+--------------------------------------+-------------------------------------------------------+--------+------------+-------------+----------------------+\n",
      "| da158627-bfce-4e87-9f71-f704b406d779 | lb-er-tkp5b4dvjpmh-0-cbwjvkjueslv-server-7taw4pzl72m4 | ACTIVE | -          | Running     | work-net=172.16.11.6 |\n",
      "| 9351a738-e7f8-43e0-98e8-3592b9bc3a89 | lb-er-tkp5b4dvjpmh-1-a32yubr5zi4t-server-omynekqbbqi3 | ACTIVE | -          | Running     | work-net=172.16.11.2 |\n",
      "| 1f724095-7271-4372-883f-3dc208cd2208 | lb-er-tkp5b4dvjpmh-2-yojpnxusewf4-server-vf76a3q67zzc | BUILD  | spawning   | NOSTATE     |                      |\n",
      "| 399ff877-0e75-4d79-9a7d-b4982d7970e0 | lb-er-tkp5b4dvjpmh-3-if6qrgbagned-server-kysxv6ztj4pz | BUILD  | spawning   | NOSTATE     |                      |\n",
      "| 6b261ad9-1d61-455e-9922-5d0ed3b9ed2f | lb-er-tkp5b4dvjpmh-4-zelct2mvwmdu-server-r2ltebdlwtwi | BUILD  | spawning   | NOSTATE     |                      |\n",
      "+--------------------------------------+-------------------------------------------------------+--------+------------+-------------+----------------------+\n"
     ]
    }
   ],
   "source": [
    "nova list"
   ]
  },
  {
   "cell_type": "code",
   "execution_count": 19,
   "metadata": {},
   "outputs": [
    {
     "name": "stdout",
     "output_type": "stream",
     "text": [
      "WARNING (shell) \"heat resource-list\" is deprecated, please use \"openstack stack resource list\" instead\n",
      "+-------------------+--------------------------------------+------------------------------------------------------------+--------------------+----------------------+----------------------------------------------+\n",
      "| resource_name     | physical_resource_id                 | resource_type                                              | resource_status    | updated_time         | stack_name                                   |\n",
      "+-------------------+--------------------------------------+------------------------------------------------------------+--------------------+----------------------+----------------------------------------------+\n",
      "| floating_ip       | 7814b6fd-1ce9-4e56-bb9c-b5a381ce8072 | OS::Neutron::FloatingIP                                    | CREATE_COMPLETE    | 2017-06-09T04:52:51Z | lbv2                                         |\n",
      "| listener          | 114ac517-de54-4dea-8b61-2fff2127c82f | OS::Neutron::LBaaS::Listener                               | CREATE_COMPLETE    | 2017-06-09T04:52:51Z | lbv2                                         |\n",
      "| loadbalancer      | d6da234e-a3bf-43bd-a64a-016acbff4a3e | OS::Neutron::LBaaS::LoadBalancer                           | CREATE_COMPLETE    | 2017-06-09T04:52:51Z | lbv2                                         |\n",
      "| monitor           | 94ac5c01-0850-4ea4-a42d-ddb199bdbac9 | OS::Neutron::LBaaS::HealthMonitor                          | CREATE_COMPLETE    | 2017-06-09T04:52:51Z | lbv2                                         |\n",
      "| pool              | 61a813e2-6de9-478f-92f0-d960009b6fb5 | OS::Neutron::LBaaS::Pool                                   | CREATE_COMPLETE    | 2017-06-09T04:52:51Z | lbv2                                         |\n",
      "| sec_group         | 42892932-cac5-41bc-8a3e-b0259bb523db | OS::Neutron::SecurityGroup                                 | CREATE_COMPLETE    | 2017-06-09T04:52:51Z | lbv2                                         |\n",
      "| config_simple_web | 036b05e6-766d-4dd9-8952-b36a4477ae92 | OS::Heat::SoftwareConfig                                   | CREATE_COMPLETE    | 2017-06-09T04:53:11Z | lbv2-web_cluster-tkp5b4dvjpmh-1-a32yubr5zi4t |\n",
      "| config_simple_web | 7c6f5345-9638-433e-988c-c2f8cbc89940 | OS::Heat::SoftwareConfig                                   | CREATE_COMPLETE    | 2017-06-09T04:53:11Z | lbv2-web_cluster-tkp5b4dvjpmh-0-cbwjvkjueslv |\n",
      "| member            | 6f5110d7-c18b-433c-b6ff-39639aee1c48 | OS::Neutron::LBaaS::PoolMember                             | CREATE_COMPLETE    | 2017-06-09T04:53:11Z | lbv2-web_cluster-tkp5b4dvjpmh-0-cbwjvkjueslv |\n",
      "| member            | 8c9a9d59-96ca-44d3-8d36-af69a599f54c | OS::Neutron::LBaaS::PoolMember                             | CREATE_COMPLETE    | 2017-06-09T04:53:11Z | lbv2-web_cluster-tkp5b4dvjpmh-1-a32yubr5zi4t |\n",
      "| server            | 9351a738-e7f8-43e0-98e8-3592b9bc3a89 | OS::Nova::Server                                           | CREATE_COMPLETE    | 2017-06-09T04:53:11Z | lbv2-web_cluster-tkp5b4dvjpmh-1-a32yubr5zi4t |\n",
      "| server            | da158627-bfce-4e87-9f71-f704b406d779 | OS::Nova::Server                                           | CREATE_COMPLETE    | 2017-06-09T04:53:11Z | lbv2-web_cluster-tkp5b4dvjpmh-0-cbwjvkjueslv |\n",
      "| web_cluster       | 02746a9d-36dd-4194-aae8-2ac6a90fe544 | OS::Heat::ResourceGroup                                    | UPDATE_IN_PROGRESS | 2017-06-09T04:58:27Z | lbv2                                         |\n",
      "| 0                 | 2149bbd2-9d85-4cfe-94ae-a476fe6e3d99 | file:///home/openstack/josug-34th-materials/lb_server.yaml | UPDATE_COMPLETE    | 2017-06-09T04:58:29Z | lbv2-web_cluster-tkp5b4dvjpmh                |\n",
      "| 1                 | cc334989-b68d-4f4f-940a-43c5f2c42e2e | file:///home/openstack/josug-34th-materials/lb_server.yaml | UPDATE_COMPLETE    | 2017-06-09T04:58:29Z | lbv2-web_cluster-tkp5b4dvjpmh                |\n",
      "| 2                 | 691c7410-ca75-4f0b-ad63-1dd8d55e1245 | file:///home/openstack/josug-34th-materials/lb_server.yaml | CREATE_IN_PROGRESS | 2017-06-09T04:58:29Z | lbv2-web_cluster-tkp5b4dvjpmh                |\n",
      "| 3                 | 20c8dcbe-4193-45ac-aabd-7c7e0df84811 | file:///home/openstack/josug-34th-materials/lb_server.yaml | CREATE_IN_PROGRESS | 2017-06-09T04:58:29Z | lbv2-web_cluster-tkp5b4dvjpmh                |\n",
      "| 4                 | c6ea0089-10dd-4bd3-905f-0de0840b136c | file:///home/openstack/josug-34th-materials/lb_server.yaml | CREATE_IN_PROGRESS | 2017-06-09T04:58:29Z | lbv2-web_cluster-tkp5b4dvjpmh                |\n",
      "| config_simple_web | 35f9de4a-dcfc-48c7-9e4e-d1517da58728 | OS::Heat::SoftwareConfig                                   | CREATE_COMPLETE    | 2017-06-09T04:58:35Z | lbv2-web_cluster-tkp5b4dvjpmh-2-yojpnxusewf4 |\n",
      "| member            |                                      | OS::Neutron::LBaaS::PoolMember                             | INIT_COMPLETE      | 2017-06-09T04:58:35Z | lbv2-web_cluster-tkp5b4dvjpmh-2-yojpnxusewf4 |\n",
      "| server            | 1f724095-7271-4372-883f-3dc208cd2208 | OS::Nova::Server                                           | CREATE_IN_PROGRESS | 2017-06-09T04:58:35Z | lbv2-web_cluster-tkp5b4dvjpmh-2-yojpnxusewf4 |\n",
      "| config_simple_web | e553de38-2cc1-45fa-9873-4123337d8e2b | OS::Heat::SoftwareConfig                                   | CREATE_COMPLETE    | 2017-06-09T04:58:36Z | lbv2-web_cluster-tkp5b4dvjpmh-4-zelct2mvwmdu |\n",
      "| member            |                                      | OS::Neutron::LBaaS::PoolMember                             | INIT_COMPLETE      | 2017-06-09T04:58:36Z | lbv2-web_cluster-tkp5b4dvjpmh-4-zelct2mvwmdu |\n",
      "| server            | 6b261ad9-1d61-455e-9922-5d0ed3b9ed2f | OS::Nova::Server                                           | CREATE_IN_PROGRESS | 2017-06-09T04:58:36Z | lbv2-web_cluster-tkp5b4dvjpmh-4-zelct2mvwmdu |\n",
      "| config_simple_web | f7561eef-ed77-4834-9530-b5f22a1fa1f4 | OS::Heat::SoftwareConfig                                   | CREATE_COMPLETE    | 2017-06-09T04:58:38Z | lbv2-web_cluster-tkp5b4dvjpmh-3-if6qrgbagned |\n",
      "| member            |                                      | OS::Neutron::LBaaS::PoolMember                             | INIT_COMPLETE      | 2017-06-09T04:58:38Z | lbv2-web_cluster-tkp5b4dvjpmh-3-if6qrgbagned |\n",
      "| server            | 399ff877-0e75-4d79-9a7d-b4982d7970e0 | OS::Nova::Server                                           | CREATE_IN_PROGRESS | 2017-06-09T04:58:38Z | lbv2-web_cluster-tkp5b4dvjpmh-3-if6qrgbagned |\n",
      "+-------------------+--------------------------------------+------------------------------------------------------------+--------------------+----------------------+----------------------------------------------+\n"
     ]
    }
   ],
   "source": [
    "heat resource-list -n 2 lbv2"
   ]
  },
  {
   "cell_type": "markdown",
   "metadata": {},
   "source": [
    "COMPLETEになるのを待ちます"
   ]
  },
  {
   "cell_type": "code",
   "execution_count": 20,
   "metadata": {},
   "outputs": [
    {
     "name": "stdout",
     "output_type": "stream",
     "text": [
      "WARNING (shell) \"heat stack-list\" is deprecated, please use \"openstack stack list\" instead\n",
      "+--------------------------------------+------------+-----------------+----------------------+----------------------+\n",
      "| id                                   | stack_name | stack_status    | creation_time        | updated_time         |\n",
      "+--------------------------------------+------------+-----------------+----------------------+----------------------+\n",
      "| 869d331d-cc74-4cba-87cf-16f6c7a82dad | lbv2       | UPDATE_COMPLETE | 2017-06-09T04:52:50Z | 2017-06-09T04:58:25Z |\n",
      "+--------------------------------------+------------+-----------------+----------------------+----------------------+\n"
     ]
    }
   ],
   "source": [
    "heat stack-list"
   ]
  },
  {
   "cell_type": "code",
   "execution_count": 21,
   "metadata": {},
   "outputs": [
    {
     "name": "stdout",
     "output_type": "stream",
     "text": [
      "lb-er-tkp5b4dvjpmh-0-cbwjvkjueslv-server-7taw4pzl72m4"
     ]
    }
   ],
   "source": [
    "#watch -n 1 -d curl -s $URL\n",
    "curl -s $URL"
   ]
  },
  {
   "cell_type": "code",
   "execution_count": 22,
   "metadata": {},
   "outputs": [
    {
     "name": "stdout",
     "output_type": "stream",
     "text": [
      "lb-er-tkp5b4dvjpmh-1-a32yubr5zi4t-server-omynekqbbqi3\n",
      "lb-er-tkp5b4dvjpmh-0-cbwjvkjueslv-server-7taw4pzl72m4\n",
      "lb-er-tkp5b4dvjpmh-3-if6qrgbagned-server-kysxv6ztj4pz\n",
      "lb-er-tkp5b4dvjpmh-2-yojpnxusewf4-server-vf76a3q67zzc\n",
      "lb-er-tkp5b4dvjpmh-4-zelct2mvwmdu-server-r2ltebdlwtwi\n",
      "lb-er-tkp5b4dvjpmh-1-a32yubr5zi4t-server-omynekqbbqi3\n",
      "lb-er-tkp5b4dvjpmh-0-cbwjvkjueslv-server-7taw4pzl72m4\n",
      "lb-er-tkp5b4dvjpmh-3-if6qrgbagned-server-kysxv6ztj4pz\n",
      "lb-er-tkp5b4dvjpmh-2-yojpnxusewf4-server-vf76a3q67zzc\n",
      "lb-er-tkp5b4dvjpmh-4-zelct2mvwmdu-server-r2ltebdlwtwi\n",
      "lb-er-tkp5b4dvjpmh-1-a32yubr5zi4t-server-omynekqbbqi3\n"
     ]
    }
   ],
   "source": [
    "for i in {0..10}; do echo `curl -s $URL`; sleep 1; done"
   ]
  },
  {
   "cell_type": "markdown",
   "metadata": {},
   "source": [
    "#### スタックの削除"
   ]
  },
  {
   "cell_type": "code",
   "execution_count": 23,
   "metadata": {},
   "outputs": [
    {
     "name": "stdout",
     "output_type": "stream",
     "text": [
      "WARNING (shell) \"heat stack-delete\" is deprecated, please use \"openstack stack delete\" instead\n",
      "Request to delete stack lbv2 has been accepted.\n"
     ]
    }
   ],
   "source": [
    "heat stack-delete -y lbv2"
   ]
  },
  {
   "cell_type": "code",
   "execution_count": 26,
   "metadata": {},
   "outputs": [
    {
     "name": "stdout",
     "output_type": "stream",
     "text": [
      "WARNING (shell) \"heat stack-list\" is deprecated, please use \"openstack stack list\" instead\n",
      "+----+------------+--------------+---------------+--------------+\n",
      "| id | stack_name | stack_status | creation_time | updated_time |\n",
      "+----+------------+--------------+---------------+--------------+\n",
      "+----+------------+--------------+---------------+--------------+\n"
     ]
    }
   ],
   "source": [
    "heat stack-list"
   ]
  },
  {
   "cell_type": "code",
   "execution_count": 27,
   "metadata": {},
   "outputs": [
    {
     "name": "stdout",
     "output_type": "stream",
     "text": [
      "+----+------+--------+------------+-------------+----------+\n",
      "| ID | Name | Status | Task State | Power State | Networks |\n",
      "+----+------+--------+------------+-------------+----------+\n",
      "+----+------+--------+------------+-------------+----------+\n"
     ]
    }
   ],
   "source": [
    "nova list"
   ]
  }
 ],
 "metadata": {
  "kernelspec": {
   "display_name": "Bash",
   "language": "bash",
   "name": "bash"
  },
  "language_info": {
   "codemirror_mode": "shell",
   "file_extension": ".sh",
   "mimetype": "text/x-sh",
   "name": "bash"
  }
 },
 "nbformat": 4,
 "nbformat_minor": 2
}
