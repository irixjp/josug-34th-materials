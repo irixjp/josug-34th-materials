{
 "cells": [
  {
   "cell_type": "markdown",
   "metadata": {},
   "source": [
    "### Heat を使ったオーケストレーション\n",
    "これまでの操作は、単に仮想マシンを作成したり、ストレージを接続したりと、従来のオペレーションと大きな差はありません。\n",
    "Heat や Ansible等のツールと組み合わせることで、これまではできなかった新しいシステム構築・管理を行う事が可能になります。"
   ]
  },
  {
   "cell_type": "code",
   "execution_count": null,
   "metadata": {
    "collapsed": true
   },
   "outputs": [],
   "source": []
  }
 ],
 "metadata": {
  "kernelspec": {
   "display_name": "Bash",
   "language": "bash",
   "name": "bash"
  },
  "language_info": {
   "codemirror_mode": "shell",
   "file_extension": ".sh",
   "mimetype": "text/x-sh",
   "name": "bash"
  }
 },
 "nbformat": 4,
 "nbformat_minor": 2
}
