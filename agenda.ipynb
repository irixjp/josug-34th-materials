{
 "cells": [
  {
   "cell_type": "markdown",
   "metadata": {},
   "source": [
    "### OpenStack ハンズオン 2017\n",
    "\n",
    "#### コンテンツ\n",
    "\n",
    "- [基礎的な使い方１](https://irixjp.github.io/josug-34th-materials/01-basic_server_operations.html)\n",
    "- [基礎的な使い方２](https://irixjp.github.io/josug-34th-materials/02-basic_storage_operations.html)\n",
    "- [一歩進んだ使い方 オーケストレーション](https://irixjp.github.io/josug-34th-materials/03-heat_orchestration_demo.html)\n",
    "- [コマンドヘルプの見方](https://irixjp.github.io/josug-34th-materials/04-commnad_line_help.html)\n",
    "- [高度な自動化 Ansible + OpenStack](https://irixjp.github.io/josug-34th-materials/05-ansible_and_heat.html)\n"
   ]
  }
 ],
 "metadata": {
  "kernelspec": {
   "display_name": "Bash",
   "language": "bash",
   "name": "bash"
  },
  "language_info": {
   "codemirror_mode": "shell",
   "file_extension": ".sh",
   "mimetype": "text/x-sh",
   "name": "bash"
  }
 },
 "nbformat": 4,
 "nbformat_minor": 2
}
