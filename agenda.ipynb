{
 "cells": [
  {
   "cell_type": "markdown",
   "metadata": {},
   "source": [
    "### OpenStack ハンズオン 2017\n",
    "\n",
    "#### コンテンツ\n",
    "\n",
    "- [基礎的な使い方１](https://irixjp.github.io/josug-34th-materials/01-basic_server_operations.html)\n",
    "- [基礎的な使い方２](https://irixjp.github.io/josug-34th-materials/02-basic_storage_operations.html)\n",
    "- [一歩進んだ使い方 オーケストレーション](https://irixjp.github.io/josug-34th-materials/03-heat_orchestration_demo.html)\n",
    "- [コマンドヘルプの見方](https://irixjp.github.io/josug-34th-materials/04-commnad_line_help.html)\n",
    "- [高度な自動化 Ansible + OpenStack](https://irixjp.github.io/josug-34th-materials/05-ansible_and_heat.html)\n",
    "\n",
    "#### 各種マテリアル\n",
    "\n",
    "- [https://github.com/irixjp/josug-34th-materials](https://github.com/irixjp/josug-34th-materials)\n",
    "\n",
    "#### 自習のための情報\n",
    "\n",
    "- [OpenStackの概要](https://www.slideshare.net/irix_jp/josug-34th-meetup)\n",
    "- [演習環境の構築](https://www.slideshare.net/irix_jp/japan-openstack-user-group-34th-meetup-handson-environment)\n",
    "- 演習用VMのダウンロード(準備中)"
   ]
  }
 ],
 "metadata": {
  "kernelspec": {
   "display_name": "Bash",
   "language": "bash",
   "name": "bash"
  },
  "language_info": {
   "codemirror_mode": "shell",
   "file_extension": ".sh",
   "mimetype": "text/x-sh",
   "name": "bash"
  }
 },
 "nbformat": 4,
 "nbformat_minor": 2
}
