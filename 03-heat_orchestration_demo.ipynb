{
 "cells": [
  {
   "cell_type": "markdown",
   "metadata": {},
   "source": [
    "### Heat を使ったオーケストレーション\n",
    "これまでの操作は、単に仮想マシンを作成したり、ストレージを接続したりと、従来のオペレーションと大きな差はありません。\n",
    "しかし、Heat や Ansible等のツールと組み合わせることで、これまではできなかった新しいシステム構築・管理を行う事が可能になります。"
   ]
  },
  {
   "cell_type": "markdown",
   "metadata": {},
   "source": [
    "Heat の詳細について\n",
    "https://www.slideshare.net/irix_jp/josug-meetup-28th-heat-101"
   ]
  },
  {
   "cell_type": "markdown",
   "metadata": {},
   "source": [
    "２つのテンプレートをダウンロード。このテンプレートは、N台のWEBサーバーを起動して、自動的にロードバランサー配下で動作するように設定しています。"
   ]
  },
  {
   "cell_type": "code",
   "execution_count": 1,
   "metadata": {},
   "outputs": [
    {
     "name": "stdout",
     "output_type": "stream",
     "text": [
      "--2017-05-21 23:08:15--  https://raw.githubusercontent.com/irixjp/josug-34th-materials/master/cluster.yaml\n",
      "Resolving raw.githubusercontent.com (raw.githubusercontent.com)... 151.101.128.133, 151.101.0.133, 151.101.192.133, ...\n",
      "Connecting to raw.githubusercontent.com (raw.githubusercontent.com)|151.101.128.133|:443... connected.\n",
      "HTTP request sent, awaiting response... 200 OK\n",
      "Length: 3187 (3.1K) [text/plain]\n",
      "Saving to: ‘cluster.yaml’\n",
      "\n",
      "100%[======================================>] 3,187       --.-K/s   in 0s      \n",
      "\n",
      "2017-05-21 23:08:16 (51.3 MB/s) - ‘cluster.yaml’ saved [3187/3187]\n",
      "\n"
     ]
    }
   ],
   "source": [
    "wget https://raw.githubusercontent.com/irixjp/josug-34th-materials/master/cluster.yaml"
   ]
  },
  {
   "cell_type": "code",
   "execution_count": 2,
   "metadata": {},
   "outputs": [
    {
     "name": "stdout",
     "output_type": "stream",
     "text": [
      "--2017-05-21 23:08:19--  https://raw.githubusercontent.com/irixjp/josug-34th-materials/master/lb_server.yaml\n",
      "Resolving raw.githubusercontent.com (raw.githubusercontent.com)... 151.101.128.133, 151.101.0.133, 151.101.192.133, ...\n",
      "Connecting to raw.githubusercontent.com (raw.githubusercontent.com)|151.101.128.133|:443... connected.\n",
      "HTTP request sent, awaiting response... 200 OK\n",
      "Length: 1904 (1.9K) [text/plain]\n",
      "Saving to: ‘lb_server.yaml’\n",
      "\n",
      "100%[======================================>] 1,904       --.-K/s   in 0s      \n",
      "\n",
      "2017-05-21 23:08:19 (196 MB/s) - ‘lb_server.yaml’ saved [1904/1904]\n",
      "\n"
     ]
    }
   ],
   "source": [
    "wget https://raw.githubusercontent.com/irixjp/josug-34th-materials/master/lb_server.yaml"
   ]
  },
  {
   "cell_type": "markdown",
   "metadata": {},
   "source": [
    "#### スタックの作成"
   ]
  },
  {
   "cell_type": "code",
   "execution_count": 3,
   "metadata": {},
   "outputs": [
    {
     "name": "stdout",
     "output_type": "stream",
     "text": [
      "WARNING (shell) \"heat stack-create\" is deprecated, please use \"openstack stack create\" instead\n",
      "WARNING (shell) \"heat stack-list\" is deprecated, please use \"openstack stack list\" instead\n",
      "+--------------------------------------+------------+--------------------+----------------------+--------------+\n",
      "| id                                   | stack_name | stack_status       | creation_time        | updated_time |\n",
      "+--------------------------------------+------------+--------------------+----------------------+--------------+\n",
      "| 16eae3cc-63dd-489d-9466-52bcb26b0bcb | lbv2       | CREATE_IN_PROGRESS | 2017-05-21T14:08:30Z | None         |\n",
      "+--------------------------------------+------------+--------------------+----------------------+--------------+\n"
     ]
    }
   ],
   "source": [
    "heat stack-create -f cluster.yaml -P 'cluster_size=2' lbv2"
   ]
  },
  {
   "cell_type": "code",
   "execution_count": 4,
   "metadata": {},
   "outputs": [
    {
     "name": "stdout",
     "output_type": "stream",
     "text": [
      "WARNING (shell) \"heat resource-list\" is deprecated, please use \"openstack stack resource list\" instead\n",
      "+-------------------+--------------------------------------+------------------------------------------------------------+--------------------+----------------------+----------------------------------------------+\n",
      "| resource_name     | physical_resource_id                 | resource_type                                              | resource_status    | updated_time         | stack_name                                   |\n",
      "+-------------------+--------------------------------------+------------------------------------------------------------+--------------------+----------------------+----------------------------------------------+\n",
      "| floating_ip       | 1d74409d-ced8-4063-b422-8e908137fa6e | OS::Neutron::FloatingIP                                    | CREATE_COMPLETE    | 2017-05-21T14:08:30Z | lbv2                                         |\n",
      "| listener          | c7c37148-851a-4eff-9990-cf7f51232810 | OS::Neutron::LBaaS::Listener                               | CREATE_COMPLETE    | 2017-05-21T14:08:30Z | lbv2                                         |\n",
      "| loadbalancer      | 83ef4683-cfe1-468b-968a-d07ab4dd3c0a | OS::Neutron::LBaaS::LoadBalancer                           | CREATE_COMPLETE    | 2017-05-21T14:08:30Z | lbv2                                         |\n",
      "| monitor           | 31d1c307-db85-4efd-8d2d-96399c945a86 | OS::Neutron::LBaaS::HealthMonitor                          | CREATE_COMPLETE    | 2017-05-21T14:08:30Z | lbv2                                         |\n",
      "| pool              | 063589d2-b059-457c-b020-7bb97454ec14 | OS::Neutron::LBaaS::Pool                                   | CREATE_COMPLETE    | 2017-05-21T14:08:30Z | lbv2                                         |\n",
      "| sec_group         | e99257ad-6939-4381-af1e-6a9924513d70 | OS::Neutron::SecurityGroup                                 | CREATE_COMPLETE    | 2017-05-21T14:08:30Z | lbv2                                         |\n",
      "| web_cluster       | c989a2eb-7321-48d5-ac4b-ac9b0559c601 | OS::Heat::ResourceGroup                                    | CREATE_IN_PROGRESS | 2017-05-21T14:08:30Z | lbv2                                         |\n",
      "| 0                 | 99f72411-bb74-49fe-baef-4b25de0d9c74 | file:///home/openstack/josug-34th-materials/lb_server.yaml | CREATE_IN_PROGRESS | 2017-05-21T14:08:42Z | lbv2-web_cluster-ondpzath4emj                |\n",
      "| 1                 | f61d82d3-c02a-4376-bd88-f59613ba6cb3 | file:///home/openstack/josug-34th-materials/lb_server.yaml | CREATE_IN_PROGRESS | 2017-05-21T14:08:42Z | lbv2-web_cluster-ondpzath4emj                |\n",
      "| config_simple_web | b35f769b-70ee-4060-b4ce-bdac2e5c6d29 | OS::Heat::SoftwareConfig                                   | CREATE_COMPLETE    | 2017-05-21T14:08:46Z | lbv2-web_cluster-ondpzath4emj-0-7pc55j4h7w43 |\n",
      "| config_simple_web | e2df57b6-0dd2-4f97-8e6f-b3f1731dd02c | OS::Heat::SoftwareConfig                                   | CREATE_COMPLETE    | 2017-05-21T14:08:46Z | lbv2-web_cluster-ondpzath4emj-1-oytl5kc2fzsm |\n",
      "| member            |                                      | OS::Neutron::LBaaS::PoolMember                             | INIT_COMPLETE      | 2017-05-21T14:08:46Z | lbv2-web_cluster-ondpzath4emj-0-7pc55j4h7w43 |\n",
      "| member            |                                      | OS::Neutron::LBaaS::PoolMember                             | INIT_COMPLETE      | 2017-05-21T14:08:46Z | lbv2-web_cluster-ondpzath4emj-1-oytl5kc2fzsm |\n",
      "| server            | 02f10c02-479f-4ab6-b16f-08d40b8bee9a | OS::Nova::Server                                           | CREATE_IN_PROGRESS | 2017-05-21T14:08:46Z | lbv2-web_cluster-ondpzath4emj-0-7pc55j4h7w43 |\n",
      "| server            | 1d8ab652-ed46-47b2-be01-b04654ffcebe | OS::Nova::Server                                           | CREATE_IN_PROGRESS | 2017-05-21T14:08:46Z | lbv2-web_cluster-ondpzath4emj-1-oytl5kc2fzsm |\n",
      "+-------------------+--------------------------------------+------------------------------------------------------------+--------------------+----------------------+----------------------------------------------+\n"
     ]
    }
   ],
   "source": [
    "heat resource-list -n 2 lbv2"
   ]
  },
  {
   "cell_type": "code",
   "execution_count": 5,
   "metadata": {},
   "outputs": [
    {
     "name": "stdout",
     "output_type": "stream",
     "text": [
      "+--------------------------------------+-------------------------------------------------------+--------+------------+-------------+-----------------------+\n",
      "| ID                                   | Name                                                  | Status | Task State | Power State | Networks              |\n",
      "+--------------------------------------+-------------------------------------------------------+--------+------------+-------------+-----------------------+\n",
      "| 02f10c02-479f-4ab6-b16f-08d40b8bee9a | lb-er-ondpzath4emj-0-7pc55j4h7w43-server-f5qt3maq3w6z | ACTIVE | -          | Running     | work-net=172.16.11.12 |\n",
      "| 1d8ab652-ed46-47b2-be01-b04654ffcebe | lb-er-ondpzath4emj-1-oytl5kc2fzsm-server-ubldjx75opl4 | ACTIVE | -          | Running     | work-net=172.16.11.13 |\n",
      "+--------------------------------------+-------------------------------------------------------+--------+------------+-------------+-----------------------+\n"
     ]
    }
   ],
   "source": [
    "nova list"
   ]
  },
  {
   "cell_type": "code",
   "execution_count": 6,
   "metadata": {},
   "outputs": [
    {
     "name": "stdout",
     "output_type": "stream",
     "text": [
      "WARNING (shell) \"heat stack-list\" is deprecated, please use \"openstack stack list\" instead\n",
      "+--------------------------------------+------------+-----------------+----------------------+--------------+\n",
      "| id                                   | stack_name | stack_status    | creation_time        | updated_time |\n",
      "+--------------------------------------+------------+-----------------+----------------------+--------------+\n",
      "| 16eae3cc-63dd-489d-9466-52bcb26b0bcb | lbv2       | CREATE_COMPLETE | 2017-05-21T14:08:30Z | None         |\n",
      "+--------------------------------------+------------+-----------------+----------------------+--------------+\n"
     ]
    }
   ],
   "source": [
    "heat stack-list"
   ]
  },
  {
   "cell_type": "code",
   "execution_count": 7,
   "metadata": {},
   "outputs": [
    {
     "name": "stdout",
     "output_type": "stream",
     "text": [
      "WARNING (shell) \"heat output-show\" is deprecated, please use \"openstack stack output show\" instead\n",
      "\"http://192.168.99.200:80\"\n"
     ]
    }
   ],
   "source": [
    "heat output-show lbv2 --all"
   ]
  },
  {
   "cell_type": "code",
   "execution_count": 9,
   "metadata": {},
   "outputs": [
    {
     "name": "stdout",
     "output_type": "stream",
     "text": [
      "lb-er-ondpzath4emj-1-oytl5kc2fzsm-server-ubldjx75opl4"
     ]
    }
   ],
   "source": [
    "#watch -n 1 -d curl -s http://192.168.99.200:80\n",
    "curl -s http://192.168.99.200:80"
   ]
  },
  {
   "cell_type": "code",
   "execution_count": 10,
   "metadata": {},
   "outputs": [
    {
     "name": "stdout",
     "output_type": "stream",
     "text": [
      "lb-er-ondpzath4emj-0-7pc55j4h7w43-server-f5qt3maq3w6z"
     ]
    }
   ],
   "source": [
    "curl -s http://192.168.99.200:80"
   ]
  },
  {
   "cell_type": "code",
   "execution_count": 11,
   "metadata": {},
   "outputs": [
    {
     "name": "stdout",
     "output_type": "stream",
     "text": [
      "lb-er-ondpzath4emj-1-oytl5kc2fzsm-server-ubldjx75opl4"
     ]
    }
   ],
   "source": [
    "curl -s http://192.168.99.200:80"
   ]
  },
  {
   "cell_type": "markdown",
   "metadata": {},
   "source": [
    "#### スタックのアップデート"
   ]
  },
  {
   "cell_type": "code",
   "execution_count": 12,
   "metadata": {},
   "outputs": [
    {
     "name": "stdout",
     "output_type": "stream",
     "text": [
      "WARNING (shell) \"heat stack-list\" is deprecated, please use \"openstack stack list\" instead\n",
      "+--------------------------------------+------------+-----------------+----------------------+--------------+\n",
      "| id                                   | stack_name | stack_status    | creation_time        | updated_time |\n",
      "+--------------------------------------+------------+-----------------+----------------------+--------------+\n",
      "| 16eae3cc-63dd-489d-9466-52bcb26b0bcb | lbv2       | CREATE_COMPLETE | 2017-05-21T14:08:30Z | None         |\n",
      "+--------------------------------------+------------+-----------------+----------------------+--------------+\n"
     ]
    }
   ],
   "source": [
    "heat stack-list"
   ]
  },
  {
   "cell_type": "code",
   "execution_count": 13,
   "metadata": {},
   "outputs": [
    {
     "name": "stdout",
     "output_type": "stream",
     "text": [
      "WARNING (shell) \"heat stack-update\" is deprecated, please use \"openstack stack update\" instead\n",
      "WARNING (shell) \"heat stack-list\" is deprecated, please use \"openstack stack list\" instead\n",
      "+--------------------------------------+------------+--------------------+----------------------+----------------------+\n",
      "| id                                   | stack_name | stack_status       | creation_time        | updated_time         |\n",
      "+--------------------------------------+------------+--------------------+----------------------+----------------------+\n",
      "| 16eae3cc-63dd-489d-9466-52bcb26b0bcb | lbv2       | UPDATE_IN_PROGRESS | 2017-05-21T14:08:30Z | 2017-05-21T14:11:07Z |\n",
      "+--------------------------------------+------------+--------------------+----------------------+----------------------+\n"
     ]
    }
   ],
   "source": [
    "heat stack-update -f cluster.yaml -P 'cluster_size=5' lbv2"
   ]
  },
  {
   "cell_type": "code",
   "execution_count": 15,
   "metadata": {},
   "outputs": [
    {
     "name": "stdout",
     "output_type": "stream",
     "text": [
      "+--------------------------------------+-------------------------------------------------------+--------+------------+-------------+-----------------------+\n",
      "| ID                                   | Name                                                  | Status | Task State | Power State | Networks              |\n",
      "+--------------------------------------+-------------------------------------------------------+--------+------------+-------------+-----------------------+\n",
      "| 02f10c02-479f-4ab6-b16f-08d40b8bee9a | lb-er-ondpzath4emj-0-7pc55j4h7w43-server-f5qt3maq3w6z | ACTIVE | -          | Running     | work-net=172.16.11.12 |\n",
      "| 1d8ab652-ed46-47b2-be01-b04654ffcebe | lb-er-ondpzath4emj-1-oytl5kc2fzsm-server-ubldjx75opl4 | ACTIVE | -          | Running     | work-net=172.16.11.13 |\n",
      "| 79558161-b188-4b78-8c0a-fcf8f50466dd | lb-er-ondpzath4emj-2-fuhufmxgmpw7-server-mbhy6mt4k35q | ACTIVE | -          | Running     | work-net=172.16.11.8  |\n",
      "| 1cc4d60b-c3df-4151-be10-2a3849c00adf | lb-er-ondpzath4emj-3-txb6nkl42osi-server-asbpdaot5coj | BUILD  | spawning   | NOSTATE     |                       |\n",
      "| 1c8a393e-7b53-49bc-a154-1ee847e7e79f | lb-er-ondpzath4emj-4-k6b4cqr3m6pt-server-jfyctpiuu3az | BUILD  | spawning   | NOSTATE     |                       |\n",
      "+--------------------------------------+-------------------------------------------------------+--------+------------+-------------+-----------------------+\n"
     ]
    }
   ],
   "source": [
    "nova list"
   ]
  },
  {
   "cell_type": "code",
   "execution_count": 16,
   "metadata": {},
   "outputs": [
    {
     "name": "stdout",
     "output_type": "stream",
     "text": [
      "WARNING (shell) \"heat resource-list\" is deprecated, please use \"openstack stack resource list\" instead\n",
      "+-------------------+--------------------------------------+------------------------------------------------------------+--------------------+----------------------+----------------------------------------------+\n",
      "| resource_name     | physical_resource_id                 | resource_type                                              | resource_status    | updated_time         | stack_name                                   |\n",
      "+-------------------+--------------------------------------+------------------------------------------------------------+--------------------+----------------------+----------------------------------------------+\n",
      "| floating_ip       | 1d74409d-ced8-4063-b422-8e908137fa6e | OS::Neutron::FloatingIP                                    | CREATE_COMPLETE    | 2017-05-21T14:08:30Z | lbv2                                         |\n",
      "| listener          | c7c37148-851a-4eff-9990-cf7f51232810 | OS::Neutron::LBaaS::Listener                               | CREATE_COMPLETE    | 2017-05-21T14:08:30Z | lbv2                                         |\n",
      "| loadbalancer      | 83ef4683-cfe1-468b-968a-d07ab4dd3c0a | OS::Neutron::LBaaS::LoadBalancer                           | CREATE_COMPLETE    | 2017-05-21T14:08:30Z | lbv2                                         |\n",
      "| monitor           | 31d1c307-db85-4efd-8d2d-96399c945a86 | OS::Neutron::LBaaS::HealthMonitor                          | CREATE_COMPLETE    | 2017-05-21T14:08:30Z | lbv2                                         |\n",
      "| pool              | 063589d2-b059-457c-b020-7bb97454ec14 | OS::Neutron::LBaaS::Pool                                   | CREATE_COMPLETE    | 2017-05-21T14:08:30Z | lbv2                                         |\n",
      "| sec_group         | e99257ad-6939-4381-af1e-6a9924513d70 | OS::Neutron::SecurityGroup                                 | CREATE_COMPLETE    | 2017-05-21T14:08:30Z | lbv2                                         |\n",
      "| config_simple_web | b35f769b-70ee-4060-b4ce-bdac2e5c6d29 | OS::Heat::SoftwareConfig                                   | CREATE_COMPLETE    | 2017-05-21T14:08:46Z | lbv2-web_cluster-ondpzath4emj-0-7pc55j4h7w43 |\n",
      "| config_simple_web | e2df57b6-0dd2-4f97-8e6f-b3f1731dd02c | OS::Heat::SoftwareConfig                                   | CREATE_COMPLETE    | 2017-05-21T14:08:46Z | lbv2-web_cluster-ondpzath4emj-1-oytl5kc2fzsm |\n",
      "| member            | 94b8ed66-3b9e-49ed-9163-385d539923cc | OS::Neutron::LBaaS::PoolMember                             | CREATE_COMPLETE    | 2017-05-21T14:08:46Z | lbv2-web_cluster-ondpzath4emj-1-oytl5kc2fzsm |\n",
      "| member            | f8ae9be9-6c22-4a03-a00c-c7d6faa3eb79 | OS::Neutron::LBaaS::PoolMember                             | CREATE_COMPLETE    | 2017-05-21T14:08:46Z | lbv2-web_cluster-ondpzath4emj-0-7pc55j4h7w43 |\n",
      "| server            | 02f10c02-479f-4ab6-b16f-08d40b8bee9a | OS::Nova::Server                                           | CREATE_COMPLETE    | 2017-05-21T14:08:46Z | lbv2-web_cluster-ondpzath4emj-0-7pc55j4h7w43 |\n",
      "| server            | 1d8ab652-ed46-47b2-be01-b04654ffcebe | OS::Nova::Server                                           | CREATE_COMPLETE    | 2017-05-21T14:08:46Z | lbv2-web_cluster-ondpzath4emj-1-oytl5kc2fzsm |\n",
      "| web_cluster       | c989a2eb-7321-48d5-ac4b-ac9b0559c601 | OS::Heat::ResourceGroup                                    | UPDATE_IN_PROGRESS | 2017-05-21T14:11:10Z | lbv2                                         |\n",
      "| 0                 | 99f72411-bb74-49fe-baef-4b25de0d9c74 | file:///home/openstack/josug-34th-materials/lb_server.yaml | UPDATE_COMPLETE    | 2017-05-21T14:11:11Z | lbv2-web_cluster-ondpzath4emj                |\n",
      "| 1                 | f61d82d3-c02a-4376-bd88-f59613ba6cb3 | file:///home/openstack/josug-34th-materials/lb_server.yaml | UPDATE_COMPLETE    | 2017-05-21T14:11:11Z | lbv2-web_cluster-ondpzath4emj                |\n",
      "| 2                 | 061aa641-73cd-439e-9655-2cf71e8292a4 | file:///home/openstack/josug-34th-materials/lb_server.yaml | CREATE_COMPLETE    | 2017-05-21T14:11:11Z | lbv2-web_cluster-ondpzath4emj                |\n",
      "| 3                 | fdd70180-cc94-46ae-b7b8-079710322ffd | file:///home/openstack/josug-34th-materials/lb_server.yaml | CREATE_IN_PROGRESS | 2017-05-21T14:11:11Z | lbv2-web_cluster-ondpzath4emj                |\n",
      "| 4                 | c5d61193-b874-4a60-8d4c-4ea35902b455 | file:///home/openstack/josug-34th-materials/lb_server.yaml | CREATE_IN_PROGRESS | 2017-05-21T14:11:11Z | lbv2-web_cluster-ondpzath4emj                |\n",
      "| config_simple_web | 1d7890f1-f532-4219-956a-161b080fe3be | OS::Heat::SoftwareConfig                                   | CREATE_COMPLETE    | 2017-05-21T14:11:16Z | lbv2-web_cluster-ondpzath4emj-2-fuhufmxgmpw7 |\n",
      "| member            | a7281b33-449d-4a66-a909-4a562a6f05be | OS::Neutron::LBaaS::PoolMember                             | CREATE_COMPLETE    | 2017-05-21T14:11:16Z | lbv2-web_cluster-ondpzath4emj-2-fuhufmxgmpw7 |\n",
      "| server            | 79558161-b188-4b78-8c0a-fcf8f50466dd | OS::Nova::Server                                           | CREATE_COMPLETE    | 2017-05-21T14:11:16Z | lbv2-web_cluster-ondpzath4emj-2-fuhufmxgmpw7 |\n",
      "| member            |                                      | OS::Neutron::LBaaS::PoolMember                             | CREATE_IN_PROGRESS | 2017-05-21T14:11:19Z | lbv2-web_cluster-ondpzath4emj-4-k6b4cqr3m6pt |\n",
      "| member            | 7cf2f631-6a9c-46ea-a5af-9a7b3d5fbd3e | OS::Neutron::LBaaS::PoolMember                             | CREATE_IN_PROGRESS | 2017-05-21T14:11:19Z | lbv2-web_cluster-ondpzath4emj-3-txb6nkl42osi |\n",
      "| server            | 1c8a393e-7b53-49bc-a154-1ee847e7e79f | OS::Nova::Server                                           | CREATE_COMPLETE    | 2017-05-21T14:11:19Z | lbv2-web_cluster-ondpzath4emj-4-k6b4cqr3m6pt |\n",
      "| server            | 1cc4d60b-c3df-4151-be10-2a3849c00adf | OS::Nova::Server                                           | CREATE_COMPLETE    | 2017-05-21T14:11:19Z | lbv2-web_cluster-ondpzath4emj-3-txb6nkl42osi |\n",
      "| config_simple_web | 9d9ae3fe-f298-4f90-8ea1-1905c7acdfb7 | OS::Heat::SoftwareConfig                                   | CREATE_COMPLETE    | 2017-05-21T14:11:20Z | lbv2-web_cluster-ondpzath4emj-3-txb6nkl42osi |\n",
      "| config_simple_web | efb4d73e-abc4-4323-844b-ddbb4ec7ef87 | OS::Heat::SoftwareConfig                                   | CREATE_COMPLETE    | 2017-05-21T14:11:20Z | lbv2-web_cluster-ondpzath4emj-4-k6b4cqr3m6pt |\n",
      "+-------------------+--------------------------------------+------------------------------------------------------------+--------------------+----------------------+----------------------------------------------+\n"
     ]
    }
   ],
   "source": [
    "heat resource-list -n 2 lbv2"
   ]
  },
  {
   "cell_type": "code",
   "execution_count": 17,
   "metadata": {},
   "outputs": [
    {
     "name": "stdout",
     "output_type": "stream",
     "text": [
      "WARNING (shell) \"heat stack-list\" is deprecated, please use \"openstack stack list\" instead\n",
      "+--------------------------------------+------------+-----------------+----------------------+----------------------+\n",
      "| id                                   | stack_name | stack_status    | creation_time        | updated_time         |\n",
      "+--------------------------------------+------------+-----------------+----------------------+----------------------+\n",
      "| 16eae3cc-63dd-489d-9466-52bcb26b0bcb | lbv2       | UPDATE_COMPLETE | 2017-05-21T14:08:30Z | 2017-05-21T14:11:07Z |\n",
      "+--------------------------------------+------------+-----------------+----------------------+----------------------+\n"
     ]
    }
   ],
   "source": [
    "heat stack-list"
   ]
  },
  {
   "cell_type": "code",
   "execution_count": 18,
   "metadata": {},
   "outputs": [
    {
     "name": "stdout",
     "output_type": "stream",
     "text": [
      "lb-er-ondpzath4emj-0-7pc55j4h7w43-server-f5qt3maq3w6z"
     ]
    }
   ],
   "source": [
    "#watch -n 1 -d curl -s http://192.168.99.200:80\n",
    "curl -s http://192.168.99.200:80"
   ]
  },
  {
   "cell_type": "code",
   "execution_count": 19,
   "metadata": {},
   "outputs": [
    {
     "name": "stdout",
     "output_type": "stream",
     "text": [
      "lb-er-ondpzath4emj-1-oytl5kc2fzsm-server-ubldjx75opl4"
     ]
    }
   ],
   "source": [
    "curl -s http://192.168.99.200:80"
   ]
  },
  {
   "cell_type": "code",
   "execution_count": 23,
   "metadata": {},
   "outputs": [
    {
     "name": "stdout",
     "output_type": "stream",
     "text": [
      "lb-er-ondpzath4emj-2-fuhufmxgmpw7-server-mbhy6mt4k35q"
     ]
    }
   ],
   "source": [
    "curl -s http://192.168.99.200:80"
   ]
  },
  {
   "cell_type": "code",
   "execution_count": 24,
   "metadata": {},
   "outputs": [
    {
     "name": "stdout",
     "output_type": "stream",
     "text": [
      "lb-er-ondpzath4emj-4-k6b4cqr3m6pt-server-jfyctpiuu3az"
     ]
    }
   ],
   "source": [
    "curl -s http://192.168.99.200:80"
   ]
  },
  {
   "cell_type": "code",
   "execution_count": 25,
   "metadata": {},
   "outputs": [
    {
     "name": "stdout",
     "output_type": "stream",
     "text": [
      "lb-er-ondpzath4emj-3-txb6nkl42osi-server-asbpdaot5coj"
     ]
    }
   ],
   "source": [
    "curl -s http://192.168.99.200:80"
   ]
  },
  {
   "cell_type": "markdown",
   "metadata": {},
   "source": [
    "#### スタックの削除"
   ]
  },
  {
   "cell_type": "code",
   "execution_count": 26,
   "metadata": {},
   "outputs": [
    {
     "name": "stdout",
     "output_type": "stream",
     "text": [
      "WARNING (shell) \"heat stack-delete\" is deprecated, please use \"openstack stack delete\" instead\n",
      "Request to delete stack lbv2 has been accepted.\n"
     ]
    }
   ],
   "source": [
    "heat stack-delete -y lbv2"
   ]
  },
  {
   "cell_type": "code",
   "execution_count": 27,
   "metadata": {},
   "outputs": [
    {
     "name": "stdout",
     "output_type": "stream",
     "text": [
      "WARNING (shell) \"heat stack-list\" is deprecated, please use \"openstack stack list\" instead\n",
      "+--------------------------------------+------------+--------------------+----------------------+----------------------+\n",
      "| id                                   | stack_name | stack_status       | creation_time        | updated_time         |\n",
      "+--------------------------------------+------------+--------------------+----------------------+----------------------+\n",
      "| 16eae3cc-63dd-489d-9466-52bcb26b0bcb | lbv2       | DELETE_IN_PROGRESS | 2017-05-21T14:08:30Z | 2017-05-21T14:14:22Z |\n",
      "+--------------------------------------+------------+--------------------+----------------------+----------------------+\n"
     ]
    }
   ],
   "source": [
    "heat stack-list"
   ]
  },
  {
   "cell_type": "code",
   "execution_count": 29,
   "metadata": {},
   "outputs": [
    {
     "name": "stdout",
     "output_type": "stream",
     "text": [
      "+----+------+--------+------------+-------------+----------+\n",
      "| ID | Name | Status | Task State | Power State | Networks |\n",
      "+----+------+--------+------------+-------------+----------+\n",
      "+----+------+--------+------------+-------------+----------+\n"
     ]
    }
   ],
   "source": [
    "nova list"
   ]
  },
  {
   "cell_type": "code",
   "execution_count": 30,
   "metadata": {},
   "outputs": [
    {
     "name": "stdout",
     "output_type": "stream",
     "text": [
      "WARNING (shell) \"heat stack-list\" is deprecated, please use \"openstack stack list\" instead\n",
      "+----+------------+--------------+---------------+--------------+\n",
      "| id | stack_name | stack_status | creation_time | updated_time |\n",
      "+----+------------+--------------+---------------+--------------+\n",
      "+----+------------+--------------+---------------+--------------+\n"
     ]
    }
   ],
   "source": [
    "heat stack-list"
   ]
  },
  {
   "cell_type": "code",
   "execution_count": null,
   "metadata": {
    "collapsed": true
   },
   "outputs": [],
   "source": []
  }
 ],
 "metadata": {
  "kernelspec": {
   "display_name": "Bash",
   "language": "bash",
   "name": "bash"
  },
  "language_info": {
   "codemirror_mode": "shell",
   "file_extension": ".sh",
   "mimetype": "text/x-sh",
   "name": "bash"
  }
 },
 "nbformat": 4,
 "nbformat_minor": 2
}
