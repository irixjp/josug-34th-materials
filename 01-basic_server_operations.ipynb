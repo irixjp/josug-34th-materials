{
 "cells": [
  {
   "cell_type": "markdown",
   "metadata": {},
   "source": [
    "### 基礎的な操作"
   ]
  },
  {
   "cell_type": "markdown",
   "metadata": {},
   "source": [
    "ssh で 192.168.99.199 で接続してください(openstack/openstack)"
   ]
  },
  {
   "cell_type": "markdown",
   "metadata": {},
   "source": [
    "root ユーザのホームディレクトリには OpenStack を管理者ユーザーで使うための設定ファイルが保存されています。\n",
    "\n",
    "openstack ユーザのホームディレクトリには OpenStack を一般ユーザで使うための設定ファイルが保存されています。"
   ]
  },
  {
   "cell_type": "markdown",
   "metadata": {},
   "source": [
    "#### 認証情報の読み込み（openstackユーザで実施しています）\n",
    "openstackユーザのホームディレクトリの openrc には演習用環境を利用するためのOpenStack認証情報が記載されています。各種コマンドで操作を行う前に、このファイルを読み込んで、環境変数へ認証情報を設定しておきます。"
   ]
  },
  {
   "cell_type": "code",
   "execution_count": 3,
   "metadata": {},
   "outputs": [
    {
     "name": "stdout",
     "output_type": "stream",
     "text": [
      "export OS_AUTH_URL=http://192.168.99.199:5000/v2.0\n",
      "export OS_REGION_NAME=RegionOne\n",
      "export OS_TENANT_NAME=project01\n",
      "export OS_USERNAME=openstack\n",
      "export OS_PASSWORD=openstack\n",
      "\n"
     ]
    }
   ],
   "source": [
    "cat ~/openrc"
   ]
  },
  {
   "cell_type": "code",
   "execution_count": 4,
   "metadata": {
    "collapsed": true
   },
   "outputs": [],
   "source": [
    "source ~/openrc"
   ]
  },
  {
   "cell_type": "code",
   "execution_count": 5,
   "metadata": {},
   "outputs": [
    {
     "name": "stdout",
     "output_type": "stream",
     "text": [
      "\u001b[01;31m\u001b[KOS_\u001b[m\u001b[KREGION_NAME=RegionOne\n",
      "\u001b[01;31m\u001b[KOS_\u001b[m\u001b[KPASSWORD=openstack\n",
      "\u001b[01;31m\u001b[KOS_\u001b[m\u001b[KAUTH_URL=http://192.168.99.199:5000/v2.0\n",
      "\u001b[01;31m\u001b[KOS_\u001b[m\u001b[KUSERNAME=openstack\n",
      "\u001b[01;31m\u001b[KOS_\u001b[m\u001b[KTENANT_NAME=project01\n"
     ]
    }
   ],
   "source": [
    "env | grep OS_"
   ]
  },
  {
   "cell_type": "markdown",
   "metadata": {},
   "source": [
    "#### 初期状態の確認（一般ユーザーの初期状態）\n",
    "初期状態では、管理者が設定する public ネットワーク、Cirrosイメージ作成されています。\n",
    "みなさんがユーザとしてOpenStackを使う場合は、この状態からのスタートになります。"
   ]
  },
  {
   "cell_type": "markdown",
   "metadata": {},
   "source": [
    "VMはありません"
   ]
  },
  {
   "cell_type": "code",
   "execution_count": 6,
   "metadata": {},
   "outputs": [
    {
     "name": "stdout",
     "output_type": "stream",
     "text": [
      "+----+------+--------+------------+-------------+----------+\n",
      "| ID | Name | Status | Task State | Power State | Networks |\n",
      "+----+------+--------+------------+-------------+----------+\n",
      "+----+------+--------+------------+-------------+----------+\n"
     ]
    }
   ],
   "source": [
    "nova list"
   ]
  },
  {
   "cell_type": "markdown",
   "metadata": {},
   "source": [
    "管理者が作成した public ネットワークのみが存在しています。"
   ]
  },
  {
   "cell_type": "code",
   "execution_count": 7,
   "metadata": {},
   "outputs": [
    {
     "name": "stdout",
     "output_type": "stream",
     "text": [
      "+----------------------------------+--------+----------------------------------+\n",
      "| id                               | name   | subnets                          |\n",
      "+----------------------------------+--------+----------------------------------+\n",
      "| 17e4bba8-2a15-46fb-              | public | a271b0a1-c912-492c-858e-         |\n",
      "| ab54-fb463aee503c                |        | d5bd41888246                     |\n",
      "+----------------------------------+--------+----------------------------------+\n"
     ]
    }
   ],
   "source": [
    "neutron net-list"
   ]
  },
  {
   "cell_type": "markdown",
   "metadata": {},
   "source": [
    "今回の演習用に作成したキーペアが作成されています。"
   ]
  },
  {
   "cell_type": "code",
   "execution_count": 8,
   "metadata": {},
   "outputs": [
    {
     "name": "stdout",
     "output_type": "stream",
     "text": [
      "+--------+------+-------------------------------------------------+\n",
      "| Name   | Type | Fingerprint                                     |\n",
      "+--------+------+-------------------------------------------------+\n",
      "| my-key | ssh  | 43:0f:f5:b3:3e:ab:b7:1b:6a:a9:fc:65:4a:e6:42:89 |\n",
      "+--------+------+-------------------------------------------------+\n"
     ]
    }
   ],
   "source": [
    "nova keypair-list"
   ]
  },
  {
   "cell_type": "markdown",
   "metadata": {},
   "source": [
    "テスト用のOSイメージが登録されています。"
   ]
  },
  {
   "cell_type": "code",
   "execution_count": 9,
   "metadata": {},
   "outputs": [
    {
     "name": "stdout",
     "output_type": "stream",
     "text": [
      "+--------------------------------------+--------------+--------+\n",
      "| ID                                   | Name         | Status |\n",
      "+--------------------------------------+--------------+--------+\n",
      "| 66722486-ac79-4cd2-9a7d-c2479a9f6f92 | cirros-0.3.5 | active |\n",
      "+--------------------------------------+--------------+--------+\n"
     ]
    }
   ],
   "source": [
    "openstack image list"
   ]
  },
  {
   "cell_type": "markdown",
   "metadata": {},
   "source": [
    "フレーバー（AWSのインスタンスタイプ）が予めいくつか定義されています。これは管理者が設定します。"
   ]
  },
  {
   "cell_type": "code",
   "execution_count": 10,
   "metadata": {},
   "outputs": [
    {
     "name": "stdout",
     "output_type": "stream",
     "text": [
      "+----+-----------+-----------+------+-----------+------+-------+-------------+-----------+\n",
      "| ID | Name      | Memory_MB | Disk | Ephemeral | Swap | VCPUs | RXTX_Factor | Is_Public |\n",
      "+----+-----------+-----------+------+-----------+------+-------+-------------+-----------+\n",
      "| 1  | m1.tiny   | 512       | 1    | 0         |      | 1     | 1.0         | True      |\n",
      "| 2  | m1.small  | 2048      | 20   | 0         |      | 1     | 1.0         | True      |\n",
      "| 3  | m1.medium | 4096      | 40   | 0         |      | 2     | 1.0         | True      |\n",
      "| 4  | m1.large  | 8192      | 80   | 0         |      | 4     | 1.0         | True      |\n",
      "| 5  | m1.xlarge | 16384     | 160  | 0         |      | 8     | 1.0         | True      |\n",
      "+----+-----------+-----------+------+-----------+------+-------+-------------+-----------+\n"
     ]
    }
   ],
   "source": [
    "nova flavor-list"
   ]
  },
  {
   "cell_type": "markdown",
   "metadata": {},
   "source": [
    "管理的なファイアーウォール機能が予め２つ定義されています。default は初期状態で存在し、すべての通信（→VM）を遮断します。ここでは open-all という全ての通信を許可するルールを演習用に作成しています。"
   ]
  },
  {
   "cell_type": "code",
   "execution_count": 11,
   "metadata": {},
   "outputs": [
    {
     "name": "stdout",
     "output_type": "stream",
     "text": [
      "+---------------------------------+----------+---------------------------------+\n",
      "| id                              | name     | security_group_rules            |\n",
      "+---------------------------------+----------+---------------------------------+\n",
      "| 43a9ef6f-2cf2-484f-a37a-        | default  | egress, IPv4                    |\n",
      "| d45a290ac5db                    |          | egress, IPv6                    |\n",
      "|                                 |          | ingress, IPv4, remote_group_id: |\n",
      "|                                 |          | 43a9ef6f-2cf2-484f-a37a-        |\n",
      "|                                 |          | d45a290ac5db                    |\n",
      "|                                 |          | ingress, IPv6, remote_group_id: |\n",
      "|                                 |          | 43a9ef6f-2cf2-484f-a37a-        |\n",
      "|                                 |          | d45a290ac5db                    |\n",
      "| b366a40b-4a47-4fbc-             | open-all | egress, IPv4                    |\n",
      "| af51-4e214a29530d               |          | egress, IPv6                    |\n",
      "|                                 |          | ingress, IPv4, 1-65535/tcp,     |\n",
      "|                                 |          | remote_ip_prefix: 0.0.0.0/0     |\n",
      "|                                 |          | ingress, IPv4, 1-65535/udp,     |\n",
      "|                                 |          | remote_ip_prefix: 0.0.0.0/0     |\n",
      "|                                 |          | ingress, IPv4, icmp,            |\n",
      "|                                 |          | remote_ip_prefix: 0.0.0.0/0     |\n",
      "+---------------------------------+----------+---------------------------------+\n"
     ]
    }
   ],
   "source": [
    "neutron security-group-list"
   ]
  },
  {
   "cell_type": "markdown",
   "metadata": {
    "collapsed": true
   },
   "source": [
    "### 基本的な操作\n",
    "操作の流れ。\n",
    "* 仮想ルーターの作成 → 仮想ルーターと外部ネットワークを接続する（しなくても構いません。その場合は内部ネットワーク同士のルーティングに使います）\n",
    "* 仮想ネットワークの作成 → 仮想サブネットの作成\n",
    "* 仮想ルーターと仮想ネットワークを接続する（しなくても構いません。その場合は独立した単独ネットワークして使います）\n",
    "* セキュリティグループの作成（今回の演習環境はあらかじめ open-all というセキュリティグループが作成されているのでスキップします）\n",
    "* キーペアの作成（今回の演習環境はあらかじめ my-key というキーペアが作成されているのでスキップします）\n",
    "* 仮想マシンの作成\n",
    "* Floating IP の割り当て"
   ]
  },
  {
   "cell_type": "markdown",
   "metadata": {},
   "source": [
    "#### 仮想ルーターの作成"
   ]
  },
  {
   "cell_type": "markdown",
   "metadata": {},
   "source": [
    "自分用の仮想ルーターを作成し、外部ネットワーク（public/192.168.99.0/24）と接続します。"
   ]
  },
  {
   "cell_type": "code",
   "execution_count": 12,
   "metadata": {},
   "outputs": [
    {
     "name": "stdout",
     "output_type": "stream",
     "text": [
      "Created a new router:\n",
      "+-------------------------+--------------------------------------+\n",
      "| Field                   | Value                                |\n",
      "+-------------------------+--------------------------------------+\n",
      "| admin_state_up          | True                                 |\n",
      "| availability_zone_hints |                                      |\n",
      "| availability_zones      |                                      |\n",
      "| created_at              | 2017-05-21T09:28:42Z                 |\n",
      "| description             |                                      |\n",
      "| external_gateway_info   |                                      |\n",
      "| flavor_id               |                                      |\n",
      "| id                      | 7e53e749-5632-4f86-9cc8-db399d35d527 |\n",
      "| name                    | Ext-Router                           |\n",
      "| project_id              | 44be7b065a154e33aacbe7dbca18c6be     |\n",
      "| revision_number         | 3                                    |\n",
      "| routes                  |                                      |\n",
      "| status                  | ACTIVE                               |\n",
      "| tenant_id               | 44be7b065a154e33aacbe7dbca18c6be     |\n",
      "| updated_at              | 2017-05-21T09:28:42Z                 |\n",
      "+-------------------------+--------------------------------------+\n"
     ]
    }
   ],
   "source": [
    "neutron router-create Ext-Router"
   ]
  },
  {
   "cell_type": "code",
   "execution_count": 13,
   "metadata": {},
   "outputs": [
    {
     "name": "stdout",
     "output_type": "stream",
     "text": [
      "+--------------------------------------+------------+-----------------------+\n",
      "| id                                   | name       | external_gateway_info |\n",
      "+--------------------------------------+------------+-----------------------+\n",
      "| 7e53e749-5632-4f86-9cc8-db399d35d527 | Ext-Router | null                  |\n",
      "+--------------------------------------+------------+-----------------------+\n"
     ]
    }
   ],
   "source": [
    "neutron router-list"
   ]
  },
  {
   "cell_type": "code",
   "execution_count": 14,
   "metadata": {},
   "outputs": [
    {
     "name": "stdout",
     "output_type": "stream",
     "text": [
      "Set gateway for router Ext-Router\n"
     ]
    }
   ],
   "source": [
    "neutron router-gateway-set Ext-Router public"
   ]
  },
  {
   "cell_type": "code",
   "execution_count": 15,
   "metadata": {},
   "outputs": [
    {
     "name": "stdout",
     "output_type": "stream",
     "text": [
      "+--------------------------------+------------+--------------------------------+\n",
      "| id                             | name       | external_gateway_info          |\n",
      "+--------------------------------+------------+--------------------------------+\n",
      "| 7e53e749-5632-4f86-9cc8-db399d | Ext-Router | {\"network_id\": \"17e4bba8-2a15  |\n",
      "| 35d527                         |            | -46fb-ab54-fb463aee503c\",      |\n",
      "|                                |            | \"enable_snat\": true,           |\n",
      "|                                |            | \"external_fixed_ips\":          |\n",
      "|                                |            | [{\"subnet_id\": \"a271b0a1-c912  |\n",
      "|                                |            | -492c-858e-d5bd41888246\",      |\n",
      "|                                |            | \"ip_address\":                  |\n",
      "|                                |            | \"192.168.99.203\"}]}            |\n",
      "+--------------------------------+------------+--------------------------------+\n"
     ]
    }
   ],
   "source": [
    "neutron router-list"
   ]
  },
  {
   "cell_type": "markdown",
   "metadata": {},
   "source": [
    "#### 仮想ネットワークの作成\n",
    "仮想ネットワークを作成して、この仮想ルーターとの接続を行います。この操作で、仮想ネットワークと public ネットワークが接続されます。"
   ]
  },
  {
   "cell_type": "code",
   "execution_count": 16,
   "metadata": {},
   "outputs": [
    {
     "name": "stdout",
     "output_type": "stream",
     "text": [
      "Created a new network:\n",
      "+-------------------------+--------------------------------------+\n",
      "| Field                   | Value                                |\n",
      "+-------------------------+--------------------------------------+\n",
      "| admin_state_up          | True                                 |\n",
      "| availability_zone_hints |                                      |\n",
      "| availability_zones      |                                      |\n",
      "| created_at              | 2017-05-21T09:29:02Z                 |\n",
      "| description             |                                      |\n",
      "| id                      | 6e6eaff6-0f3b-4ed6-9e26-fad732dd0362 |\n",
      "| ipv4_address_scope      |                                      |\n",
      "| ipv6_address_scope      |                                      |\n",
      "| mtu                     | 1450                                 |\n",
      "| name                    | work-net                             |\n",
      "| project_id              | 44be7b065a154e33aacbe7dbca18c6be     |\n",
      "| revision_number         | 2                                    |\n",
      "| router:external         | False                                |\n",
      "| shared                  | False                                |\n",
      "| status                  | ACTIVE                               |\n",
      "| subnets                 |                                      |\n",
      "| tags                    |                                      |\n",
      "| tenant_id               | 44be7b065a154e33aacbe7dbca18c6be     |\n",
      "| updated_at              | 2017-05-21T09:29:02Z                 |\n",
      "+-------------------------+--------------------------------------+\n"
     ]
    }
   ],
   "source": [
    "neutron net-create work-net"
   ]
  },
  {
   "cell_type": "code",
   "execution_count": 17,
   "metadata": {},
   "outputs": [
    {
     "name": "stdout",
     "output_type": "stream",
     "text": [
      "+---------------------------------+----------+---------------------------------+\n",
      "| id                              | name     | subnets                         |\n",
      "+---------------------------------+----------+---------------------------------+\n",
      "| 17e4bba8-2a15-46fb-             | public   | a271b0a1-c912-492c-858e-        |\n",
      "| ab54-fb463aee503c               |          | d5bd41888246                    |\n",
      "| 6e6eaff6-0f3b-                  | work-net |                                 |\n",
      "| 4ed6-9e26-fad732dd0362          |          |                                 |\n",
      "+---------------------------------+----------+---------------------------------+\n"
     ]
    }
   ],
   "source": [
    "neutron net-list"
   ]
  },
  {
   "cell_type": "code",
   "execution_count": 18,
   "metadata": {},
   "outputs": [
    {
     "name": "stdout",
     "output_type": "stream",
     "text": [
      "Created a new subnet:\n",
      "+-------------------+--------------------------------------------------+\n",
      "| Field             | Value                                            |\n",
      "+-------------------+--------------------------------------------------+\n",
      "| allocation_pools  | {\"start\": \"172.16.11.1\", \"end\": \"172.16.11.253\"} |\n",
      "| cidr              | 172.16.11.0/24                                   |\n",
      "| created_at        | 2017-05-21T09:29:17Z                             |\n",
      "| description       |                                                  |\n",
      "| dns_nameservers   |                                                  |\n",
      "| enable_dhcp       | True                                             |\n",
      "| gateway_ip        | 172.16.11.254                                    |\n",
      "| host_routes       |                                                  |\n",
      "| id                | 54718494-45cf-41e4-8a7e-c4c36ba90d0d             |\n",
      "| ip_version        | 4                                                |\n",
      "| ipv6_address_mode |                                                  |\n",
      "| ipv6_ra_mode      |                                                  |\n",
      "| name              | work-subnet                                      |\n",
      "| network_id        | 6e6eaff6-0f3b-4ed6-9e26-fad732dd0362             |\n",
      "| project_id        | 44be7b065a154e33aacbe7dbca18c6be                 |\n",
      "| revision_number   | 2                                                |\n",
      "| service_types     |                                                  |\n",
      "| subnetpool_id     |                                                  |\n",
      "| tenant_id         | 44be7b065a154e33aacbe7dbca18c6be                 |\n",
      "| updated_at        | 2017-05-21T09:29:17Z                             |\n",
      "+-------------------+--------------------------------------------------+\n"
     ]
    }
   ],
   "source": [
    "neutron subnet-create --ip-version 4 --gateway 172.16.11.254 --name work-subnet work-net 172.16.11.0/24"
   ]
  },
  {
   "cell_type": "code",
   "execution_count": 19,
   "metadata": {},
   "outputs": [
    {
     "name": "stdout",
     "output_type": "stream",
     "text": [
      "+---------------------------------+----------+---------------------------------+\n",
      "| id                              | name     | subnets                         |\n",
      "+---------------------------------+----------+---------------------------------+\n",
      "| 17e4bba8-2a15-46fb-             | public   | a271b0a1-c912-492c-858e-        |\n",
      "| ab54-fb463aee503c               |          | d5bd41888246                    |\n",
      "| 6e6eaff6-0f3b-                  | work-net | 54718494-45cf-41e4-8a7e-        |\n",
      "| 4ed6-9e26-fad732dd0362          |          | c4c36ba90d0d 172.16.11.0/24     |\n",
      "+---------------------------------+----------+---------------------------------+\n"
     ]
    }
   ],
   "source": [
    "neutron net-list"
   ]
  },
  {
   "cell_type": "code",
   "execution_count": 20,
   "metadata": {},
   "outputs": [
    {
     "name": "stdout",
     "output_type": "stream",
     "text": [
      "Added interface 8bfa4a6b-aac1-4ffc-9fd6-a872d194fdd6 to router Ext-Router.\n"
     ]
    }
   ],
   "source": [
    "neutron router-interface-add Ext-Router work-subnet"
   ]
  },
  {
   "cell_type": "markdown",
   "metadata": {},
   "source": [
    "#### 仮想マシンを起動します。\n",
    "この時、仮想マシンは先程作成した仮想ネットワークへ接続を行います。\n",
    "Cirrosというテスト用のOSイメージを使って仮想マシンを作成します。この仮想マシンは非常にコンパクトでこのようなテストや演習に最適です。\n",
    "本番環境で利用する際には、CentOSやRHELのイメージを登録しておき、そのイメージを利用します。"
   ]
  },
  {
   "cell_type": "code",
   "execution_count": 34,
   "metadata": {},
   "outputs": [
    {
     "name": "stdout",
     "output_type": "stream",
     "text": [
      "+--------------------------------------+-----------------------------------------------------+\n",
      "| Property                             | Value                                               |\n",
      "+--------------------------------------+-----------------------------------------------------+\n",
      "| OS-DCF:diskConfig                    | MANUAL                                              |\n",
      "| OS-EXT-AZ:availability_zone          |                                                     |\n",
      "| OS-EXT-STS:power_state               | 0                                                   |\n",
      "| OS-EXT-STS:task_state                | scheduling                                          |\n",
      "| OS-EXT-STS:vm_state                  | building                                            |\n",
      "| OS-SRV-USG:launched_at               | -                                                   |\n",
      "| OS-SRV-USG:terminated_at             | -                                                   |\n",
      "| accessIPv4                           |                                                     |\n",
      "| accessIPv6                           |                                                     |\n",
      "| adminPass                            | Sj8FGTX5Hfe2                                        |\n",
      "| config_drive                         |                                                     |\n",
      "| created                              | 2017-05-21T09:44:36Z                                |\n",
      "| description                          | -                                                   |\n",
      "| flavor                               | m1.tiny (1)                                         |\n",
      "| hostId                               |                                                     |\n",
      "| id                                   | b584bbde-38d3-41e5-a062-784b55d56aa0                |\n",
      "| image                                | cirros-0.3.5 (66722486-ac79-4cd2-9a7d-c2479a9f6f92) |\n",
      "| key_name                             | my-key                                              |\n",
      "| locked                               | False                                               |\n",
      "| metadata                             | {}                                                  |\n",
      "| name                                 | test-vm-1                                           |\n",
      "| os-extended-volumes:volumes_attached | []                                                  |\n",
      "| progress                             | 0                                                   |\n",
      "| security_groups                      | open-all                                            |\n",
      "| status                               | BUILD                                               |\n",
      "| tags                                 | []                                                  |\n",
      "| tenant_id                            | 44be7b065a154e33aacbe7dbca18c6be                    |\n",
      "| updated                              | 2017-05-21T09:44:36Z                                |\n",
      "| user_id                              | 8e9f38ff948143899c04c764848ef8d3                    |\n",
      "+--------------------------------------+-----------------------------------------------------+\n"
     ]
    }
   ],
   "source": [
    "function get_uuid () { cat - | grep \" id \" | awk '{print $4}'; }\n",
    "export MY_WORK_NET=`neutron net-show work-net | get_uuid`\n",
    "\n",
    "nova boot --flavor m1.tiny --image \"cirros-0.3.5\" \\\n",
    "--key-name my-key --security-groups open-all \\\n",
    "--nic net-id=${MY_WORK_NET} \\\n",
    "test-vm-1"
   ]
  },
  {
   "cell_type": "markdown",
   "metadata": {},
   "source": [
    "仮想マシンの起動を確認します。"
   ]
  },
  {
   "cell_type": "code",
   "execution_count": 35,
   "metadata": {},
   "outputs": [
    {
     "name": "stdout",
     "output_type": "stream",
     "text": [
      "+--------------------------------------+-----------+--------+------------+-------------+----------+\n",
      "| ID                                   | Name      | Status | Task State | Power State | Networks |\n",
      "+--------------------------------------+-----------+--------+------------+-------------+----------+\n",
      "| b584bbde-38d3-41e5-a062-784b55d56aa0 | test-vm-1 | BUILD  | spawning   | NOSTATE     |          |\n",
      "+--------------------------------------+-----------+--------+------------+-------------+----------+\n"
     ]
    }
   ],
   "source": [
    "nova list"
   ]
  },
  {
   "cell_type": "markdown",
   "metadata": {},
   "source": [
    "ACTIVE状態になるまで待機します。この時、仮想マシンに割り当てられたIPアドレスをメモしておきます。"
   ]
  },
  {
   "cell_type": "code",
   "execution_count": 37,
   "metadata": {},
   "outputs": [
    {
     "name": "stdout",
     "output_type": "stream",
     "text": [
      "+--------------------------------------+-----------+--------+------------+-------------+----------------------+\n",
      "| ID                                   | Name      | Status | Task State | Power State | Networks             |\n",
      "+--------------------------------------+-----------+--------+------------+-------------+----------------------+\n",
      "| b584bbde-38d3-41e5-a062-784b55d56aa0 | test-vm-1 | ACTIVE | -          | Running     | work-net=172.16.11.9 |\n",
      "+--------------------------------------+-----------+--------+------------+-------------+----------------------+\n"
     ]
    }
   ],
   "source": [
    "nova list"
   ]
  },
  {
   "cell_type": "markdown",
   "metadata": {},
   "source": [
    "#### Floating IPの割り当て\n",
    "作成した仮想マシンは自分で作成した内部ネットワークに接続されており、仮想マシン→外部 の接続は可能ですが、外部→仮想マシンの接続は行なえません。\n",
    "Floating IPを仮想マシンに割り当てて、外部→仮想マシンの接続が行えるようにします。\n",
    "Floating IPとは、外部ネットワーク（ここではpublic）のIPアドレスを仮想マシンへNATするための機能です。"
   ]
  },
  {
   "cell_type": "code",
   "execution_count": 24,
   "metadata": {},
   "outputs": [
    {
     "name": "stdout",
     "output_type": "stream",
     "text": [
      "Created a new floatingip:\n",
      "+---------------------+--------------------------------------+\n",
      "| Field               | Value                                |\n",
      "+---------------------+--------------------------------------+\n",
      "| created_at          | 2017-05-21T09:33:25Z                 |\n",
      "| description         |                                      |\n",
      "| fixed_ip_address    |                                      |\n",
      "| floating_ip_address | 192.168.99.205                       |\n",
      "| floating_network_id | 17e4bba8-2a15-46fb-ab54-fb463aee503c |\n",
      "| id                  | 768f424b-216d-40e4-9511-5d9c2de7ecc7 |\n",
      "| port_id             |                                      |\n",
      "| project_id          | 44be7b065a154e33aacbe7dbca18c6be     |\n",
      "| revision_number     | 1                                    |\n",
      "| router_id           |                                      |\n",
      "| status              | DOWN                                 |\n",
      "| tenant_id           | 44be7b065a154e33aacbe7dbca18c6be     |\n",
      "| updated_at          | 2017-05-21T09:33:25Z                 |\n",
      "+---------------------+--------------------------------------+\n"
     ]
    }
   ],
   "source": [
    "neutron floatingip-create public"
   ]
  },
  {
   "cell_type": "markdown",
   "metadata": {
    "collapsed": true
   },
   "source": [
    "ここで表示されるUUIDをメモしておきます。"
   ]
  },
  {
   "cell_type": "code",
   "execution_count": 25,
   "metadata": {},
   "outputs": [
    {
     "name": "stdout",
     "output_type": "stream",
     "text": [
      "+------------------------+------------------+---------------------+---------+\n",
      "| id                     | fixed_ip_address | floating_ip_address | port_id |\n",
      "+------------------------+------------------+---------------------+---------+\n",
      "| 768f424b-216d-         |                  | 192.168.99.205      |         |\n",
      "| 40e4-9511-5d9c2de7ecc7 |                  |                     |         |\n",
      "+------------------------+------------------+---------------------+---------+\n"
     ]
    }
   ],
   "source": [
    "neutron floatingip-list"
   ]
  },
  {
   "cell_type": "markdown",
   "metadata": {
    "collapsed": true
   },
   "source": [
    "ここで表示される 172.16.11.xx のIPを持つポートのUUIDをメモしておきます（仮想サーバーに割り当っているIP）"
   ]
  },
  {
   "cell_type": "code",
   "execution_count": 38,
   "metadata": {},
   "outputs": [
    {
     "name": "stdout",
     "output_type": "stream",
     "text": [
      "+-----------------------+------+-------------------+-----------------------+\n",
      "| id                    | name | mac_address       | fixed_ips             |\n",
      "+-----------------------+------+-------------------+-----------------------+\n",
      "| 681879b1-53c0-495c-   |      | fa:16:3e:ef:eb:c1 | {\"subnet_id\":         |\n",
      "| 8ce1-3eb69bb189bb     |      |                   | \"54718494-45cf-41e4   |\n",
      "|                       |      |                   | -8a7e-c4c36ba90d0d\",  |\n",
      "|                       |      |                   | \"ip_address\":         |\n",
      "|                       |      |                   | \"172.16.11.9\"}        |\n",
      "| 8bfa4a6b-aac1-4ffc-   |      | fa:16:3e:ba:53:67 | {\"subnet_id\":         |\n",
      "| 9fd6-a872d194fdd6     |      |                   | \"54718494-45cf-41e4   |\n",
      "|                       |      |                   | -8a7e-c4c36ba90d0d\",  |\n",
      "|                       |      |                   | \"ip_address\":         |\n",
      "|                       |      |                   | \"172.16.11.254\"}      |\n",
      "| e860040f-d97d-4e4a-   |      | fa:16:3e:5a:65:20 | {\"subnet_id\":         |\n",
      "| aa21-40e527a70cef     |      |                   | \"54718494-45cf-41e4   |\n",
      "|                       |      |                   | -8a7e-c4c36ba90d0d\",  |\n",
      "|                       |      |                   | \"ip_address\":         |\n",
      "|                       |      |                   | \"172.16.11.1\"}        |\n",
      "+-----------------------+------+-------------------+-----------------------+\n"
     ]
    }
   ],
   "source": [
    "neutron port-list"
   ]
  },
  {
   "cell_type": "markdown",
   "metadata": {},
   "source": [
    "コマンドの引数として、 **Floating IPのUUID** **PortのUUID** の順で指定します"
   ]
  },
  {
   "cell_type": "code",
   "execution_count": 39,
   "metadata": {},
   "outputs": [
    {
     "name": "stdout",
     "output_type": "stream",
     "text": [
      "Associated floating IP 768f424b-216d-40e4-9511-5d9c2de7ecc7\n"
     ]
    }
   ],
   "source": [
    "neutron floatingip-associate 768f424b-216d-40e4-9511-5d9c2de7ecc7 681879b1-53c0-495c-8ce1-3eb69bb189bb"
   ]
  },
  {
   "cell_type": "code",
   "execution_count": 40,
   "metadata": {},
   "outputs": [
    {
     "name": "stdout",
     "output_type": "stream",
     "text": [
      "+--------------------------------------+-----------+--------+------------+-------------+--------------------------------------+\n",
      "| ID                                   | Name      | Status | Task State | Power State | Networks                             |\n",
      "+--------------------------------------+-----------+--------+------------+-------------+--------------------------------------+\n",
      "| b584bbde-38d3-41e5-a062-784b55d56aa0 | test-vm-1 | ACTIVE | -          | Running     | work-net=172.16.11.9, 192.168.99.205 |\n",
      "+--------------------------------------+-----------+--------+------------+-------------+--------------------------------------+\n"
     ]
    }
   ],
   "source": [
    "nova list"
   ]
  },
  {
   "cell_type": "markdown",
   "metadata": {},
   "source": [
    "付与されたFloating IPへSSH接続します。\n",
    "自分のノートPCのSSHか、仮想アプライアンスから実行してください。\n",
    "\n",
    "この時に、/home/openstack/my-key.pem がログインするための秘密鍵になります（あらかじめ今回の演習用に作成して配置したものになります）"
   ]
  },
  {
   "cell_type": "code",
   "execution_count": 31,
   "metadata": {},
   "outputs": [
    {
     "name": "stdout",
     "output_type": "stream",
     "text": [
      "Warning: Permanently added '192.168.99.205' (RSA) to the list of known hosts.\n",
      "test-vm-1\n"
     ]
    }
   ],
   "source": [
    "ssh -oStrictHostKeyChecking=no -i ~/my-key.pem cirros@192.168.99.205 hostname"
   ]
  },
  {
   "cell_type": "markdown",
   "metadata": {},
   "source": [
    "#### 後片付け\n",
    "仮想マシンを削除し、割り当てたFloating IPも解除しておきます。"
   ]
  },
  {
   "cell_type": "code",
   "execution_count": 41,
   "metadata": {},
   "outputs": [
    {
     "name": "stdout",
     "output_type": "stream",
     "text": [
      "Request to delete server test-vm-1 has been accepted.\n"
     ]
    }
   ],
   "source": [
    "nova delete test-vm-1"
   ]
  },
  {
   "cell_type": "code",
   "execution_count": 42,
   "metadata": {},
   "outputs": [
    {
     "name": "stdout",
     "output_type": "stream",
     "text": [
      "+----+------+--------+------------+-------------+----------+\n",
      "| ID | Name | Status | Task State | Power State | Networks |\n",
      "+----+------+--------+------------+-------------+----------+\n",
      "+----+------+--------+------------+-------------+----------+\n"
     ]
    }
   ],
   "source": [
    "nova list"
   ]
  },
  {
   "cell_type": "markdown",
   "metadata": {},
   "source": [
    "以下で指定するUUIDは、上で作成したFloating IPのUUIDです。"
   ]
  },
  {
   "cell_type": "code",
   "execution_count": 43,
   "metadata": {},
   "outputs": [
    {
     "name": "stdout",
     "output_type": "stream",
     "text": [
      "Deleted floatingip(s): 768f424b-216d-40e4-9511-5d9c2de7ecc7\n"
     ]
    }
   ],
   "source": [
    "neutron floatingip-delete 768f424b-216d-40e4-9511-5d9c2de7ecc7"
   ]
  },
  {
   "cell_type": "code",
   "execution_count": 44,
   "metadata": {},
   "outputs": [
    {
     "name": "stdout",
     "output_type": "stream",
     "text": [
      "\n"
     ]
    }
   ],
   "source": [
    "neutron floatingip-list"
   ]
  }
 ],
 "metadata": {
  "kernelspec": {
   "display_name": "Bash",
   "language": "bash",
   "name": "bash"
  },
  "language_info": {
   "codemirror_mode": "shell",
   "file_extension": ".sh",
   "mimetype": "text/x-sh",
   "name": "bash"
  }
 },
 "nbformat": 4,
 "nbformat_minor": 2
}
