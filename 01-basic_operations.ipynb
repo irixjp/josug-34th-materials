{
 "cells": [
  {
   "cell_type": "markdown",
   "metadata": {},
   "source": [
    "### 基礎的な操作"
   ]
  },
  {
   "cell_type": "markdown",
   "metadata": {},
   "source": [
    "#### 初期状態の確認（openstack/openstack でログイン）\n",
    "初期状態では、管理者が設定する public ネットワーク、Cirrosイメージ作成されています。\n",
    "みなさんがユーザとしてOpenStackを使う場合は、この状態からのスタートになります。"
   ]
  },
  {
   "cell_type": "code",
   "execution_count": 1,
   "metadata": {},
   "outputs": [
    {
     "name": "stdout",
     "output_type": "stream",
     "text": [
      "+----+------+--------+------------+-------------+----------+\n",
      "| ID | Name | Status | Task State | Power State | Networks |\n",
      "+----+------+--------+------------+-------------+----------+\n",
      "+----+------+--------+------------+-------------+----------+\n"
     ]
    }
   ],
   "source": [
    "nova list"
   ]
  },
  {
   "cell_type": "code",
   "execution_count": 2,
   "metadata": {},
   "outputs": [
    {
     "name": "stdout",
     "output_type": "stream",
     "text": [
      "+----------------------------------+--------+----------------------------------+\n",
      "| id                               | name   | subnets                          |\n",
      "+----------------------------------+--------+----------------------------------+\n",
      "| 17e4bba8-2a15-46fb-              | public | a271b0a1-c912-492c-858e-         |\n",
      "| ab54-fb463aee503c                |        | d5bd41888246                     |\n",
      "+----------------------------------+--------+----------------------------------+\n"
     ]
    }
   ],
   "source": [
    "neutron net-list"
   ]
  },
  {
   "cell_type": "code",
   "execution_count": 3,
   "metadata": {},
   "outputs": [
    {
     "name": "stdout",
     "output_type": "stream",
     "text": [
      "+--------+------+-------------------------------------------------+\n",
      "| Name   | Type | Fingerprint                                     |\n",
      "+--------+------+-------------------------------------------------+\n",
      "| my-key | ssh  | 43:0f:f5:b3:3e:ab:b7:1b:6a:a9:fc:65:4a:e6:42:89 |\n",
      "+--------+------+-------------------------------------------------+\n"
     ]
    }
   ],
   "source": [
    "nova keypair-list"
   ]
  },
  {
   "cell_type": "code",
   "execution_count": 4,
   "metadata": {},
   "outputs": [
    {
     "name": "stdout",
     "output_type": "stream",
     "text": [
      "+--------------------------------------+--------------+--------+\n",
      "| ID                                   | Name         | Status |\n",
      "+--------------------------------------+--------------+--------+\n",
      "| 66722486-ac79-4cd2-9a7d-c2479a9f6f92 | cirros-0.3.5 | active |\n",
      "+--------------------------------------+--------------+--------+\n"
     ]
    }
   ],
   "source": [
    "openstack image list"
   ]
  },
  {
   "cell_type": "code",
   "execution_count": 5,
   "metadata": {},
   "outputs": [
    {
     "name": "stdout",
     "output_type": "stream",
     "text": [
      "+----+-----------+-----------+------+-----------+------+-------+-------------+-----------+\n",
      "| ID | Name      | Memory_MB | Disk | Ephemeral | Swap | VCPUs | RXTX_Factor | Is_Public |\n",
      "+----+-----------+-----------+------+-----------+------+-------+-------------+-----------+\n",
      "| 1  | m1.tiny   | 512       | 1    | 0         |      | 1     | 1.0         | True      |\n",
      "| 2  | m1.small  | 2048      | 20   | 0         |      | 1     | 1.0         | True      |\n",
      "| 3  | m1.medium | 4096      | 40   | 0         |      | 2     | 1.0         | True      |\n",
      "| 4  | m1.large  | 8192      | 80   | 0         |      | 4     | 1.0         | True      |\n",
      "| 5  | m1.xlarge | 16384     | 160  | 0         |      | 8     | 1.0         | True      |\n",
      "+----+-----------+-----------+------+-----------+------+-------+-------------+-----------+\n"
     ]
    }
   ],
   "source": [
    "nova flavor-list"
   ]
  },
  {
   "cell_type": "code",
   "execution_count": 1,
   "metadata": {},
   "outputs": [
    {
     "name": "stdout",
     "output_type": "stream",
     "text": [
      "+---------------------------------+----------+---------------------------------+\n",
      "| id                              | name     | security_group_rules            |\n",
      "+---------------------------------+----------+---------------------------------+\n",
      "| 43a9ef6f-2cf2-484f-a37a-        | default  | egress, IPv4                    |\n",
      "| d45a290ac5db                    |          | egress, IPv6                    |\n",
      "|                                 |          | ingress, IPv4, remote_group_id: |\n",
      "|                                 |          | 43a9ef6f-2cf2-484f-a37a-        |\n",
      "|                                 |          | d45a290ac5db                    |\n",
      "|                                 |          | ingress, IPv6, remote_group_id: |\n",
      "|                                 |          | 43a9ef6f-2cf2-484f-a37a-        |\n",
      "|                                 |          | d45a290ac5db                    |\n",
      "| b366a40b-4a47-4fbc-             | open-all | egress, IPv4                    |\n",
      "| af51-4e214a29530d               |          | egress, IPv6                    |\n",
      "|                                 |          | ingress, IPv4, 1-65535/tcp,     |\n",
      "|                                 |          | remote_ip_prefix: 0.0.0.0/0     |\n",
      "|                                 |          | ingress, IPv4, 1-65535/udp,     |\n",
      "|                                 |          | remote_ip_prefix: 0.0.0.0/0     |\n",
      "|                                 |          | ingress, IPv4, icmp,            |\n",
      "|                                 |          | remote_ip_prefix: 0.0.0.0/0     |\n",
      "+---------------------------------+----------+---------------------------------+\n"
     ]
    }
   ],
   "source": [
    "neutron security-group-list"
   ]
  },
  {
   "cell_type": "markdown",
   "metadata": {
    "collapsed": true
   },
   "source": [
    "### 基本的な操作"
   ]
  },
  {
   "cell_type": "markdown",
   "metadata": {},
   "source": [
    "#### 仮想ルーターの作成"
   ]
  },
  {
   "cell_type": "code",
   "execution_count": 2,
   "metadata": {},
   "outputs": [
    {
     "name": "stdout",
     "output_type": "stream",
     "text": [
      "Created a new router:\n",
      "+-------------------------+--------------------------------------+\n",
      "| Field                   | Value                                |\n",
      "+-------------------------+--------------------------------------+\n",
      "| admin_state_up          | True                                 |\n",
      "| availability_zone_hints |                                      |\n",
      "| availability_zones      |                                      |\n",
      "| created_at              | 2017-05-14T12:16:27Z                 |\n",
      "| description             |                                      |\n",
      "| external_gateway_info   |                                      |\n",
      "| flavor_id               |                                      |\n",
      "| id                      | c0b2618b-4d52-4487-96b0-838a33f4dee0 |\n",
      "| name                    | Ext-Router                           |\n",
      "| project_id              | 44be7b065a154e33aacbe7dbca18c6be     |\n",
      "| revision_number         | 3                                    |\n",
      "| routes                  |                                      |\n",
      "| status                  | ACTIVE                               |\n",
      "| tenant_id               | 44be7b065a154e33aacbe7dbca18c6be     |\n",
      "| updated_at              | 2017-05-14T12:16:27Z                 |\n",
      "+-------------------------+--------------------------------------+\n"
     ]
    }
   ],
   "source": [
    "neutron router-create Ext-Router"
   ]
  },
  {
   "cell_type": "code",
   "execution_count": 3,
   "metadata": {},
   "outputs": [
    {
     "name": "stdout",
     "output_type": "stream",
     "text": [
      "+--------------------------------------+------------+-----------------------+\n",
      "| id                                   | name       | external_gateway_info |\n",
      "+--------------------------------------+------------+-----------------------+\n",
      "| c0b2618b-4d52-4487-96b0-838a33f4dee0 | Ext-Router | null                  |\n",
      "+--------------------------------------+------------+-----------------------+\n"
     ]
    }
   ],
   "source": [
    "neutron router-list"
   ]
  },
  {
   "cell_type": "code",
   "execution_count": 4,
   "metadata": {},
   "outputs": [
    {
     "name": "stdout",
     "output_type": "stream",
     "text": [
      "Set gateway for router Ext-Router\n"
     ]
    }
   ],
   "source": [
    "neutron router-gateway-set Ext-Router public"
   ]
  },
  {
   "cell_type": "code",
   "execution_count": 5,
   "metadata": {},
   "outputs": [
    {
     "name": "stdout",
     "output_type": "stream",
     "text": [
      "+--------------------------------+------------+--------------------------------+\n",
      "| id                             | name       | external_gateway_info          |\n",
      "+--------------------------------+------------+--------------------------------+\n",
      "| c0b2618b-                      | Ext-Router | {\"network_id\": \"17e4bba8-2a15  |\n",
      "| 4d52-4487-96b0-838a33f4dee0    |            | -46fb-ab54-fb463aee503c\",      |\n",
      "|                                |            | \"enable_snat\": true,           |\n",
      "|                                |            | \"external_fixed_ips\":          |\n",
      "|                                |            | [{\"subnet_id\": \"a271b0a1-c912  |\n",
      "|                                |            | -492c-858e-d5bd41888246\",      |\n",
      "|                                |            | \"ip_address\":                  |\n",
      "|                                |            | \"192.168.99.201\"}]}            |\n",
      "+--------------------------------+------------+--------------------------------+\n"
     ]
    }
   ],
   "source": [
    "neutron router-list"
   ]
  },
  {
   "cell_type": "markdown",
   "metadata": {},
   "source": [
    "#### 仮想ネットワークの作成"
   ]
  },
  {
   "cell_type": "code",
   "execution_count": 8,
   "metadata": {},
   "outputs": [
    {
     "name": "stdout",
     "output_type": "stream",
     "text": [
      "Created a new network:\n",
      "+-------------------------+--------------------------------------+\n",
      "| Field                   | Value                                |\n",
      "+-------------------------+--------------------------------------+\n",
      "| admin_state_up          | True                                 |\n",
      "| availability_zone_hints |                                      |\n",
      "| availability_zones      |                                      |\n",
      "| created_at              | 2017-05-14T12:18:32Z                 |\n",
      "| description             |                                      |\n",
      "| id                      | ad8db5b8-fbab-4652-b858-f0302eb0d1d6 |\n",
      "| ipv4_address_scope      |                                      |\n",
      "| ipv6_address_scope      |                                      |\n",
      "| mtu                     | 1450                                 |\n",
      "| name                    | work-net                             |\n",
      "| project_id              | 44be7b065a154e33aacbe7dbca18c6be     |\n",
      "| revision_number         | 2                                    |\n",
      "| router:external         | False                                |\n",
      "| shared                  | False                                |\n",
      "| status                  | ACTIVE                               |\n",
      "| subnets                 |                                      |\n",
      "| tags                    |                                      |\n",
      "| tenant_id               | 44be7b065a154e33aacbe7dbca18c6be     |\n",
      "| updated_at              | 2017-05-14T12:18:32Z                 |\n",
      "+-------------------------+--------------------------------------+\n"
     ]
    }
   ],
   "source": [
    "neutron net-create work-net"
   ]
  },
  {
   "cell_type": "code",
   "execution_count": 9,
   "metadata": {},
   "outputs": [
    {
     "name": "stdout",
     "output_type": "stream",
     "text": [
      "+---------------------------------+----------+---------------------------------+\n",
      "| id                              | name     | subnets                         |\n",
      "+---------------------------------+----------+---------------------------------+\n",
      "| 17e4bba8-2a15-46fb-             | public   | a271b0a1-c912-492c-858e-        |\n",
      "| ab54-fb463aee503c               |          | d5bd41888246                    |\n",
      "| ad8db5b8-fbab-4652-b858-f0302eb | work-net |                                 |\n",
      "| 0d1d6                           |          |                                 |\n",
      "+---------------------------------+----------+---------------------------------+\n"
     ]
    }
   ],
   "source": [
    "neutron net-list"
   ]
  },
  {
   "cell_type": "code",
   "execution_count": 10,
   "metadata": {},
   "outputs": [
    {
     "name": "stdout",
     "output_type": "stream",
     "text": [
      "Created a new subnet:\n",
      "+-------------------+--------------------------------------------------+\n",
      "| Field             | Value                                            |\n",
      "+-------------------+--------------------------------------------------+\n",
      "| allocation_pools  | {\"start\": \"172.16.11.1\", \"end\": \"172.16.11.253\"} |\n",
      "| cidr              | 172.16.11.0/24                                   |\n",
      "| created_at        | 2017-05-14T12:18:53Z                             |\n",
      "| description       |                                                  |\n",
      "| dns_nameservers   |                                                  |\n",
      "| enable_dhcp       | True                                             |\n",
      "| gateway_ip        | 172.16.11.254                                    |\n",
      "| host_routes       |                                                  |\n",
      "| id                | 505f1bc3-b02e-4ab5-b52a-a31ecbb315c5             |\n",
      "| ip_version        | 4                                                |\n",
      "| ipv6_address_mode |                                                  |\n",
      "| ipv6_ra_mode      |                                                  |\n",
      "| name              | work-subnet                                      |\n",
      "| network_id        | ad8db5b8-fbab-4652-b858-f0302eb0d1d6             |\n",
      "| project_id        | 44be7b065a154e33aacbe7dbca18c6be                 |\n",
      "| revision_number   | 2                                                |\n",
      "| service_types     |                                                  |\n",
      "| subnetpool_id     |                                                  |\n",
      "| tenant_id         | 44be7b065a154e33aacbe7dbca18c6be                 |\n",
      "| updated_at        | 2017-05-14T12:18:53Z                             |\n",
      "+-------------------+--------------------------------------------------+\n"
     ]
    }
   ],
   "source": [
    "neutron subnet-create --ip-version 4 --gateway 172.16.11.254 --name work-subnet work-net 172.16.11.0/24"
   ]
  },
  {
   "cell_type": "code",
   "execution_count": 11,
   "metadata": {},
   "outputs": [
    {
     "name": "stdout",
     "output_type": "stream",
     "text": [
      "+---------------------------------+----------+---------------------------------+\n",
      "| id                              | name     | subnets                         |\n",
      "+---------------------------------+----------+---------------------------------+\n",
      "| 17e4bba8-2a15-46fb-             | public   | a271b0a1-c912-492c-858e-        |\n",
      "| ab54-fb463aee503c               |          | d5bd41888246                    |\n",
      "| ad8db5b8-fbab-4652-b858-f0302eb | work-net | 505f1bc3-b02e-4ab5-b52a-        |\n",
      "| 0d1d6                           |          | a31ecbb315c5 172.16.11.0/24     |\n",
      "+---------------------------------+----------+---------------------------------+\n"
     ]
    }
   ],
   "source": [
    "neutron net-list"
   ]
  },
  {
   "cell_type": "code",
   "execution_count": 12,
   "metadata": {},
   "outputs": [
    {
     "name": "stdout",
     "output_type": "stream",
     "text": [
      "Added interface 17929ded-b28d-4add-ba81-aa9f7df7f643 to router Ext-Router.\n"
     ]
    }
   ],
   "source": [
    "neutron router-interface-add Ext-Router work-subnet"
   ]
  },
  {
   "cell_type": "code",
   "execution_count": 19,
   "metadata": {},
   "outputs": [
    {
     "name": "stdout",
     "output_type": "stream",
     "text": [
      "+--------------------------------------+-----------------------------------------------------+\n",
      "| Property                             | Value                                               |\n",
      "+--------------------------------------+-----------------------------------------------------+\n",
      "| OS-DCF:diskConfig                    | MANUAL                                              |\n",
      "| OS-EXT-AZ:availability_zone          |                                                     |\n",
      "| OS-EXT-STS:power_state               | 0                                                   |\n",
      "| OS-EXT-STS:task_state                | scheduling                                          |\n",
      "| OS-EXT-STS:vm_state                  | building                                            |\n",
      "| OS-SRV-USG:launched_at               | -                                                   |\n",
      "| OS-SRV-USG:terminated_at             | -                                                   |\n",
      "| accessIPv4                           |                                                     |\n",
      "| accessIPv6                           |                                                     |\n",
      "| adminPass                            | dsTVGD4pVrt2                                        |\n",
      "| config_drive                         |                                                     |\n",
      "| created                              | 2017-05-14T12:21:18Z                                |\n",
      "| description                          | -                                                   |\n",
      "| flavor                               | m1.tiny (1)                                         |\n",
      "| hostId                               |                                                     |\n",
      "| id                                   | 765d3172-3e07-4b48-94d8-cdae4fc3af8e                |\n",
      "| image                                | cirros-0.3.5 (66722486-ac79-4cd2-9a7d-c2479a9f6f92) |\n",
      "| key_name                             | my-key                                              |\n",
      "| locked                               | False                                               |\n",
      "| metadata                             | {}                                                  |\n",
      "| name                                 | test-vm-1                                           |\n",
      "| os-extended-volumes:volumes_attached | []                                                  |\n",
      "| progress                             | 0                                                   |\n",
      "| security_groups                      | open-all                                            |\n",
      "| status                               | BUILD                                               |\n",
      "| tags                                 | []                                                  |\n",
      "| tenant_id                            | 44be7b065a154e33aacbe7dbca18c6be                    |\n",
      "| updated                              | 2017-05-14T12:21:18Z                                |\n",
      "| user_id                              | 8e9f38ff948143899c04c764848ef8d3                    |\n",
      "+--------------------------------------+-----------------------------------------------------+\n"
     ]
    }
   ],
   "source": [
    "function get_uuid () { cat - | grep \" id \" | awk '{print $4}'; }\n",
    "export MY_WORK_NET=`neutron net-show work-net | get_uuid`\n",
    "\n",
    "nova boot --flavor m1.tiny --image \"cirros-0.3.5\" \\\n",
    "--key-name my-key --security-groups open-all \\\n",
    "--nic net-id=${MY_WORK_NET} \\\n",
    "test-vm-1"
   ]
  },
  {
   "cell_type": "code",
   "execution_count": 20,
   "metadata": {},
   "outputs": [
    {
     "name": "stdout",
     "output_type": "stream",
     "text": [
      "+--------------------------------------+-----------+--------+------------+-------------+----------+\n",
      "| ID                                   | Name      | Status | Task State | Power State | Networks |\n",
      "+--------------------------------------+-----------+--------+------------+-------------+----------+\n",
      "| 765d3172-3e07-4b48-94d8-cdae4fc3af8e | test-vm-1 | BUILD  | networking | NOSTATE     |          |\n",
      "+--------------------------------------+-----------+--------+------------+-------------+----------+\n"
     ]
    }
   ],
   "source": [
    "nova list"
   ]
  },
  {
   "cell_type": "code",
   "execution_count": 22,
   "metadata": {},
   "outputs": [
    {
     "name": "stdout",
     "output_type": "stream",
     "text": [
      "+--------------------------------------+-----------+--------+------------+-------------+----------------------+\n",
      "| ID                                   | Name      | Status | Task State | Power State | Networks             |\n",
      "+--------------------------------------+-----------+--------+------------+-------------+----------------------+\n",
      "| 765d3172-3e07-4b48-94d8-cdae4fc3af8e | test-vm-1 | ACTIVE | -          | Running     | work-net=172.16.11.6 |\n",
      "+--------------------------------------+-----------+--------+------------+-------------+----------------------+\n"
     ]
    }
   ],
   "source": [
    "nova list"
   ]
  },
  {
   "cell_type": "markdown",
   "metadata": {},
   "source": [
    "#### Floating IPの割り当て"
   ]
  },
  {
   "cell_type": "code",
   "execution_count": 23,
   "metadata": {},
   "outputs": [
    {
     "name": "stdout",
     "output_type": "stream",
     "text": [
      "Created a new floatingip:\n",
      "+---------------------+--------------------------------------+\n",
      "| Field               | Value                                |\n",
      "+---------------------+--------------------------------------+\n",
      "| created_at          | 2017-05-14T12:24:11Z                 |\n",
      "| description         |                                      |\n",
      "| fixed_ip_address    |                                      |\n",
      "| floating_ip_address | 192.168.99.200                       |\n",
      "| floating_network_id | 17e4bba8-2a15-46fb-ab54-fb463aee503c |\n",
      "| id                  | 43def5ed-cbba-4f34-90ff-6cf859745e65 |\n",
      "| port_id             |                                      |\n",
      "| project_id          | 44be7b065a154e33aacbe7dbca18c6be     |\n",
      "| revision_number     | 1                                    |\n",
      "| router_id           |                                      |\n",
      "| status              | DOWN                                 |\n",
      "| tenant_id           | 44be7b065a154e33aacbe7dbca18c6be     |\n",
      "| updated_at          | 2017-05-14T12:24:11Z                 |\n",
      "+---------------------+--------------------------------------+\n"
     ]
    }
   ],
   "source": [
    "neutron floatingip-create public"
   ]
  },
  {
   "cell_type": "code",
   "execution_count": 25,
   "metadata": {},
   "outputs": [
    {
     "name": "stdout",
     "output_type": "stream",
     "text": [
      "+------------------------+------------------+---------------------+---------+\n",
      "| id                     | fixed_ip_address | floating_ip_address | port_id |\n",
      "+------------------------+------------------+---------------------+---------+\n",
      "| 43def5ed-cbba-4f34     |                  | 192.168.99.200      |         |\n",
      "| -90ff-6cf859745e65     |                  |                     |         |\n",
      "+------------------------+------------------+---------------------+---------+\n"
     ]
    }
   ],
   "source": [
    "neutron floatingip-list"
   ]
  },
  {
   "cell_type": "code",
   "execution_count": 24,
   "metadata": {},
   "outputs": [
    {
     "name": "stdout",
     "output_type": "stream",
     "text": [
      "+-----------------------+------+-------------------+-----------------------+\n",
      "| id                    | name | mac_address       | fixed_ips             |\n",
      "+-----------------------+------+-------------------+-----------------------+\n",
      "| 17929ded-b28d-4add-   |      | fa:16:3e:80:67:a6 | {\"subnet_id\":         |\n",
      "| ba81-aa9f7df7f643     |      |                   | \"505f1bc3-b02e-4ab5   |\n",
      "|                       |      |                   | -b52a-a31ecbb315c5\",  |\n",
      "|                       |      |                   | \"ip_address\":         |\n",
      "|                       |      |                   | \"172.16.11.254\"}      |\n",
      "| 2cbc3526-c4f5-40c8    |      | fa:16:3e:3f:7a:b5 | {\"subnet_id\":         |\n",
      "| -82ac-57b75aaee0d4    |      |                   | \"505f1bc3-b02e-4ab5   |\n",
      "|                       |      |                   | -b52a-a31ecbb315c5\",  |\n",
      "|                       |      |                   | \"ip_address\":         |\n",
      "|                       |      |                   | \"172.16.11.1\"}        |\n",
      "| e1d438d5-8a35-490c-   |      | fa:16:3e:45:c8:35 | {\"subnet_id\":         |\n",
      "| af7a-fa5e10aeee28     |      |                   | \"505f1bc3-b02e-4ab5   |\n",
      "|                       |      |                   | -b52a-a31ecbb315c5\",  |\n",
      "|                       |      |                   | \"ip_address\":         |\n",
      "|                       |      |                   | \"172.16.11.6\"}        |\n",
      "+-----------------------+------+-------------------+-----------------------+\n"
     ]
    }
   ],
   "source": [
    "neutron port-list"
   ]
  },
  {
   "cell_type": "code",
   "execution_count": 27,
   "metadata": {},
   "outputs": [
    {
     "name": "stdout",
     "output_type": "stream",
     "text": [
      "Associated floating IP 43def5ed-cbba-4f34-90ff-6cf859745e65\n"
     ]
    }
   ],
   "source": [
    "neutron floatingip-associate 43def5ed-cbba-4f34-90ff-6cf859745e65 e1d438d5-8a35-490c-af7a-fa5e10aeee28"
   ]
  },
  {
   "cell_type": "code",
   "execution_count": 28,
   "metadata": {},
   "outputs": [
    {
     "name": "stdout",
     "output_type": "stream",
     "text": [
      "+--------------------------------------+-----------+--------+------------+-------------+--------------------------------------+\n",
      "| ID                                   | Name      | Status | Task State | Power State | Networks                             |\n",
      "+--------------------------------------+-----------+--------+------------+-------------+--------------------------------------+\n",
      "| 765d3172-3e07-4b48-94d8-cdae4fc3af8e | test-vm-1 | ACTIVE | -          | Running     | work-net=172.16.11.6, 192.168.99.200 |\n",
      "+--------------------------------------+-----------+--------+------------+-------------+--------------------------------------+\n"
     ]
    }
   ],
   "source": [
    "nova list"
   ]
  },
  {
   "cell_type": "code",
   "execution_count": 29,
   "metadata": {},
   "outputs": [
    {
     "name": "stdout",
     "output_type": "stream",
     "text": [
      "Warning: Permanently added '192.168.99.200' (RSA) to the list of known hosts.\n",
      "test-vm-1\n"
     ]
    }
   ],
   "source": [
    "ssh -oStrictHostKeyChecking=no -i my-key.pem cirros@192.168.99.200 hostname"
   ]
  },
  {
   "cell_type": "markdown",
   "metadata": {},
   "source": [
    "#### 後片付け"
   ]
  },
  {
   "cell_type": "code",
   "execution_count": 30,
   "metadata": {},
   "outputs": [
    {
     "name": "stdout",
     "output_type": "stream",
     "text": [
      "Request to delete server test-vm-1 has been accepted.\n"
     ]
    }
   ],
   "source": [
    "nova delete test-vm-1"
   ]
  },
  {
   "cell_type": "code",
   "execution_count": 31,
   "metadata": {},
   "outputs": [
    {
     "name": "stdout",
     "output_type": "stream",
     "text": [
      "+----+------+--------+------------+-------------+----------+\n",
      "| ID | Name | Status | Task State | Power State | Networks |\n",
      "+----+------+--------+------------+-------------+----------+\n",
      "+----+------+--------+------------+-------------+----------+\n"
     ]
    }
   ],
   "source": [
    "nova list"
   ]
  },
  {
   "cell_type": "code",
   "execution_count": 32,
   "metadata": {},
   "outputs": [
    {
     "name": "stdout",
     "output_type": "stream",
     "text": [
      "Deleted floatingip(s): 43def5ed-cbba-4f34-90ff-6cf859745e65\n"
     ]
    }
   ],
   "source": [
    "neutron floatingip-delete 43def5ed-cbba-4f34-90ff-6cf859745e65"
   ]
  },
  {
   "cell_type": "code",
   "execution_count": 33,
   "metadata": {},
   "outputs": [
    {
     "name": "stdout",
     "output_type": "stream",
     "text": [
      "\n"
     ]
    }
   ],
   "source": [
    "neutron floatingip-list"
   ]
  },
  {
   "cell_type": "code",
   "execution_count": null,
   "metadata": {
    "collapsed": true
   },
   "outputs": [],
   "source": []
  }
 ],
 "metadata": {
  "kernelspec": {
   "display_name": "Bash",
   "language": "bash",
   "name": "bash"
  },
  "language_info": {
   "codemirror_mode": "shell",
   "file_extension": ".sh",
   "mimetype": "text/x-sh",
   "name": "bash"
  }
 },
 "nbformat": 4,
 "nbformat_minor": 2
}
